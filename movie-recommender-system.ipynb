{
 "cells": [
  {
   "cell_type": "code",
   "execution_count": 1,
   "id": "b6223b27-eefe-41f5-9077-d135a37a6a04",
   "metadata": {},
   "outputs": [],
   "source": [
    "import numpy as np"
   ]
  },
  {
   "cell_type": "code",
   "execution_count": 2,
   "id": "5b9f88c3-b0b9-4730-98f6-05d7f049a0d5",
   "metadata": {},
   "outputs": [],
   "source": [
    "import pandas as pd"
   ]
  },
  {
   "cell_type": "code",
   "execution_count": 3,
   "id": "e5aae7d4-b859-4075-b7fa-a812777595b4",
   "metadata": {},
   "outputs": [],
   "source": [
    " movies = pd.read_csv(\"tmdb_5000_movies.csv\")\n"
   ]
  },
  {
   "cell_type": "code",
   "execution_count": 4,
   "id": "b1e221b7-83ac-437b-994d-5f73af385d8d",
   "metadata": {},
   "outputs": [],
   "source": [
    "credits = pd.read_csv(\"tmdb_5000_credits.csv\")"
   ]
  },
  {
   "cell_type": "code",
   "execution_count": 5,
   "id": "8f8eb0a2-de28-4192-8f2f-0a67a3f8dfce",
   "metadata": {},
   "outputs": [
    {
     "data": {
      "text/html": [
       "<div>\n",
       "<style scoped>\n",
       "    .dataframe tbody tr th:only-of-type {\n",
       "        vertical-align: middle;\n",
       "    }\n",
       "\n",
       "    .dataframe tbody tr th {\n",
       "        vertical-align: top;\n",
       "    }\n",
       "\n",
       "    .dataframe thead th {\n",
       "        text-align: right;\n",
       "    }\n",
       "</style>\n",
       "<table border=\"1\" class=\"dataframe\">\n",
       "  <thead>\n",
       "    <tr style=\"text-align: right;\">\n",
       "      <th></th>\n",
       "      <th>budget</th>\n",
       "      <th>genres</th>\n",
       "      <th>homepage</th>\n",
       "      <th>id</th>\n",
       "      <th>keywords</th>\n",
       "      <th>original_language</th>\n",
       "      <th>original_title</th>\n",
       "      <th>overview</th>\n",
       "      <th>popularity</th>\n",
       "      <th>production_companies</th>\n",
       "      <th>production_countries</th>\n",
       "      <th>release_date</th>\n",
       "      <th>revenue</th>\n",
       "      <th>runtime</th>\n",
       "      <th>spoken_languages</th>\n",
       "      <th>status</th>\n",
       "      <th>tagline</th>\n",
       "      <th>title</th>\n",
       "      <th>vote_average</th>\n",
       "      <th>vote_count</th>\n",
       "    </tr>\n",
       "  </thead>\n",
       "  <tbody>\n",
       "    <tr>\n",
       "      <th>0</th>\n",
       "      <td>237000000</td>\n",
       "      <td>[{\"id\": 28, \"name\": \"Action\"}, {\"id\": 12, \"nam...</td>\n",
       "      <td>http://www.avatarmovie.com/</td>\n",
       "      <td>19995</td>\n",
       "      <td>[{\"id\": 1463, \"name\": \"culture clash\"}, {\"id\":...</td>\n",
       "      <td>en</td>\n",
       "      <td>Avatar</td>\n",
       "      <td>In the 22nd century, a paraplegic Marine is di...</td>\n",
       "      <td>150.437577</td>\n",
       "      <td>[{\"name\": \"Ingenious Film Partners\", \"id\": 289...</td>\n",
       "      <td>[{\"iso_3166_1\": \"US\", \"name\": \"United States o...</td>\n",
       "      <td>2009-12-10</td>\n",
       "      <td>2787965087</td>\n",
       "      <td>162.0</td>\n",
       "      <td>[{\"iso_639_1\": \"en\", \"name\": \"English\"}, {\"iso...</td>\n",
       "      <td>Released</td>\n",
       "      <td>Enter the World of Pandora.</td>\n",
       "      <td>Avatar</td>\n",
       "      <td>7.2</td>\n",
       "      <td>11800</td>\n",
       "    </tr>\n",
       "  </tbody>\n",
       "</table>\n",
       "</div>"
      ],
      "text/plain": [
       "      budget                                             genres  \\\n",
       "0  237000000  [{\"id\": 28, \"name\": \"Action\"}, {\"id\": 12, \"nam...   \n",
       "\n",
       "                      homepage     id  \\\n",
       "0  http://www.avatarmovie.com/  19995   \n",
       "\n",
       "                                            keywords original_language  \\\n",
       "0  [{\"id\": 1463, \"name\": \"culture clash\"}, {\"id\":...                en   \n",
       "\n",
       "  original_title                                           overview  \\\n",
       "0         Avatar  In the 22nd century, a paraplegic Marine is di...   \n",
       "\n",
       "   popularity                               production_companies  \\\n",
       "0  150.437577  [{\"name\": \"Ingenious Film Partners\", \"id\": 289...   \n",
       "\n",
       "                                production_countries release_date     revenue  \\\n",
       "0  [{\"iso_3166_1\": \"US\", \"name\": \"United States o...   2009-12-10  2787965087   \n",
       "\n",
       "   runtime                                   spoken_languages    status  \\\n",
       "0    162.0  [{\"iso_639_1\": \"en\", \"name\": \"English\"}, {\"iso...  Released   \n",
       "\n",
       "                       tagline   title  vote_average  vote_count  \n",
       "0  Enter the World of Pandora.  Avatar           7.2       11800  "
      ]
     },
     "execution_count": 5,
     "metadata": {},
     "output_type": "execute_result"
    }
   ],
   "source": [
    "movies.head(1)"
   ]
  },
  {
   "cell_type": "code",
   "execution_count": 6,
   "id": "ddae586d-2dc3-4459-a409-cfe9468a87d4",
   "metadata": {},
   "outputs": [
    {
     "data": {
      "text/plain": [
       "0    [{\"cast_id\": 242, \"character\": \"Jake Sully\", \"...\n",
       "Name: cast, dtype: object"
      ]
     },
     "execution_count": 6,
     "metadata": {},
     "output_type": "execute_result"
    }
   ],
   "source": [
    "credits.head(1)['cast']"
   ]
  },
  {
   "cell_type": "code",
   "execution_count": 7,
   "id": "a7bf40c6-d350-4f10-9c50-dabf6e0fe184",
   "metadata": {},
   "outputs": [],
   "source": [
    "# credits.head(1)['crew'].values"
   ]
  },
  {
   "cell_type": "code",
   "execution_count": 8,
   "id": "ea45d1b0-cde5-416f-b9a6-c4a031248058",
   "metadata": {},
   "outputs": [],
   "source": [
    "# To merge the data sets on the basis of titles"
   ]
  },
  {
   "cell_type": "code",
   "execution_count": 9,
   "id": "1cd164f2-f7b7-417c-a891-883898df2001",
   "metadata": {},
   "outputs": [
    {
     "data": {
      "text/html": [
       "<div>\n",
       "<style scoped>\n",
       "    .dataframe tbody tr th:only-of-type {\n",
       "        vertical-align: middle;\n",
       "    }\n",
       "\n",
       "    .dataframe tbody tr th {\n",
       "        vertical-align: top;\n",
       "    }\n",
       "\n",
       "    .dataframe thead th {\n",
       "        text-align: right;\n",
       "    }\n",
       "</style>\n",
       "<table border=\"1\" class=\"dataframe\">\n",
       "  <thead>\n",
       "    <tr style=\"text-align: right;\">\n",
       "      <th></th>\n",
       "      <th>budget</th>\n",
       "      <th>genres</th>\n",
       "      <th>homepage</th>\n",
       "      <th>id</th>\n",
       "      <th>keywords</th>\n",
       "      <th>original_language</th>\n",
       "      <th>original_title</th>\n",
       "      <th>overview</th>\n",
       "      <th>popularity</th>\n",
       "      <th>production_companies</th>\n",
       "      <th>...</th>\n",
       "      <th>runtime</th>\n",
       "      <th>spoken_languages</th>\n",
       "      <th>status</th>\n",
       "      <th>tagline</th>\n",
       "      <th>title</th>\n",
       "      <th>vote_average</th>\n",
       "      <th>vote_count</th>\n",
       "      <th>movie_id</th>\n",
       "      <th>cast</th>\n",
       "      <th>crew</th>\n",
       "    </tr>\n",
       "  </thead>\n",
       "  <tbody>\n",
       "    <tr>\n",
       "      <th>0</th>\n",
       "      <td>237000000</td>\n",
       "      <td>[{\"id\": 28, \"name\": \"Action\"}, {\"id\": 12, \"nam...</td>\n",
       "      <td>http://www.avatarmovie.com/</td>\n",
       "      <td>19995</td>\n",
       "      <td>[{\"id\": 1463, \"name\": \"culture clash\"}, {\"id\":...</td>\n",
       "      <td>en</td>\n",
       "      <td>Avatar</td>\n",
       "      <td>In the 22nd century, a paraplegic Marine is di...</td>\n",
       "      <td>150.437577</td>\n",
       "      <td>[{\"name\": \"Ingenious Film Partners\", \"id\": 289...</td>\n",
       "      <td>...</td>\n",
       "      <td>162.0</td>\n",
       "      <td>[{\"iso_639_1\": \"en\", \"name\": \"English\"}, {\"iso...</td>\n",
       "      <td>Released</td>\n",
       "      <td>Enter the World of Pandora.</td>\n",
       "      <td>Avatar</td>\n",
       "      <td>7.2</td>\n",
       "      <td>11800</td>\n",
       "      <td>19995</td>\n",
       "      <td>[{\"cast_id\": 242, \"character\": \"Jake Sully\", \"...</td>\n",
       "      <td>[{\"credit_id\": \"52fe48009251416c750aca23\", \"de...</td>\n",
       "    </tr>\n",
       "    <tr>\n",
       "      <th>1</th>\n",
       "      <td>300000000</td>\n",
       "      <td>[{\"id\": 12, \"name\": \"Adventure\"}, {\"id\": 14, \"...</td>\n",
       "      <td>http://disney.go.com/disneypictures/pirates/</td>\n",
       "      <td>285</td>\n",
       "      <td>[{\"id\": 270, \"name\": \"ocean\"}, {\"id\": 726, \"na...</td>\n",
       "      <td>en</td>\n",
       "      <td>Pirates of the Caribbean: At World's End</td>\n",
       "      <td>Captain Barbossa, long believed to be dead, ha...</td>\n",
       "      <td>139.082615</td>\n",
       "      <td>[{\"name\": \"Walt Disney Pictures\", \"id\": 2}, {\"...</td>\n",
       "      <td>...</td>\n",
       "      <td>169.0</td>\n",
       "      <td>[{\"iso_639_1\": \"en\", \"name\": \"English\"}]</td>\n",
       "      <td>Released</td>\n",
       "      <td>At the end of the world, the adventure begins.</td>\n",
       "      <td>Pirates of the Caribbean: At World's End</td>\n",
       "      <td>6.9</td>\n",
       "      <td>4500</td>\n",
       "      <td>285</td>\n",
       "      <td>[{\"cast_id\": 4, \"character\": \"Captain Jack Spa...</td>\n",
       "      <td>[{\"credit_id\": \"52fe4232c3a36847f800b579\", \"de...</td>\n",
       "    </tr>\n",
       "    <tr>\n",
       "      <th>2</th>\n",
       "      <td>245000000</td>\n",
       "      <td>[{\"id\": 28, \"name\": \"Action\"}, {\"id\": 12, \"nam...</td>\n",
       "      <td>http://www.sonypictures.com/movies/spectre/</td>\n",
       "      <td>206647</td>\n",
       "      <td>[{\"id\": 470, \"name\": \"spy\"}, {\"id\": 818, \"name...</td>\n",
       "      <td>en</td>\n",
       "      <td>Spectre</td>\n",
       "      <td>A cryptic message from Bond’s past sends him o...</td>\n",
       "      <td>107.376788</td>\n",
       "      <td>[{\"name\": \"Columbia Pictures\", \"id\": 5}, {\"nam...</td>\n",
       "      <td>...</td>\n",
       "      <td>148.0</td>\n",
       "      <td>[{\"iso_639_1\": \"fr\", \"name\": \"Fran\\u00e7ais\"},...</td>\n",
       "      <td>Released</td>\n",
       "      <td>A Plan No One Escapes</td>\n",
       "      <td>Spectre</td>\n",
       "      <td>6.3</td>\n",
       "      <td>4466</td>\n",
       "      <td>206647</td>\n",
       "      <td>[{\"cast_id\": 1, \"character\": \"James Bond\", \"cr...</td>\n",
       "      <td>[{\"credit_id\": \"54805967c3a36829b5002c41\", \"de...</td>\n",
       "    </tr>\n",
       "    <tr>\n",
       "      <th>3</th>\n",
       "      <td>250000000</td>\n",
       "      <td>[{\"id\": 28, \"name\": \"Action\"}, {\"id\": 80, \"nam...</td>\n",
       "      <td>http://www.thedarkknightrises.com/</td>\n",
       "      <td>49026</td>\n",
       "      <td>[{\"id\": 849, \"name\": \"dc comics\"}, {\"id\": 853,...</td>\n",
       "      <td>en</td>\n",
       "      <td>The Dark Knight Rises</td>\n",
       "      <td>Following the death of District Attorney Harve...</td>\n",
       "      <td>112.312950</td>\n",
       "      <td>[{\"name\": \"Legendary Pictures\", \"id\": 923}, {\"...</td>\n",
       "      <td>...</td>\n",
       "      <td>165.0</td>\n",
       "      <td>[{\"iso_639_1\": \"en\", \"name\": \"English\"}]</td>\n",
       "      <td>Released</td>\n",
       "      <td>The Legend Ends</td>\n",
       "      <td>The Dark Knight Rises</td>\n",
       "      <td>7.6</td>\n",
       "      <td>9106</td>\n",
       "      <td>49026</td>\n",
       "      <td>[{\"cast_id\": 2, \"character\": \"Bruce Wayne / Ba...</td>\n",
       "      <td>[{\"credit_id\": \"52fe4781c3a36847f81398c3\", \"de...</td>\n",
       "    </tr>\n",
       "    <tr>\n",
       "      <th>4</th>\n",
       "      <td>260000000</td>\n",
       "      <td>[{\"id\": 28, \"name\": \"Action\"}, {\"id\": 12, \"nam...</td>\n",
       "      <td>http://movies.disney.com/john-carter</td>\n",
       "      <td>49529</td>\n",
       "      <td>[{\"id\": 818, \"name\": \"based on novel\"}, {\"id\":...</td>\n",
       "      <td>en</td>\n",
       "      <td>John Carter</td>\n",
       "      <td>John Carter is a war-weary, former military ca...</td>\n",
       "      <td>43.926995</td>\n",
       "      <td>[{\"name\": \"Walt Disney Pictures\", \"id\": 2}]</td>\n",
       "      <td>...</td>\n",
       "      <td>132.0</td>\n",
       "      <td>[{\"iso_639_1\": \"en\", \"name\": \"English\"}]</td>\n",
       "      <td>Released</td>\n",
       "      <td>Lost in our world, found in another.</td>\n",
       "      <td>John Carter</td>\n",
       "      <td>6.1</td>\n",
       "      <td>2124</td>\n",
       "      <td>49529</td>\n",
       "      <td>[{\"cast_id\": 5, \"character\": \"John Carter\", \"c...</td>\n",
       "      <td>[{\"credit_id\": \"52fe479ac3a36847f813eaa3\", \"de...</td>\n",
       "    </tr>\n",
       "    <tr>\n",
       "      <th>...</th>\n",
       "      <td>...</td>\n",
       "      <td>...</td>\n",
       "      <td>...</td>\n",
       "      <td>...</td>\n",
       "      <td>...</td>\n",
       "      <td>...</td>\n",
       "      <td>...</td>\n",
       "      <td>...</td>\n",
       "      <td>...</td>\n",
       "      <td>...</td>\n",
       "      <td>...</td>\n",
       "      <td>...</td>\n",
       "      <td>...</td>\n",
       "      <td>...</td>\n",
       "      <td>...</td>\n",
       "      <td>...</td>\n",
       "      <td>...</td>\n",
       "      <td>...</td>\n",
       "      <td>...</td>\n",
       "      <td>...</td>\n",
       "      <td>...</td>\n",
       "    </tr>\n",
       "    <tr>\n",
       "      <th>4804</th>\n",
       "      <td>220000</td>\n",
       "      <td>[{\"id\": 28, \"name\": \"Action\"}, {\"id\": 80, \"nam...</td>\n",
       "      <td>NaN</td>\n",
       "      <td>9367</td>\n",
       "      <td>[{\"id\": 5616, \"name\": \"united states\\u2013mexi...</td>\n",
       "      <td>es</td>\n",
       "      <td>El Mariachi</td>\n",
       "      <td>El Mariachi just wants to play his guitar and ...</td>\n",
       "      <td>14.269792</td>\n",
       "      <td>[{\"name\": \"Columbia Pictures\", \"id\": 5}]</td>\n",
       "      <td>...</td>\n",
       "      <td>81.0</td>\n",
       "      <td>[{\"iso_639_1\": \"es\", \"name\": \"Espa\\u00f1ol\"}]</td>\n",
       "      <td>Released</td>\n",
       "      <td>He didn't come looking for trouble, but troubl...</td>\n",
       "      <td>El Mariachi</td>\n",
       "      <td>6.6</td>\n",
       "      <td>238</td>\n",
       "      <td>9367</td>\n",
       "      <td>[{\"cast_id\": 1, \"character\": \"El Mariachi\", \"c...</td>\n",
       "      <td>[{\"credit_id\": \"52fe44eec3a36847f80b280b\", \"de...</td>\n",
       "    </tr>\n",
       "    <tr>\n",
       "      <th>4805</th>\n",
       "      <td>9000</td>\n",
       "      <td>[{\"id\": 35, \"name\": \"Comedy\"}, {\"id\": 10749, \"...</td>\n",
       "      <td>NaN</td>\n",
       "      <td>72766</td>\n",
       "      <td>[]</td>\n",
       "      <td>en</td>\n",
       "      <td>Newlyweds</td>\n",
       "      <td>A newlywed couple's honeymoon is upended by th...</td>\n",
       "      <td>0.642552</td>\n",
       "      <td>[]</td>\n",
       "      <td>...</td>\n",
       "      <td>85.0</td>\n",
       "      <td>[]</td>\n",
       "      <td>Released</td>\n",
       "      <td>A newlywed couple's honeymoon is upended by th...</td>\n",
       "      <td>Newlyweds</td>\n",
       "      <td>5.9</td>\n",
       "      <td>5</td>\n",
       "      <td>72766</td>\n",
       "      <td>[{\"cast_id\": 1, \"character\": \"Buzzy\", \"credit_...</td>\n",
       "      <td>[{\"credit_id\": \"52fe487dc3a368484e0fb013\", \"de...</td>\n",
       "    </tr>\n",
       "    <tr>\n",
       "      <th>4806</th>\n",
       "      <td>0</td>\n",
       "      <td>[{\"id\": 35, \"name\": \"Comedy\"}, {\"id\": 18, \"nam...</td>\n",
       "      <td>http://www.hallmarkchannel.com/signedsealeddel...</td>\n",
       "      <td>231617</td>\n",
       "      <td>[{\"id\": 248, \"name\": \"date\"}, {\"id\": 699, \"nam...</td>\n",
       "      <td>en</td>\n",
       "      <td>Signed, Sealed, Delivered</td>\n",
       "      <td>\"Signed, Sealed, Delivered\" introduces a dedic...</td>\n",
       "      <td>1.444476</td>\n",
       "      <td>[{\"name\": \"Front Street Pictures\", \"id\": 3958}...</td>\n",
       "      <td>...</td>\n",
       "      <td>120.0</td>\n",
       "      <td>[{\"iso_639_1\": \"en\", \"name\": \"English\"}]</td>\n",
       "      <td>Released</td>\n",
       "      <td>NaN</td>\n",
       "      <td>Signed, Sealed, Delivered</td>\n",
       "      <td>7.0</td>\n",
       "      <td>6</td>\n",
       "      <td>231617</td>\n",
       "      <td>[{\"cast_id\": 8, \"character\": \"Oliver O\\u2019To...</td>\n",
       "      <td>[{\"credit_id\": \"52fe4df3c3a36847f8275ecf\", \"de...</td>\n",
       "    </tr>\n",
       "    <tr>\n",
       "      <th>4807</th>\n",
       "      <td>0</td>\n",
       "      <td>[]</td>\n",
       "      <td>http://shanghaicalling.com/</td>\n",
       "      <td>126186</td>\n",
       "      <td>[]</td>\n",
       "      <td>en</td>\n",
       "      <td>Shanghai Calling</td>\n",
       "      <td>When ambitious New York attorney Sam is sent t...</td>\n",
       "      <td>0.857008</td>\n",
       "      <td>[]</td>\n",
       "      <td>...</td>\n",
       "      <td>98.0</td>\n",
       "      <td>[{\"iso_639_1\": \"en\", \"name\": \"English\"}]</td>\n",
       "      <td>Released</td>\n",
       "      <td>A New Yorker in Shanghai</td>\n",
       "      <td>Shanghai Calling</td>\n",
       "      <td>5.7</td>\n",
       "      <td>7</td>\n",
       "      <td>126186</td>\n",
       "      <td>[{\"cast_id\": 3, \"character\": \"Sam\", \"credit_id...</td>\n",
       "      <td>[{\"credit_id\": \"52fe4ad9c3a368484e16a36b\", \"de...</td>\n",
       "    </tr>\n",
       "    <tr>\n",
       "      <th>4808</th>\n",
       "      <td>0</td>\n",
       "      <td>[{\"id\": 99, \"name\": \"Documentary\"}]</td>\n",
       "      <td>NaN</td>\n",
       "      <td>25975</td>\n",
       "      <td>[{\"id\": 1523, \"name\": \"obsession\"}, {\"id\": 224...</td>\n",
       "      <td>en</td>\n",
       "      <td>My Date with Drew</td>\n",
       "      <td>Ever since the second grade when he first saw ...</td>\n",
       "      <td>1.929883</td>\n",
       "      <td>[{\"name\": \"rusty bear entertainment\", \"id\": 87...</td>\n",
       "      <td>...</td>\n",
       "      <td>90.0</td>\n",
       "      <td>[{\"iso_639_1\": \"en\", \"name\": \"English\"}]</td>\n",
       "      <td>Released</td>\n",
       "      <td>NaN</td>\n",
       "      <td>My Date with Drew</td>\n",
       "      <td>6.3</td>\n",
       "      <td>16</td>\n",
       "      <td>25975</td>\n",
       "      <td>[{\"cast_id\": 3, \"character\": \"Herself\", \"credi...</td>\n",
       "      <td>[{\"credit_id\": \"58ce021b9251415a390165d9\", \"de...</td>\n",
       "    </tr>\n",
       "  </tbody>\n",
       "</table>\n",
       "<p>4809 rows × 23 columns</p>\n",
       "</div>"
      ],
      "text/plain": [
       "         budget                                             genres  \\\n",
       "0     237000000  [{\"id\": 28, \"name\": \"Action\"}, {\"id\": 12, \"nam...   \n",
       "1     300000000  [{\"id\": 12, \"name\": \"Adventure\"}, {\"id\": 14, \"...   \n",
       "2     245000000  [{\"id\": 28, \"name\": \"Action\"}, {\"id\": 12, \"nam...   \n",
       "3     250000000  [{\"id\": 28, \"name\": \"Action\"}, {\"id\": 80, \"nam...   \n",
       "4     260000000  [{\"id\": 28, \"name\": \"Action\"}, {\"id\": 12, \"nam...   \n",
       "...         ...                                                ...   \n",
       "4804     220000  [{\"id\": 28, \"name\": \"Action\"}, {\"id\": 80, \"nam...   \n",
       "4805       9000  [{\"id\": 35, \"name\": \"Comedy\"}, {\"id\": 10749, \"...   \n",
       "4806          0  [{\"id\": 35, \"name\": \"Comedy\"}, {\"id\": 18, \"nam...   \n",
       "4807          0                                                 []   \n",
       "4808          0                [{\"id\": 99, \"name\": \"Documentary\"}]   \n",
       "\n",
       "                                               homepage      id  \\\n",
       "0                           http://www.avatarmovie.com/   19995   \n",
       "1          http://disney.go.com/disneypictures/pirates/     285   \n",
       "2           http://www.sonypictures.com/movies/spectre/  206647   \n",
       "3                    http://www.thedarkknightrises.com/   49026   \n",
       "4                  http://movies.disney.com/john-carter   49529   \n",
       "...                                                 ...     ...   \n",
       "4804                                                NaN    9367   \n",
       "4805                                                NaN   72766   \n",
       "4806  http://www.hallmarkchannel.com/signedsealeddel...  231617   \n",
       "4807                        http://shanghaicalling.com/  126186   \n",
       "4808                                                NaN   25975   \n",
       "\n",
       "                                               keywords original_language  \\\n",
       "0     [{\"id\": 1463, \"name\": \"culture clash\"}, {\"id\":...                en   \n",
       "1     [{\"id\": 270, \"name\": \"ocean\"}, {\"id\": 726, \"na...                en   \n",
       "2     [{\"id\": 470, \"name\": \"spy\"}, {\"id\": 818, \"name...                en   \n",
       "3     [{\"id\": 849, \"name\": \"dc comics\"}, {\"id\": 853,...                en   \n",
       "4     [{\"id\": 818, \"name\": \"based on novel\"}, {\"id\":...                en   \n",
       "...                                                 ...               ...   \n",
       "4804  [{\"id\": 5616, \"name\": \"united states\\u2013mexi...                es   \n",
       "4805                                                 []                en   \n",
       "4806  [{\"id\": 248, \"name\": \"date\"}, {\"id\": 699, \"nam...                en   \n",
       "4807                                                 []                en   \n",
       "4808  [{\"id\": 1523, \"name\": \"obsession\"}, {\"id\": 224...                en   \n",
       "\n",
       "                                original_title  \\\n",
       "0                                       Avatar   \n",
       "1     Pirates of the Caribbean: At World's End   \n",
       "2                                      Spectre   \n",
       "3                        The Dark Knight Rises   \n",
       "4                                  John Carter   \n",
       "...                                        ...   \n",
       "4804                               El Mariachi   \n",
       "4805                                 Newlyweds   \n",
       "4806                 Signed, Sealed, Delivered   \n",
       "4807                          Shanghai Calling   \n",
       "4808                         My Date with Drew   \n",
       "\n",
       "                                               overview  popularity  \\\n",
       "0     In the 22nd century, a paraplegic Marine is di...  150.437577   \n",
       "1     Captain Barbossa, long believed to be dead, ha...  139.082615   \n",
       "2     A cryptic message from Bond’s past sends him o...  107.376788   \n",
       "3     Following the death of District Attorney Harve...  112.312950   \n",
       "4     John Carter is a war-weary, former military ca...   43.926995   \n",
       "...                                                 ...         ...   \n",
       "4804  El Mariachi just wants to play his guitar and ...   14.269792   \n",
       "4805  A newlywed couple's honeymoon is upended by th...    0.642552   \n",
       "4806  \"Signed, Sealed, Delivered\" introduces a dedic...    1.444476   \n",
       "4807  When ambitious New York attorney Sam is sent t...    0.857008   \n",
       "4808  Ever since the second grade when he first saw ...    1.929883   \n",
       "\n",
       "                                   production_companies  ... runtime  \\\n",
       "0     [{\"name\": \"Ingenious Film Partners\", \"id\": 289...  ...   162.0   \n",
       "1     [{\"name\": \"Walt Disney Pictures\", \"id\": 2}, {\"...  ...   169.0   \n",
       "2     [{\"name\": \"Columbia Pictures\", \"id\": 5}, {\"nam...  ...   148.0   \n",
       "3     [{\"name\": \"Legendary Pictures\", \"id\": 923}, {\"...  ...   165.0   \n",
       "4           [{\"name\": \"Walt Disney Pictures\", \"id\": 2}]  ...   132.0   \n",
       "...                                                 ...  ...     ...   \n",
       "4804           [{\"name\": \"Columbia Pictures\", \"id\": 5}]  ...    81.0   \n",
       "4805                                                 []  ...    85.0   \n",
       "4806  [{\"name\": \"Front Street Pictures\", \"id\": 3958}...  ...   120.0   \n",
       "4807                                                 []  ...    98.0   \n",
       "4808  [{\"name\": \"rusty bear entertainment\", \"id\": 87...  ...    90.0   \n",
       "\n",
       "                                       spoken_languages    status  \\\n",
       "0     [{\"iso_639_1\": \"en\", \"name\": \"English\"}, {\"iso...  Released   \n",
       "1              [{\"iso_639_1\": \"en\", \"name\": \"English\"}]  Released   \n",
       "2     [{\"iso_639_1\": \"fr\", \"name\": \"Fran\\u00e7ais\"},...  Released   \n",
       "3              [{\"iso_639_1\": \"en\", \"name\": \"English\"}]  Released   \n",
       "4              [{\"iso_639_1\": \"en\", \"name\": \"English\"}]  Released   \n",
       "...                                                 ...       ...   \n",
       "4804      [{\"iso_639_1\": \"es\", \"name\": \"Espa\\u00f1ol\"}]  Released   \n",
       "4805                                                 []  Released   \n",
       "4806           [{\"iso_639_1\": \"en\", \"name\": \"English\"}]  Released   \n",
       "4807           [{\"iso_639_1\": \"en\", \"name\": \"English\"}]  Released   \n",
       "4808           [{\"iso_639_1\": \"en\", \"name\": \"English\"}]  Released   \n",
       "\n",
       "                                                tagline  \\\n",
       "0                           Enter the World of Pandora.   \n",
       "1        At the end of the world, the adventure begins.   \n",
       "2                                 A Plan No One Escapes   \n",
       "3                                       The Legend Ends   \n",
       "4                  Lost in our world, found in another.   \n",
       "...                                                 ...   \n",
       "4804  He didn't come looking for trouble, but troubl...   \n",
       "4805  A newlywed couple's honeymoon is upended by th...   \n",
       "4806                                                NaN   \n",
       "4807                           A New Yorker in Shanghai   \n",
       "4808                                                NaN   \n",
       "\n",
       "                                         title vote_average vote_count  \\\n",
       "0                                       Avatar          7.2      11800   \n",
       "1     Pirates of the Caribbean: At World's End          6.9       4500   \n",
       "2                                      Spectre          6.3       4466   \n",
       "3                        The Dark Knight Rises          7.6       9106   \n",
       "4                                  John Carter          6.1       2124   \n",
       "...                                        ...          ...        ...   \n",
       "4804                               El Mariachi          6.6        238   \n",
       "4805                                 Newlyweds          5.9          5   \n",
       "4806                 Signed, Sealed, Delivered          7.0          6   \n",
       "4807                          Shanghai Calling          5.7          7   \n",
       "4808                         My Date with Drew          6.3         16   \n",
       "\n",
       "     movie_id                                               cast  \\\n",
       "0       19995  [{\"cast_id\": 242, \"character\": \"Jake Sully\", \"...   \n",
       "1         285  [{\"cast_id\": 4, \"character\": \"Captain Jack Spa...   \n",
       "2      206647  [{\"cast_id\": 1, \"character\": \"James Bond\", \"cr...   \n",
       "3       49026  [{\"cast_id\": 2, \"character\": \"Bruce Wayne / Ba...   \n",
       "4       49529  [{\"cast_id\": 5, \"character\": \"John Carter\", \"c...   \n",
       "...       ...                                                ...   \n",
       "4804     9367  [{\"cast_id\": 1, \"character\": \"El Mariachi\", \"c...   \n",
       "4805    72766  [{\"cast_id\": 1, \"character\": \"Buzzy\", \"credit_...   \n",
       "4806   231617  [{\"cast_id\": 8, \"character\": \"Oliver O\\u2019To...   \n",
       "4807   126186  [{\"cast_id\": 3, \"character\": \"Sam\", \"credit_id...   \n",
       "4808    25975  [{\"cast_id\": 3, \"character\": \"Herself\", \"credi...   \n",
       "\n",
       "                                                   crew  \n",
       "0     [{\"credit_id\": \"52fe48009251416c750aca23\", \"de...  \n",
       "1     [{\"credit_id\": \"52fe4232c3a36847f800b579\", \"de...  \n",
       "2     [{\"credit_id\": \"54805967c3a36829b5002c41\", \"de...  \n",
       "3     [{\"credit_id\": \"52fe4781c3a36847f81398c3\", \"de...  \n",
       "4     [{\"credit_id\": \"52fe479ac3a36847f813eaa3\", \"de...  \n",
       "...                                                 ...  \n",
       "4804  [{\"credit_id\": \"52fe44eec3a36847f80b280b\", \"de...  \n",
       "4805  [{\"credit_id\": \"52fe487dc3a368484e0fb013\", \"de...  \n",
       "4806  [{\"credit_id\": \"52fe4df3c3a36847f8275ecf\", \"de...  \n",
       "4807  [{\"credit_id\": \"52fe4ad9c3a368484e16a36b\", \"de...  \n",
       "4808  [{\"credit_id\": \"58ce021b9251415a390165d9\", \"de...  \n",
       "\n",
       "[4809 rows x 23 columns]"
      ]
     },
     "execution_count": 9,
     "metadata": {},
     "output_type": "execute_result"
    }
   ],
   "source": [
    "movies.merge(credits,on='title')"
   ]
  },
  {
   "cell_type": "code",
   "execution_count": 10,
   "id": "05b2dd99-2eae-48c7-9726-59d22cf2af08",
   "metadata": {},
   "outputs": [
    {
     "data": {
      "text/plain": [
       "pandas.core.frame.DataFrame"
      ]
     },
     "execution_count": 10,
     "metadata": {},
     "output_type": "execute_result"
    }
   ],
   "source": [
    "type(movies)"
   ]
  },
  {
   "cell_type": "code",
   "execution_count": 11,
   "id": "a51d51d1-6ae1-42c1-8e3d-78087c849d32",
   "metadata": {},
   "outputs": [
    {
     "data": {
      "text/plain": [
       "pandas.core.frame.DataFrame"
      ]
     },
     "execution_count": 11,
     "metadata": {},
     "output_type": "execute_result"
    }
   ],
   "source": [
    "type(credits)"
   ]
  },
  {
   "cell_type": "code",
   "execution_count": 12,
   "id": "e319c097-7c47-4324-abed-584b32c4f074",
   "metadata": {},
   "outputs": [],
   "source": [
    "movies = movies.merge(credits,on='title')"
   ]
  },
  {
   "cell_type": "code",
   "execution_count": 13,
   "id": "23cade70-65c7-4ffd-ae4d-4e922aca946a",
   "metadata": {},
   "outputs": [
    {
     "data": {
      "text/html": [
       "<div>\n",
       "<style scoped>\n",
       "    .dataframe tbody tr th:only-of-type {\n",
       "        vertical-align: middle;\n",
       "    }\n",
       "\n",
       "    .dataframe tbody tr th {\n",
       "        vertical-align: top;\n",
       "    }\n",
       "\n",
       "    .dataframe thead th {\n",
       "        text-align: right;\n",
       "    }\n",
       "</style>\n",
       "<table border=\"1\" class=\"dataframe\">\n",
       "  <thead>\n",
       "    <tr style=\"text-align: right;\">\n",
       "      <th></th>\n",
       "      <th>budget</th>\n",
       "      <th>genres</th>\n",
       "      <th>homepage</th>\n",
       "      <th>id</th>\n",
       "      <th>keywords</th>\n",
       "      <th>original_language</th>\n",
       "      <th>original_title</th>\n",
       "      <th>overview</th>\n",
       "      <th>popularity</th>\n",
       "      <th>production_companies</th>\n",
       "      <th>...</th>\n",
       "      <th>runtime</th>\n",
       "      <th>spoken_languages</th>\n",
       "      <th>status</th>\n",
       "      <th>tagline</th>\n",
       "      <th>title</th>\n",
       "      <th>vote_average</th>\n",
       "      <th>vote_count</th>\n",
       "      <th>movie_id</th>\n",
       "      <th>cast</th>\n",
       "      <th>crew</th>\n",
       "    </tr>\n",
       "  </thead>\n",
       "  <tbody>\n",
       "    <tr>\n",
       "      <th>0</th>\n",
       "      <td>237000000</td>\n",
       "      <td>[{\"id\": 28, \"name\": \"Action\"}, {\"id\": 12, \"nam...</td>\n",
       "      <td>http://www.avatarmovie.com/</td>\n",
       "      <td>19995</td>\n",
       "      <td>[{\"id\": 1463, \"name\": \"culture clash\"}, {\"id\":...</td>\n",
       "      <td>en</td>\n",
       "      <td>Avatar</td>\n",
       "      <td>In the 22nd century, a paraplegic Marine is di...</td>\n",
       "      <td>150.437577</td>\n",
       "      <td>[{\"name\": \"Ingenious Film Partners\", \"id\": 289...</td>\n",
       "      <td>...</td>\n",
       "      <td>162.0</td>\n",
       "      <td>[{\"iso_639_1\": \"en\", \"name\": \"English\"}, {\"iso...</td>\n",
       "      <td>Released</td>\n",
       "      <td>Enter the World of Pandora.</td>\n",
       "      <td>Avatar</td>\n",
       "      <td>7.2</td>\n",
       "      <td>11800</td>\n",
       "      <td>19995</td>\n",
       "      <td>[{\"cast_id\": 242, \"character\": \"Jake Sully\", \"...</td>\n",
       "      <td>[{\"credit_id\": \"52fe48009251416c750aca23\", \"de...</td>\n",
       "    </tr>\n",
       "  </tbody>\n",
       "</table>\n",
       "<p>1 rows × 23 columns</p>\n",
       "</div>"
      ],
      "text/plain": [
       "      budget                                             genres  \\\n",
       "0  237000000  [{\"id\": 28, \"name\": \"Action\"}, {\"id\": 12, \"nam...   \n",
       "\n",
       "                      homepage     id  \\\n",
       "0  http://www.avatarmovie.com/  19995   \n",
       "\n",
       "                                            keywords original_language  \\\n",
       "0  [{\"id\": 1463, \"name\": \"culture clash\"}, {\"id\":...                en   \n",
       "\n",
       "  original_title                                           overview  \\\n",
       "0         Avatar  In the 22nd century, a paraplegic Marine is di...   \n",
       "\n",
       "   popularity                               production_companies  ... runtime  \\\n",
       "0  150.437577  [{\"name\": \"Ingenious Film Partners\", \"id\": 289...  ...   162.0   \n",
       "\n",
       "                                    spoken_languages    status  \\\n",
       "0  [{\"iso_639_1\": \"en\", \"name\": \"English\"}, {\"iso...  Released   \n",
       "\n",
       "                       tagline   title vote_average vote_count movie_id  \\\n",
       "0  Enter the World of Pandora.  Avatar          7.2      11800    19995   \n",
       "\n",
       "                                                cast  \\\n",
       "0  [{\"cast_id\": 242, \"character\": \"Jake Sully\", \"...   \n",
       "\n",
       "                                                crew  \n",
       "0  [{\"credit_id\": \"52fe48009251416c750aca23\", \"de...  \n",
       "\n",
       "[1 rows x 23 columns]"
      ]
     },
     "execution_count": 13,
     "metadata": {},
     "output_type": "execute_result"
    }
   ],
   "source": [
    "movies.head(1)"
   ]
  },
  {
   "cell_type": "code",
   "execution_count": 14,
   "id": "ac4e9786-6fad-4759-9f2b-2460d03615e8",
   "metadata": {},
   "outputs": [
    {
     "data": {
      "text/plain": [
       "original_language\n",
       "en    4510\n",
       "fr      70\n",
       "es      32\n",
       "zh      27\n",
       "de      27\n",
       "hi      19\n",
       "ja      16\n",
       "it      14\n",
       "ko      12\n",
       "cn      12\n",
       "ru      11\n",
       "pt       9\n",
       "da       7\n",
       "sv       5\n",
       "nl       4\n",
       "fa       4\n",
       "th       3\n",
       "he       3\n",
       "id       2\n",
       "cs       2\n",
       "ta       2\n",
       "ro       2\n",
       "ar       2\n",
       "te       1\n",
       "hu       1\n",
       "xx       1\n",
       "af       1\n",
       "is       1\n",
       "tr       1\n",
       "vi       1\n",
       "pl       1\n",
       "nb       1\n",
       "ky       1\n",
       "no       1\n",
       "sl       1\n",
       "ps       1\n",
       "el       1\n",
       "Name: count, dtype: int64"
      ]
     },
     "execution_count": 14,
     "metadata": {},
     "output_type": "execute_result"
    }
   ],
   "source": [
    "movies['original_language'].value_counts()"
   ]
  },
  {
   "cell_type": "code",
   "execution_count": 15,
   "id": "dbd0d063-54dc-4bfc-952d-8fb4cec7ec99",
   "metadata": {},
   "outputs": [
    {
     "name": "stdout",
     "output_type": "stream",
     "text": [
      "<class 'pandas.core.frame.DataFrame'>\n",
      "RangeIndex: 4809 entries, 0 to 4808\n",
      "Data columns (total 23 columns):\n",
      " #   Column                Non-Null Count  Dtype  \n",
      "---  ------                --------------  -----  \n",
      " 0   budget                4809 non-null   int64  \n",
      " 1   genres                4809 non-null   object \n",
      " 2   homepage              1713 non-null   object \n",
      " 3   id                    4809 non-null   int64  \n",
      " 4   keywords              4809 non-null   object \n",
      " 5   original_language     4809 non-null   object \n",
      " 6   original_title        4809 non-null   object \n",
      " 7   overview              4806 non-null   object \n",
      " 8   popularity            4809 non-null   float64\n",
      " 9   production_companies  4809 non-null   object \n",
      " 10  production_countries  4809 non-null   object \n",
      " 11  release_date          4808 non-null   object \n",
      " 12  revenue               4809 non-null   int64  \n",
      " 13  runtime               4807 non-null   float64\n",
      " 14  spoken_languages      4809 non-null   object \n",
      " 15  status                4809 non-null   object \n",
      " 16  tagline               3965 non-null   object \n",
      " 17  title                 4809 non-null   object \n",
      " 18  vote_average          4809 non-null   float64\n",
      " 19  vote_count            4809 non-null   int64  \n",
      " 20  movie_id              4809 non-null   int64  \n",
      " 21  cast                  4809 non-null   object \n",
      " 22  crew                  4809 non-null   object \n",
      "dtypes: float64(3), int64(5), object(15)\n",
      "memory usage: 864.2+ KB\n"
     ]
    }
   ],
   "source": [
    "movies.info()"
   ]
  },
  {
   "cell_type": "code",
   "execution_count": 16,
   "id": "0ae30d82-175b-4284-b8db-8828f5b11666",
   "metadata": {},
   "outputs": [],
   "source": [
    "# Tag out only the needed columns for recomendation:\n",
    "# -> Genre\n",
    "# -> id\n",
    "# -> Keywords\n",
    "# -> title\n",
    "# -> overview\n",
    "# -> cast\n",
    "# -> crew"
   ]
  },
  {
   "cell_type": "code",
   "execution_count": 17,
   "id": "e5d8a60f-34e2-432b-a206-a8f56137fbd7",
   "metadata": {},
   "outputs": [],
   "source": [
    "movies = movies[['movie_id','title','overview','genres','keywords','cast','crew']]"
   ]
  },
  {
   "cell_type": "code",
   "execution_count": 18,
   "id": "3c5f2b61-b4d9-4fa8-976a-bfa3f3738f88",
   "metadata": {},
   "outputs": [
    {
     "data": {
      "text/html": [
       "<div>\n",
       "<style scoped>\n",
       "    .dataframe tbody tr th:only-of-type {\n",
       "        vertical-align: middle;\n",
       "    }\n",
       "\n",
       "    .dataframe tbody tr th {\n",
       "        vertical-align: top;\n",
       "    }\n",
       "\n",
       "    .dataframe thead th {\n",
       "        text-align: right;\n",
       "    }\n",
       "</style>\n",
       "<table border=\"1\" class=\"dataframe\">\n",
       "  <thead>\n",
       "    <tr style=\"text-align: right;\">\n",
       "      <th></th>\n",
       "      <th>movie_id</th>\n",
       "      <th>title</th>\n",
       "      <th>overview</th>\n",
       "      <th>genres</th>\n",
       "      <th>keywords</th>\n",
       "      <th>cast</th>\n",
       "      <th>crew</th>\n",
       "    </tr>\n",
       "  </thead>\n",
       "  <tbody>\n",
       "    <tr>\n",
       "      <th>0</th>\n",
       "      <td>19995</td>\n",
       "      <td>Avatar</td>\n",
       "      <td>In the 22nd century, a paraplegic Marine is di...</td>\n",
       "      <td>[{\"id\": 28, \"name\": \"Action\"}, {\"id\": 12, \"nam...</td>\n",
       "      <td>[{\"id\": 1463, \"name\": \"culture clash\"}, {\"id\":...</td>\n",
       "      <td>[{\"cast_id\": 242, \"character\": \"Jake Sully\", \"...</td>\n",
       "      <td>[{\"credit_id\": \"52fe48009251416c750aca23\", \"de...</td>\n",
       "    </tr>\n",
       "    <tr>\n",
       "      <th>1</th>\n",
       "      <td>285</td>\n",
       "      <td>Pirates of the Caribbean: At World's End</td>\n",
       "      <td>Captain Barbossa, long believed to be dead, ha...</td>\n",
       "      <td>[{\"id\": 12, \"name\": \"Adventure\"}, {\"id\": 14, \"...</td>\n",
       "      <td>[{\"id\": 270, \"name\": \"ocean\"}, {\"id\": 726, \"na...</td>\n",
       "      <td>[{\"cast_id\": 4, \"character\": \"Captain Jack Spa...</td>\n",
       "      <td>[{\"credit_id\": \"52fe4232c3a36847f800b579\", \"de...</td>\n",
       "    </tr>\n",
       "    <tr>\n",
       "      <th>2</th>\n",
       "      <td>206647</td>\n",
       "      <td>Spectre</td>\n",
       "      <td>A cryptic message from Bond’s past sends him o...</td>\n",
       "      <td>[{\"id\": 28, \"name\": \"Action\"}, {\"id\": 12, \"nam...</td>\n",
       "      <td>[{\"id\": 470, \"name\": \"spy\"}, {\"id\": 818, \"name...</td>\n",
       "      <td>[{\"cast_id\": 1, \"character\": \"James Bond\", \"cr...</td>\n",
       "      <td>[{\"credit_id\": \"54805967c3a36829b5002c41\", \"de...</td>\n",
       "    </tr>\n",
       "    <tr>\n",
       "      <th>3</th>\n",
       "      <td>49026</td>\n",
       "      <td>The Dark Knight Rises</td>\n",
       "      <td>Following the death of District Attorney Harve...</td>\n",
       "      <td>[{\"id\": 28, \"name\": \"Action\"}, {\"id\": 80, \"nam...</td>\n",
       "      <td>[{\"id\": 849, \"name\": \"dc comics\"}, {\"id\": 853,...</td>\n",
       "      <td>[{\"cast_id\": 2, \"character\": \"Bruce Wayne / Ba...</td>\n",
       "      <td>[{\"credit_id\": \"52fe4781c3a36847f81398c3\", \"de...</td>\n",
       "    </tr>\n",
       "    <tr>\n",
       "      <th>4</th>\n",
       "      <td>49529</td>\n",
       "      <td>John Carter</td>\n",
       "      <td>John Carter is a war-weary, former military ca...</td>\n",
       "      <td>[{\"id\": 28, \"name\": \"Action\"}, {\"id\": 12, \"nam...</td>\n",
       "      <td>[{\"id\": 818, \"name\": \"based on novel\"}, {\"id\":...</td>\n",
       "      <td>[{\"cast_id\": 5, \"character\": \"John Carter\", \"c...</td>\n",
       "      <td>[{\"credit_id\": \"52fe479ac3a36847f813eaa3\", \"de...</td>\n",
       "    </tr>\n",
       "  </tbody>\n",
       "</table>\n",
       "</div>"
      ],
      "text/plain": [
       "   movie_id                                     title  \\\n",
       "0     19995                                    Avatar   \n",
       "1       285  Pirates of the Caribbean: At World's End   \n",
       "2    206647                                   Spectre   \n",
       "3     49026                     The Dark Knight Rises   \n",
       "4     49529                               John Carter   \n",
       "\n",
       "                                            overview  \\\n",
       "0  In the 22nd century, a paraplegic Marine is di...   \n",
       "1  Captain Barbossa, long believed to be dead, ha...   \n",
       "2  A cryptic message from Bond’s past sends him o...   \n",
       "3  Following the death of District Attorney Harve...   \n",
       "4  John Carter is a war-weary, former military ca...   \n",
       "\n",
       "                                              genres  \\\n",
       "0  [{\"id\": 28, \"name\": \"Action\"}, {\"id\": 12, \"nam...   \n",
       "1  [{\"id\": 12, \"name\": \"Adventure\"}, {\"id\": 14, \"...   \n",
       "2  [{\"id\": 28, \"name\": \"Action\"}, {\"id\": 12, \"nam...   \n",
       "3  [{\"id\": 28, \"name\": \"Action\"}, {\"id\": 80, \"nam...   \n",
       "4  [{\"id\": 28, \"name\": \"Action\"}, {\"id\": 12, \"nam...   \n",
       "\n",
       "                                            keywords  \\\n",
       "0  [{\"id\": 1463, \"name\": \"culture clash\"}, {\"id\":...   \n",
       "1  [{\"id\": 270, \"name\": \"ocean\"}, {\"id\": 726, \"na...   \n",
       "2  [{\"id\": 470, \"name\": \"spy\"}, {\"id\": 818, \"name...   \n",
       "3  [{\"id\": 849, \"name\": \"dc comics\"}, {\"id\": 853,...   \n",
       "4  [{\"id\": 818, \"name\": \"based on novel\"}, {\"id\":...   \n",
       "\n",
       "                                                cast  \\\n",
       "0  [{\"cast_id\": 242, \"character\": \"Jake Sully\", \"...   \n",
       "1  [{\"cast_id\": 4, \"character\": \"Captain Jack Spa...   \n",
       "2  [{\"cast_id\": 1, \"character\": \"James Bond\", \"cr...   \n",
       "3  [{\"cast_id\": 2, \"character\": \"Bruce Wayne / Ba...   \n",
       "4  [{\"cast_id\": 5, \"character\": \"John Carter\", \"c...   \n",
       "\n",
       "                                                crew  \n",
       "0  [{\"credit_id\": \"52fe48009251416c750aca23\", \"de...  \n",
       "1  [{\"credit_id\": \"52fe4232c3a36847f800b579\", \"de...  \n",
       "2  [{\"credit_id\": \"54805967c3a36829b5002c41\", \"de...  \n",
       "3  [{\"credit_id\": \"52fe4781c3a36847f81398c3\", \"de...  \n",
       "4  [{\"credit_id\": \"52fe479ac3a36847f813eaa3\", \"de...  "
      ]
     },
     "execution_count": 18,
     "metadata": {},
     "output_type": "execute_result"
    }
   ],
   "source": [
    "movies.head()"
   ]
  },
  {
   "cell_type": "code",
   "execution_count": 19,
   "id": "0a68dd21-e0b7-411f-aa24-5688a4b7e81a",
   "metadata": {},
   "outputs": [],
   "source": [
    "# Pre-processing the datas"
   ]
  },
  {
   "cell_type": "code",
   "execution_count": 20,
   "id": "984a50e1-0160-4aab-b9b9-d42cdd172600",
   "metadata": {},
   "outputs": [],
   "source": [
    "# Missing data"
   ]
  },
  {
   "cell_type": "code",
   "execution_count": 21,
   "id": "79a35773-9314-4434-a5e7-7dee66b83c98",
   "metadata": {},
   "outputs": [
    {
     "data": {
      "text/plain": [
       "movie_id    0\n",
       "title       0\n",
       "overview    3\n",
       "genres      0\n",
       "keywords    0\n",
       "cast        0\n",
       "crew        0\n",
       "dtype: int64"
      ]
     },
     "execution_count": 21,
     "metadata": {},
     "output_type": "execute_result"
    }
   ],
   "source": [
    "movies.isnull().sum()"
   ]
  },
  {
   "cell_type": "code",
   "execution_count": 22,
   "id": "819cfccc-785f-4a2b-a7c0-b734c29fe2ad",
   "metadata": {},
   "outputs": [],
   "source": [
    "movies.dropna(inplace=True)"
   ]
  },
  {
   "cell_type": "code",
   "execution_count": 23,
   "id": "f0d0f395-4175-4a26-8eba-b7c52544ddca",
   "metadata": {},
   "outputs": [
    {
     "data": {
      "text/plain": [
       "movie_id    0\n",
       "title       0\n",
       "overview    0\n",
       "genres      0\n",
       "keywords    0\n",
       "cast        0\n",
       "crew        0\n",
       "dtype: int64"
      ]
     },
     "execution_count": 23,
     "metadata": {},
     "output_type": "execute_result"
    }
   ],
   "source": [
    "movies.isnull().sum()"
   ]
  },
  {
   "cell_type": "code",
   "execution_count": 24,
   "id": "f9eb0f0f-5808-425e-b8db-68cc3a0af4eb",
   "metadata": {},
   "outputs": [],
   "source": [
    "# Duplicate datas"
   ]
  },
  {
   "cell_type": "code",
   "execution_count": 25,
   "id": "cc92a697-51e3-4190-acea-60bdfca568df",
   "metadata": {},
   "outputs": [
    {
     "data": {
      "text/plain": [
       "np.int64(0)"
      ]
     },
     "execution_count": 25,
     "metadata": {},
     "output_type": "execute_result"
    }
   ],
   "source": [
    "movies.duplicated().sum()"
   ]
  },
  {
   "cell_type": "code",
   "execution_count": 26,
   "id": "fb1d59a7-87ab-4288-9b66-22826e599f05",
   "metadata": {},
   "outputs": [],
   "source": [
    "# Format"
   ]
  },
  {
   "cell_type": "code",
   "execution_count": 27,
   "id": "a9a21edd-d18f-42b9-be96-4b0b50f9e54a",
   "metadata": {},
   "outputs": [
    {
     "data": {
      "text/plain": [
       "'[{\"id\": 28, \"name\": \"Action\"}, {\"id\": 12, \"name\": \"Adventure\"}, {\"id\": 14, \"name\": \"Fantasy\"}, {\"id\": 878, \"name\": \"Science Fiction\"}]'"
      ]
     },
     "execution_count": 27,
     "metadata": {},
     "output_type": "execute_result"
    }
   ],
   "source": [
    "movies.iloc[0].genres"
   ]
  },
  {
   "cell_type": "code",
   "execution_count": 28,
   "id": "c629b178-2499-405f-8ae1-ffd9a5945e9e",
   "metadata": {},
   "outputs": [],
   "source": [
    "# '[{\"id\": 28, \"name\": \"Action\"}, {\"id\": 12, \"name\": \"Adventure\"}, {\"id\": 14, \"name\": \"Fantasy\"}, {\"id\": 878, \"name\": \"Science Fiction\"}]\n",
    "\n",
    "# ['Action','Adventure'..]"
   ]
  },
  {
   "cell_type": "code",
   "execution_count": 29,
   "id": "f7f6a4f6-aa2d-449c-83e8-b95bb7973541",
   "metadata": {},
   "outputs": [],
   "source": [
    "# Creating helper funnction for this process"
   ]
  },
  {
   "cell_type": "code",
   "execution_count": 30,
   "id": "c959f4c6-b16c-4f60-ad1e-7e1f6bffd5c2",
   "metadata": {},
   "outputs": [],
   "source": [
    "# import ast\n",
    "# ast.literal_eval('[{\"id\": 28, \"name\": \"Action\"}, {\"id\": 12, \"name\": \"Adventure\"}, {\"id\": 14, \"name\": \"Fantasy\"}, {\"id\": 878, \"name\": \"Science Fiction\"}]')"
   ]
  },
  {
   "cell_type": "code",
   "execution_count": 31,
   "id": "7505145c-10e3-4405-a91e-76e71905ee45",
   "metadata": {},
   "outputs": [],
   "source": [
    "import ast\n",
    "\n",
    "def convert(obj):\n",
    "    L = []\n",
    "    # If it's a string like \"[{'id': 28, 'name': 'Action'}]\"\n",
    "    if isinstance(obj, str):\n",
    "        obj = ast.literal_eval(obj)\n",
    "\n",
    "    # Now obj is either a list of dicts OR a list of strings\n",
    "    for i in obj:\n",
    "        if isinstance(i, dict):   # if it's a dict, extract 'name'\n",
    "            L.append(i['name'])\n",
    "        else:                     # already a string\n",
    "            L.append(i)\n",
    "    return L\n",
    "\n",
    "movies['genres'] = movies['genres'].apply(convert)\n"
   ]
  },
  {
   "cell_type": "code",
   "execution_count": 32,
   "id": "63e000ee-abad-482b-835b-009bfc9a36c0",
   "metadata": {},
   "outputs": [
    {
     "data": {
      "text/plain": [
       "0       [Action, Adventure, Fantasy, Science Fiction]\n",
       "1                        [Adventure, Fantasy, Action]\n",
       "2                          [Action, Adventure, Crime]\n",
       "3                    [Action, Crime, Drama, Thriller]\n",
       "4                [Action, Adventure, Science Fiction]\n",
       "                            ...                      \n",
       "4804                        [Action, Crime, Thriller]\n",
       "4805                                [Comedy, Romance]\n",
       "4806               [Comedy, Drama, Romance, TV Movie]\n",
       "4807                                               []\n",
       "4808                                    [Documentary]\n",
       "Name: genres, Length: 4806, dtype: object"
      ]
     },
     "execution_count": 32,
     "metadata": {},
     "output_type": "execute_result"
    }
   ],
   "source": [
    "movies['genres'].apply(convert)"
   ]
  },
  {
   "cell_type": "code",
   "execution_count": 33,
   "id": "e21a9a11-9492-40b6-ac91-3572e0d29157",
   "metadata": {},
   "outputs": [],
   "source": [
    "movies['genres']=movies['genres'].apply(convert)"
   ]
  },
  {
   "cell_type": "code",
   "execution_count": 34,
   "id": "9d4d7680-7c62-40df-9ba6-fe8b562105bd",
   "metadata": {},
   "outputs": [],
   "source": [
    "movies['keywords']=movies['keywords'].apply(convert)"
   ]
  },
  {
   "cell_type": "code",
   "execution_count": 35,
   "id": "a2af4813-f2e7-461f-a486-4abe3937469f",
   "metadata": {},
   "outputs": [
    {
     "data": {
      "text/html": [
       "<div>\n",
       "<style scoped>\n",
       "    .dataframe tbody tr th:only-of-type {\n",
       "        vertical-align: middle;\n",
       "    }\n",
       "\n",
       "    .dataframe tbody tr th {\n",
       "        vertical-align: top;\n",
       "    }\n",
       "\n",
       "    .dataframe thead th {\n",
       "        text-align: right;\n",
       "    }\n",
       "</style>\n",
       "<table border=\"1\" class=\"dataframe\">\n",
       "  <thead>\n",
       "    <tr style=\"text-align: right;\">\n",
       "      <th></th>\n",
       "      <th>movie_id</th>\n",
       "      <th>title</th>\n",
       "      <th>overview</th>\n",
       "      <th>genres</th>\n",
       "      <th>keywords</th>\n",
       "      <th>cast</th>\n",
       "      <th>crew</th>\n",
       "    </tr>\n",
       "  </thead>\n",
       "  <tbody>\n",
       "    <tr>\n",
       "      <th>0</th>\n",
       "      <td>19995</td>\n",
       "      <td>Avatar</td>\n",
       "      <td>In the 22nd century, a paraplegic Marine is di...</td>\n",
       "      <td>[Action, Adventure, Fantasy, Science Fiction]</td>\n",
       "      <td>[culture clash, future, space war, space colon...</td>\n",
       "      <td>[{\"cast_id\": 242, \"character\": \"Jake Sully\", \"...</td>\n",
       "      <td>[{\"credit_id\": \"52fe48009251416c750aca23\", \"de...</td>\n",
       "    </tr>\n",
       "    <tr>\n",
       "      <th>1</th>\n",
       "      <td>285</td>\n",
       "      <td>Pirates of the Caribbean: At World's End</td>\n",
       "      <td>Captain Barbossa, long believed to be dead, ha...</td>\n",
       "      <td>[Adventure, Fantasy, Action]</td>\n",
       "      <td>[ocean, drug abuse, exotic island, east india ...</td>\n",
       "      <td>[{\"cast_id\": 4, \"character\": \"Captain Jack Spa...</td>\n",
       "      <td>[{\"credit_id\": \"52fe4232c3a36847f800b579\", \"de...</td>\n",
       "    </tr>\n",
       "    <tr>\n",
       "      <th>2</th>\n",
       "      <td>206647</td>\n",
       "      <td>Spectre</td>\n",
       "      <td>A cryptic message from Bond’s past sends him o...</td>\n",
       "      <td>[Action, Adventure, Crime]</td>\n",
       "      <td>[spy, based on novel, secret agent, sequel, mi...</td>\n",
       "      <td>[{\"cast_id\": 1, \"character\": \"James Bond\", \"cr...</td>\n",
       "      <td>[{\"credit_id\": \"54805967c3a36829b5002c41\", \"de...</td>\n",
       "    </tr>\n",
       "    <tr>\n",
       "      <th>3</th>\n",
       "      <td>49026</td>\n",
       "      <td>The Dark Knight Rises</td>\n",
       "      <td>Following the death of District Attorney Harve...</td>\n",
       "      <td>[Action, Crime, Drama, Thriller]</td>\n",
       "      <td>[dc comics, crime fighter, terrorist, secret i...</td>\n",
       "      <td>[{\"cast_id\": 2, \"character\": \"Bruce Wayne / Ba...</td>\n",
       "      <td>[{\"credit_id\": \"52fe4781c3a36847f81398c3\", \"de...</td>\n",
       "    </tr>\n",
       "    <tr>\n",
       "      <th>4</th>\n",
       "      <td>49529</td>\n",
       "      <td>John Carter</td>\n",
       "      <td>John Carter is a war-weary, former military ca...</td>\n",
       "      <td>[Action, Adventure, Science Fiction]</td>\n",
       "      <td>[based on novel, mars, medallion, space travel...</td>\n",
       "      <td>[{\"cast_id\": 5, \"character\": \"John Carter\", \"c...</td>\n",
       "      <td>[{\"credit_id\": \"52fe479ac3a36847f813eaa3\", \"de...</td>\n",
       "    </tr>\n",
       "  </tbody>\n",
       "</table>\n",
       "</div>"
      ],
      "text/plain": [
       "   movie_id                                     title  \\\n",
       "0     19995                                    Avatar   \n",
       "1       285  Pirates of the Caribbean: At World's End   \n",
       "2    206647                                   Spectre   \n",
       "3     49026                     The Dark Knight Rises   \n",
       "4     49529                               John Carter   \n",
       "\n",
       "                                            overview  \\\n",
       "0  In the 22nd century, a paraplegic Marine is di...   \n",
       "1  Captain Barbossa, long believed to be dead, ha...   \n",
       "2  A cryptic message from Bond’s past sends him o...   \n",
       "3  Following the death of District Attorney Harve...   \n",
       "4  John Carter is a war-weary, former military ca...   \n",
       "\n",
       "                                          genres  \\\n",
       "0  [Action, Adventure, Fantasy, Science Fiction]   \n",
       "1                   [Adventure, Fantasy, Action]   \n",
       "2                     [Action, Adventure, Crime]   \n",
       "3               [Action, Crime, Drama, Thriller]   \n",
       "4           [Action, Adventure, Science Fiction]   \n",
       "\n",
       "                                            keywords  \\\n",
       "0  [culture clash, future, space war, space colon...   \n",
       "1  [ocean, drug abuse, exotic island, east india ...   \n",
       "2  [spy, based on novel, secret agent, sequel, mi...   \n",
       "3  [dc comics, crime fighter, terrorist, secret i...   \n",
       "4  [based on novel, mars, medallion, space travel...   \n",
       "\n",
       "                                                cast  \\\n",
       "0  [{\"cast_id\": 242, \"character\": \"Jake Sully\", \"...   \n",
       "1  [{\"cast_id\": 4, \"character\": \"Captain Jack Spa...   \n",
       "2  [{\"cast_id\": 1, \"character\": \"James Bond\", \"cr...   \n",
       "3  [{\"cast_id\": 2, \"character\": \"Bruce Wayne / Ba...   \n",
       "4  [{\"cast_id\": 5, \"character\": \"John Carter\", \"c...   \n",
       "\n",
       "                                                crew  \n",
       "0  [{\"credit_id\": \"52fe48009251416c750aca23\", \"de...  \n",
       "1  [{\"credit_id\": \"52fe4232c3a36847f800b579\", \"de...  \n",
       "2  [{\"credit_id\": \"54805967c3a36829b5002c41\", \"de...  \n",
       "3  [{\"credit_id\": \"52fe4781c3a36847f81398c3\", \"de...  \n",
       "4  [{\"credit_id\": \"52fe479ac3a36847f813eaa3\", \"de...  "
      ]
     },
     "execution_count": 35,
     "metadata": {},
     "output_type": "execute_result"
    }
   ],
   "source": [
    "movies.head()"
   ]
  },
  {
   "cell_type": "code",
   "execution_count": 36,
   "id": "2e02c07a-6821-494c-9d00-37c29dd0c97b",
   "metadata": {},
   "outputs": [
    {
     "data": {
      "text/plain": [
       "'[{\"cast_id\": 242, \"character\": \"Jake Sully\", \"credit_id\": \"5602a8a7c3a3685532001c9a\", \"gender\": 2, \"id\": 65731, \"name\": \"Sam Worthington\", \"order\": 0}, {\"cast_id\": 3, \"character\": \"Neytiri\", \"credit_id\": \"52fe48009251416c750ac9cb\", \"gender\": 1, \"id\": 8691, \"name\": \"Zoe Saldana\", \"order\": 1}, {\"cast_id\": 25, \"character\": \"Dr. Grace Augustine\", \"credit_id\": \"52fe48009251416c750aca39\", \"gender\": 1, \"id\": 10205, \"name\": \"Sigourney Weaver\", \"order\": 2}, {\"cast_id\": 4, \"character\": \"Col. Quaritch\", \"credit_id\": \"52fe48009251416c750ac9cf\", \"gender\": 2, \"id\": 32747, \"name\": \"Stephen Lang\", \"order\": 3}, {\"cast_id\": 5, \"character\": \"Trudy Chacon\", \"credit_id\": \"52fe48009251416c750ac9d3\", \"gender\": 1, \"id\": 17647, \"name\": \"Michelle Rodriguez\", \"order\": 4}, {\"cast_id\": 8, \"character\": \"Selfridge\", \"credit_id\": \"52fe48009251416c750ac9e1\", \"gender\": 2, \"id\": 1771, \"name\": \"Giovanni Ribisi\", \"order\": 5}, {\"cast_id\": 7, \"character\": \"Norm Spellman\", \"credit_id\": \"52fe48009251416c750ac9dd\", \"gender\": 2, \"id\": 59231, \"name\": \"Joel David Moore\", \"order\": 6}, {\"cast_id\": 9, \"character\": \"Moat\", \"credit_id\": \"52fe48009251416c750ac9e5\", \"gender\": 1, \"id\": 30485, \"name\": \"CCH Pounder\", \"order\": 7}, {\"cast_id\": 11, \"character\": \"Eytukan\", \"credit_id\": \"52fe48009251416c750ac9ed\", \"gender\": 2, \"id\": 15853, \"name\": \"Wes Studi\", \"order\": 8}, {\"cast_id\": 10, \"character\": \"Tsu\\'Tey\", \"credit_id\": \"52fe48009251416c750ac9e9\", \"gender\": 2, \"id\": 10964, \"name\": \"Laz Alonso\", \"order\": 9}, {\"cast_id\": 12, \"character\": \"Dr. Max Patel\", \"credit_id\": \"52fe48009251416c750ac9f1\", \"gender\": 2, \"id\": 95697, \"name\": \"Dileep Rao\", \"order\": 10}, {\"cast_id\": 13, \"character\": \"Lyle Wainfleet\", \"credit_id\": \"52fe48009251416c750ac9f5\", \"gender\": 2, \"id\": 98215, \"name\": \"Matt Gerald\", \"order\": 11}, {\"cast_id\": 32, \"character\": \"Private Fike\", \"credit_id\": \"52fe48009251416c750aca5b\", \"gender\": 2, \"id\": 154153, \"name\": \"Sean Anthony Moran\", \"order\": 12}, {\"cast_id\": 33, \"character\": \"Cryo Vault Med Tech\", \"credit_id\": \"52fe48009251416c750aca5f\", \"gender\": 2, \"id\": 397312, \"name\": \"Jason Whyte\", \"order\": 13}, {\"cast_id\": 34, \"character\": \"Venture Star Crew Chief\", \"credit_id\": \"52fe48009251416c750aca63\", \"gender\": 2, \"id\": 42317, \"name\": \"Scott Lawrence\", \"order\": 14}, {\"cast_id\": 35, \"character\": \"Lock Up Trooper\", \"credit_id\": \"52fe48009251416c750aca67\", \"gender\": 2, \"id\": 986734, \"name\": \"Kelly Kilgour\", \"order\": 15}, {\"cast_id\": 36, \"character\": \"Shuttle Pilot\", \"credit_id\": \"52fe48009251416c750aca6b\", \"gender\": 0, \"id\": 1207227, \"name\": \"James Patrick Pitt\", \"order\": 16}, {\"cast_id\": 37, \"character\": \"Shuttle Co-Pilot\", \"credit_id\": \"52fe48009251416c750aca6f\", \"gender\": 0, \"id\": 1180936, \"name\": \"Sean Patrick Murphy\", \"order\": 17}, {\"cast_id\": 38, \"character\": \"Shuttle Crew Chief\", \"credit_id\": \"52fe48009251416c750aca73\", \"gender\": 2, \"id\": 1019578, \"name\": \"Peter Dillon\", \"order\": 18}, {\"cast_id\": 39, \"character\": \"Tractor Operator / Troupe\", \"credit_id\": \"52fe48009251416c750aca77\", \"gender\": 0, \"id\": 91443, \"name\": \"Kevin Dorman\", \"order\": 19}, {\"cast_id\": 40, \"character\": \"Dragon Gunship Pilot\", \"credit_id\": \"52fe48009251416c750aca7b\", \"gender\": 2, \"id\": 173391, \"name\": \"Kelson Henderson\", \"order\": 20}, {\"cast_id\": 41, \"character\": \"Dragon Gunship Gunner\", \"credit_id\": \"52fe48009251416c750aca7f\", \"gender\": 0, \"id\": 1207236, \"name\": \"David Van Horn\", \"order\": 21}, {\"cast_id\": 42, \"character\": \"Dragon Gunship Navigator\", \"credit_id\": \"52fe48009251416c750aca83\", \"gender\": 0, \"id\": 215913, \"name\": \"Jacob Tomuri\", \"order\": 22}, {\"cast_id\": 43, \"character\": \"Suit #1\", \"credit_id\": \"52fe48009251416c750aca87\", \"gender\": 0, \"id\": 143206, \"name\": \"Michael Blain-Rozgay\", \"order\": 23}, {\"cast_id\": 44, \"character\": \"Suit #2\", \"credit_id\": \"52fe48009251416c750aca8b\", \"gender\": 2, \"id\": 169676, \"name\": \"Jon Curry\", \"order\": 24}, {\"cast_id\": 46, \"character\": \"Ambient Room Tech\", \"credit_id\": \"52fe48009251416c750aca8f\", \"gender\": 0, \"id\": 1048610, \"name\": \"Luke Hawker\", \"order\": 25}, {\"cast_id\": 47, \"character\": \"Ambient Room Tech / Troupe\", \"credit_id\": \"52fe48009251416c750aca93\", \"gender\": 0, \"id\": 42288, \"name\": \"Woody Schultz\", \"order\": 26}, {\"cast_id\": 48, \"character\": \"Horse Clan Leader\", \"credit_id\": \"52fe48009251416c750aca97\", \"gender\": 2, \"id\": 68278, \"name\": \"Peter Mensah\", \"order\": 27}, {\"cast_id\": 49, \"character\": \"Link Room Tech\", \"credit_id\": \"52fe48009251416c750aca9b\", \"gender\": 0, \"id\": 1207247, \"name\": \"Sonia Yee\", \"order\": 28}, {\"cast_id\": 50, \"character\": \"Basketball Avatar / Troupe\", \"credit_id\": \"52fe48009251416c750aca9f\", \"gender\": 1, \"id\": 1207248, \"name\": \"Jahnel Curfman\", \"order\": 29}, {\"cast_id\": 51, \"character\": \"Basketball Avatar\", \"credit_id\": \"52fe48009251416c750acaa3\", \"gender\": 0, \"id\": 89714, \"name\": \"Ilram Choi\", \"order\": 30}, {\"cast_id\": 52, \"character\": \"Na\\'vi Child\", \"credit_id\": \"52fe48009251416c750acaa7\", \"gender\": 0, \"id\": 1207249, \"name\": \"Kyla Warren\", \"order\": 31}, {\"cast_id\": 53, \"character\": \"Troupe\", \"credit_id\": \"52fe48009251416c750acaab\", \"gender\": 0, \"id\": 1207250, \"name\": \"Lisa Roumain\", \"order\": 32}, {\"cast_id\": 54, \"character\": \"Troupe\", \"credit_id\": \"52fe48009251416c750acaaf\", \"gender\": 1, \"id\": 83105, \"name\": \"Debra Wilson\", \"order\": 33}, {\"cast_id\": 57, \"character\": \"Troupe\", \"credit_id\": \"52fe48009251416c750acabb\", \"gender\": 0, \"id\": 1207253, \"name\": \"Chris Mala\", \"order\": 34}, {\"cast_id\": 55, \"character\": \"Troupe\", \"credit_id\": \"52fe48009251416c750acab3\", \"gender\": 0, \"id\": 1207251, \"name\": \"Taylor Kibby\", \"order\": 35}, {\"cast_id\": 56, \"character\": \"Troupe\", \"credit_id\": \"52fe48009251416c750acab7\", \"gender\": 0, \"id\": 1207252, \"name\": \"Jodie Landau\", \"order\": 36}, {\"cast_id\": 58, \"character\": \"Troupe\", \"credit_id\": \"52fe48009251416c750acabf\", \"gender\": 0, \"id\": 1207254, \"name\": \"Julie Lamm\", \"order\": 37}, {\"cast_id\": 59, \"character\": \"Troupe\", \"credit_id\": \"52fe48009251416c750acac3\", \"gender\": 0, \"id\": 1207257, \"name\": \"Cullen B. Madden\", \"order\": 38}, {\"cast_id\": 60, \"character\": \"Troupe\", \"credit_id\": \"52fe48009251416c750acac7\", \"gender\": 0, \"id\": 1207259, \"name\": \"Joseph Brady Madden\", \"order\": 39}, {\"cast_id\": 61, \"character\": \"Troupe\", \"credit_id\": \"52fe48009251416c750acacb\", \"gender\": 0, \"id\": 1207262, \"name\": \"Frankie Torres\", \"order\": 40}, {\"cast_id\": 62, \"character\": \"Troupe\", \"credit_id\": \"52fe48009251416c750acacf\", \"gender\": 1, \"id\": 1158600, \"name\": \"Austin Wilson\", \"order\": 41}, {\"cast_id\": 63, \"character\": \"Troupe\", \"credit_id\": \"52fe48019251416c750acad3\", \"gender\": 1, \"id\": 983705, \"name\": \"Sara Wilson\", \"order\": 42}, {\"cast_id\": 64, \"character\": \"Troupe\", \"credit_id\": \"52fe48019251416c750acad7\", \"gender\": 0, \"id\": 1207263, \"name\": \"Tamica Washington-Miller\", \"order\": 43}, {\"cast_id\": 65, \"character\": \"Op Center Staff\", \"credit_id\": \"52fe48019251416c750acadb\", \"gender\": 1, \"id\": 1145098, \"name\": \"Lucy Briant\", \"order\": 44}, {\"cast_id\": 66, \"character\": \"Op Center Staff\", \"credit_id\": \"52fe48019251416c750acadf\", \"gender\": 2, \"id\": 33305, \"name\": \"Nathan Meister\", \"order\": 45}, {\"cast_id\": 67, \"character\": \"Op Center Staff\", \"credit_id\": \"52fe48019251416c750acae3\", \"gender\": 0, \"id\": 1207264, \"name\": \"Gerry Blair\", \"order\": 46}, {\"cast_id\": 68, \"character\": \"Op Center Staff\", \"credit_id\": \"52fe48019251416c750acae7\", \"gender\": 2, \"id\": 33311, \"name\": \"Matthew Chamberlain\", \"order\": 47}, {\"cast_id\": 69, \"character\": \"Op Center Staff\", \"credit_id\": \"52fe48019251416c750acaeb\", \"gender\": 0, \"id\": 1207265, \"name\": \"Paul Yates\", \"order\": 48}, {\"cast_id\": 70, \"character\": \"Op Center Duty Officer\", \"credit_id\": \"52fe48019251416c750acaef\", \"gender\": 0, \"id\": 1207266, \"name\": \"Wray Wilson\", \"order\": 49}, {\"cast_id\": 71, \"character\": \"Op Center Staff\", \"credit_id\": \"52fe48019251416c750acaf3\", \"gender\": 2, \"id\": 54492, \"name\": \"James Gaylyn\", \"order\": 50}, {\"cast_id\": 72, \"character\": \"Dancer\", \"credit_id\": \"52fe48019251416c750acaf7\", \"gender\": 0, \"id\": 1207267, \"name\": \"Melvin Leno Clark III\", \"order\": 51}, {\"cast_id\": 73, \"character\": \"Dancer\", \"credit_id\": \"52fe48019251416c750acafb\", \"gender\": 0, \"id\": 1207268, \"name\": \"Carvon Futrell\", \"order\": 52}, {\"cast_id\": 74, \"character\": \"Dancer\", \"credit_id\": \"52fe48019251416c750acaff\", \"gender\": 0, \"id\": 1207269, \"name\": \"Brandon Jelkes\", \"order\": 53}, {\"cast_id\": 75, \"character\": \"Dancer\", \"credit_id\": \"52fe48019251416c750acb03\", \"gender\": 0, \"id\": 1207270, \"name\": \"Micah Moch\", \"order\": 54}, {\"cast_id\": 76, \"character\": \"Dancer\", \"credit_id\": \"52fe48019251416c750acb07\", \"gender\": 0, \"id\": 1207271, \"name\": \"Hanniyah Muhammad\", \"order\": 55}, {\"cast_id\": 77, \"character\": \"Dancer\", \"credit_id\": \"52fe48019251416c750acb0b\", \"gender\": 0, \"id\": 1207272, \"name\": \"Christopher Nolen\", \"order\": 56}, {\"cast_id\": 78, \"character\": \"Dancer\", \"credit_id\": \"52fe48019251416c750acb0f\", \"gender\": 0, \"id\": 1207273, \"name\": \"Christa Oliver\", \"order\": 57}, {\"cast_id\": 79, \"character\": \"Dancer\", \"credit_id\": \"52fe48019251416c750acb13\", \"gender\": 0, \"id\": 1207274, \"name\": \"April Marie Thomas\", \"order\": 58}, {\"cast_id\": 80, \"character\": \"Dancer\", \"credit_id\": \"52fe48019251416c750acb17\", \"gender\": 0, \"id\": 1207275, \"name\": \"Bravita A. Threatt\", \"order\": 59}, {\"cast_id\": 81, \"character\": \"Mining Chief (uncredited)\", \"credit_id\": \"52fe48019251416c750acb1b\", \"gender\": 0, \"id\": 1207276, \"name\": \"Colin Bleasdale\", \"order\": 60}, {\"cast_id\": 82, \"character\": \"Veteran Miner (uncredited)\", \"credit_id\": \"52fe48019251416c750acb1f\", \"gender\": 0, \"id\": 107969, \"name\": \"Mike Bodnar\", \"order\": 61}, {\"cast_id\": 83, \"character\": \"Richard (uncredited)\", \"credit_id\": \"52fe48019251416c750acb23\", \"gender\": 0, \"id\": 1207278, \"name\": \"Matt Clayton\", \"order\": 62}, {\"cast_id\": 84, \"character\": \"Nav\\'i (uncredited)\", \"credit_id\": \"52fe48019251416c750acb27\", \"gender\": 1, \"id\": 147898, \"name\": \"Nicole Dionne\", \"order\": 63}, {\"cast_id\": 85, \"character\": \"Trooper (uncredited)\", \"credit_id\": \"52fe48019251416c750acb2b\", \"gender\": 0, \"id\": 1207280, \"name\": \"Jamie Harrison\", \"order\": 64}, {\"cast_id\": 86, \"character\": \"Trooper (uncredited)\", \"credit_id\": \"52fe48019251416c750acb2f\", \"gender\": 0, \"id\": 1207281, \"name\": \"Allan Henry\", \"order\": 65}, {\"cast_id\": 87, \"character\": \"Ground Technician (uncredited)\", \"credit_id\": \"52fe48019251416c750acb33\", \"gender\": 2, \"id\": 1207282, \"name\": \"Anthony Ingruber\", \"order\": 66}, {\"cast_id\": 88, \"character\": \"Flight Crew Mechanic (uncredited)\", \"credit_id\": \"52fe48019251416c750acb37\", \"gender\": 0, \"id\": 1207283, \"name\": \"Ashley Jeffery\", \"order\": 67}, {\"cast_id\": 14, \"character\": \"Samson Pilot\", \"credit_id\": \"52fe48009251416c750ac9f9\", \"gender\": 0, \"id\": 98216, \"name\": \"Dean Knowsley\", \"order\": 68}, {\"cast_id\": 89, \"character\": \"Trooper (uncredited)\", \"credit_id\": \"52fe48019251416c750acb3b\", \"gender\": 0, \"id\": 1201399, \"name\": \"Joseph Mika-Hunt\", \"order\": 69}, {\"cast_id\": 90, \"character\": \"Banshee (uncredited)\", \"credit_id\": \"52fe48019251416c750acb3f\", \"gender\": 0, \"id\": 236696, \"name\": \"Terry Notary\", \"order\": 70}, {\"cast_id\": 91, \"character\": \"Soldier (uncredited)\", \"credit_id\": \"52fe48019251416c750acb43\", \"gender\": 0, \"id\": 1207287, \"name\": \"Kai Pantano\", \"order\": 71}, {\"cast_id\": 92, \"character\": \"Blast Technician (uncredited)\", \"credit_id\": \"52fe48019251416c750acb47\", \"gender\": 0, \"id\": 1207288, \"name\": \"Logan Pithyou\", \"order\": 72}, {\"cast_id\": 93, \"character\": \"Vindum Raah (uncredited)\", \"credit_id\": \"52fe48019251416c750acb4b\", \"gender\": 0, \"id\": 1207289, \"name\": \"Stuart Pollock\", \"order\": 73}, {\"cast_id\": 94, \"character\": \"Hero (uncredited)\", \"credit_id\": \"52fe48019251416c750acb4f\", \"gender\": 0, \"id\": 584868, \"name\": \"Raja\", \"order\": 74}, {\"cast_id\": 95, \"character\": \"Ops Centreworker (uncredited)\", \"credit_id\": \"52fe48019251416c750acb53\", \"gender\": 0, \"id\": 1207290, \"name\": \"Gareth Ruck\", \"order\": 75}, {\"cast_id\": 96, \"character\": \"Engineer (uncredited)\", \"credit_id\": \"52fe48019251416c750acb57\", \"gender\": 0, \"id\": 1062463, \"name\": \"Rhian Sheehan\", \"order\": 76}, {\"cast_id\": 97, \"character\": \"Col. Quaritch\\'s Mech Suit (uncredited)\", \"credit_id\": \"52fe48019251416c750acb5b\", \"gender\": 0, \"id\": 60656, \"name\": \"T. J. Storm\", \"order\": 77}, {\"cast_id\": 98, \"character\": \"Female Marine (uncredited)\", \"credit_id\": \"52fe48019251416c750acb5f\", \"gender\": 0, \"id\": 1207291, \"name\": \"Jodie Taylor\", \"order\": 78}, {\"cast_id\": 99, \"character\": \"Ikran Clan Leader (uncredited)\", \"credit_id\": \"52fe48019251416c750acb63\", \"gender\": 1, \"id\": 1186027, \"name\": \"Alicia Vela-Bailey\", \"order\": 79}, {\"cast_id\": 100, \"character\": \"Geologist (uncredited)\", \"credit_id\": \"52fe48019251416c750acb67\", \"gender\": 0, \"id\": 1207292, \"name\": \"Richard Whiteside\", \"order\": 80}, {\"cast_id\": 101, \"character\": \"Na\\'vi (uncredited)\", \"credit_id\": \"52fe48019251416c750acb6b\", \"gender\": 0, \"id\": 103259, \"name\": \"Nikie Zambo\", \"order\": 81}, {\"cast_id\": 102, \"character\": \"Ambient Room Tech / Troupe\", \"credit_id\": \"52fe48019251416c750acb6f\", \"gender\": 1, \"id\": 42286, \"name\": \"Julene Renee\", \"order\": 82}]'"
      ]
     },
     "execution_count": 36,
     "metadata": {},
     "output_type": "execute_result"
    }
   ],
   "source": [
    "movies['cast'][0]"
   ]
  },
  {
   "cell_type": "code",
   "execution_count": 37,
   "id": "a7d40c04-7782-490c-8f6e-a3c0326ba151",
   "metadata": {},
   "outputs": [],
   "source": [
    "import ast\n",
    "\n",
    "def convert_chr(obj):\n",
    "    L = []\n",
    "    counter = 0\n",
    "    \n",
    "    # If obj is a string, try to parse it into Python object\n",
    "    if isinstance(obj, str):\n",
    "        try:\n",
    "            obj = ast.literal_eval(obj)\n",
    "        except:\n",
    "            return []\n",
    "    \n",
    "    # Now obj should be a list\n",
    "    for i in obj:\n",
    "        if counter == 3:\n",
    "            break\n",
    "        \n",
    "        if isinstance(i, dict) and 'name' in i:\n",
    "            L.append(i['name'])\n",
    "        elif isinstance(i, str):  # already just a name\n",
    "            L.append(i)\n",
    "        \n",
    "        counter += 1\n",
    "    \n",
    "    return L\n"
   ]
  },
  {
   "cell_type": "code",
   "execution_count": 38,
   "id": "95202b7c-3b96-45cf-8118-cc40d8feea78",
   "metadata": {},
   "outputs": [
    {
     "data": {
      "text/plain": [
       "0        [Sam Worthington, Zoe Saldana, Sigourney Weaver]\n",
       "1           [Johnny Depp, Orlando Bloom, Keira Knightley]\n",
       "2            [Daniel Craig, Christoph Waltz, Léa Seydoux]\n",
       "3            [Christian Bale, Michael Caine, Gary Oldman]\n",
       "4          [Taylor Kitsch, Lynn Collins, Samantha Morton]\n",
       "                              ...                        \n",
       "4804    [Carlos Gallardo, Jaime de Hoyos, Peter Marqua...\n",
       "4805         [Edward Burns, Kerry Bishé, Marsha Dietlein]\n",
       "4806           [Eric Mabius, Kristin Booth, Crystal Lowe]\n",
       "4807            [Daniel Henney, Eliza Coupe, Bill Paxton]\n",
       "4808    [Drew Barrymore, Brian Herzlinger, Corey Feldman]\n",
       "Name: cast, Length: 4806, dtype: object"
      ]
     },
     "execution_count": 38,
     "metadata": {},
     "output_type": "execute_result"
    }
   ],
   "source": [
    "movies['cast'].apply(convert_chr)\n"
   ]
  },
  {
   "cell_type": "code",
   "execution_count": 39,
   "id": "4eb0d761-1429-4e3e-a163-f77564147cca",
   "metadata": {},
   "outputs": [],
   "source": [
    "movies['cast'] = movies['cast'].apply(convert_chr)"
   ]
  },
  {
   "cell_type": "code",
   "execution_count": 40,
   "id": "b35c2776-fb4c-4c43-a55d-e79faf1a3d19",
   "metadata": {},
   "outputs": [
    {
     "data": {
      "text/html": [
       "<div>\n",
       "<style scoped>\n",
       "    .dataframe tbody tr th:only-of-type {\n",
       "        vertical-align: middle;\n",
       "    }\n",
       "\n",
       "    .dataframe tbody tr th {\n",
       "        vertical-align: top;\n",
       "    }\n",
       "\n",
       "    .dataframe thead th {\n",
       "        text-align: right;\n",
       "    }\n",
       "</style>\n",
       "<table border=\"1\" class=\"dataframe\">\n",
       "  <thead>\n",
       "    <tr style=\"text-align: right;\">\n",
       "      <th></th>\n",
       "      <th>movie_id</th>\n",
       "      <th>title</th>\n",
       "      <th>overview</th>\n",
       "      <th>genres</th>\n",
       "      <th>keywords</th>\n",
       "      <th>cast</th>\n",
       "      <th>crew</th>\n",
       "    </tr>\n",
       "  </thead>\n",
       "  <tbody>\n",
       "    <tr>\n",
       "      <th>0</th>\n",
       "      <td>19995</td>\n",
       "      <td>Avatar</td>\n",
       "      <td>In the 22nd century, a paraplegic Marine is di...</td>\n",
       "      <td>[Action, Adventure, Fantasy, Science Fiction]</td>\n",
       "      <td>[culture clash, future, space war, space colon...</td>\n",
       "      <td>[Sam Worthington, Zoe Saldana, Sigourney Weaver]</td>\n",
       "      <td>[{\"credit_id\": \"52fe48009251416c750aca23\", \"de...</td>\n",
       "    </tr>\n",
       "    <tr>\n",
       "      <th>1</th>\n",
       "      <td>285</td>\n",
       "      <td>Pirates of the Caribbean: At World's End</td>\n",
       "      <td>Captain Barbossa, long believed to be dead, ha...</td>\n",
       "      <td>[Adventure, Fantasy, Action]</td>\n",
       "      <td>[ocean, drug abuse, exotic island, east india ...</td>\n",
       "      <td>[Johnny Depp, Orlando Bloom, Keira Knightley]</td>\n",
       "      <td>[{\"credit_id\": \"52fe4232c3a36847f800b579\", \"de...</td>\n",
       "    </tr>\n",
       "    <tr>\n",
       "      <th>2</th>\n",
       "      <td>206647</td>\n",
       "      <td>Spectre</td>\n",
       "      <td>A cryptic message from Bond’s past sends him o...</td>\n",
       "      <td>[Action, Adventure, Crime]</td>\n",
       "      <td>[spy, based on novel, secret agent, sequel, mi...</td>\n",
       "      <td>[Daniel Craig, Christoph Waltz, Léa Seydoux]</td>\n",
       "      <td>[{\"credit_id\": \"54805967c3a36829b5002c41\", \"de...</td>\n",
       "    </tr>\n",
       "    <tr>\n",
       "      <th>3</th>\n",
       "      <td>49026</td>\n",
       "      <td>The Dark Knight Rises</td>\n",
       "      <td>Following the death of District Attorney Harve...</td>\n",
       "      <td>[Action, Crime, Drama, Thriller]</td>\n",
       "      <td>[dc comics, crime fighter, terrorist, secret i...</td>\n",
       "      <td>[Christian Bale, Michael Caine, Gary Oldman]</td>\n",
       "      <td>[{\"credit_id\": \"52fe4781c3a36847f81398c3\", \"de...</td>\n",
       "    </tr>\n",
       "    <tr>\n",
       "      <th>4</th>\n",
       "      <td>49529</td>\n",
       "      <td>John Carter</td>\n",
       "      <td>John Carter is a war-weary, former military ca...</td>\n",
       "      <td>[Action, Adventure, Science Fiction]</td>\n",
       "      <td>[based on novel, mars, medallion, space travel...</td>\n",
       "      <td>[Taylor Kitsch, Lynn Collins, Samantha Morton]</td>\n",
       "      <td>[{\"credit_id\": \"52fe479ac3a36847f813eaa3\", \"de...</td>\n",
       "    </tr>\n",
       "  </tbody>\n",
       "</table>\n",
       "</div>"
      ],
      "text/plain": [
       "   movie_id                                     title  \\\n",
       "0     19995                                    Avatar   \n",
       "1       285  Pirates of the Caribbean: At World's End   \n",
       "2    206647                                   Spectre   \n",
       "3     49026                     The Dark Knight Rises   \n",
       "4     49529                               John Carter   \n",
       "\n",
       "                                            overview  \\\n",
       "0  In the 22nd century, a paraplegic Marine is di...   \n",
       "1  Captain Barbossa, long believed to be dead, ha...   \n",
       "2  A cryptic message from Bond’s past sends him o...   \n",
       "3  Following the death of District Attorney Harve...   \n",
       "4  John Carter is a war-weary, former military ca...   \n",
       "\n",
       "                                          genres  \\\n",
       "0  [Action, Adventure, Fantasy, Science Fiction]   \n",
       "1                   [Adventure, Fantasy, Action]   \n",
       "2                     [Action, Adventure, Crime]   \n",
       "3               [Action, Crime, Drama, Thriller]   \n",
       "4           [Action, Adventure, Science Fiction]   \n",
       "\n",
       "                                            keywords  \\\n",
       "0  [culture clash, future, space war, space colon...   \n",
       "1  [ocean, drug abuse, exotic island, east india ...   \n",
       "2  [spy, based on novel, secret agent, sequel, mi...   \n",
       "3  [dc comics, crime fighter, terrorist, secret i...   \n",
       "4  [based on novel, mars, medallion, space travel...   \n",
       "\n",
       "                                               cast  \\\n",
       "0  [Sam Worthington, Zoe Saldana, Sigourney Weaver]   \n",
       "1     [Johnny Depp, Orlando Bloom, Keira Knightley]   \n",
       "2      [Daniel Craig, Christoph Waltz, Léa Seydoux]   \n",
       "3      [Christian Bale, Michael Caine, Gary Oldman]   \n",
       "4    [Taylor Kitsch, Lynn Collins, Samantha Morton]   \n",
       "\n",
       "                                                crew  \n",
       "0  [{\"credit_id\": \"52fe48009251416c750aca23\", \"de...  \n",
       "1  [{\"credit_id\": \"52fe4232c3a36847f800b579\", \"de...  \n",
       "2  [{\"credit_id\": \"54805967c3a36829b5002c41\", \"de...  \n",
       "3  [{\"credit_id\": \"52fe4781c3a36847f81398c3\", \"de...  \n",
       "4  [{\"credit_id\": \"52fe479ac3a36847f813eaa3\", \"de...  "
      ]
     },
     "execution_count": 40,
     "metadata": {},
     "output_type": "execute_result"
    }
   ],
   "source": [
    "movies.head()"
   ]
  },
  {
   "cell_type": "code",
   "execution_count": 41,
   "id": "4301ff67-5843-4fa6-9f12-3444a31f606f",
   "metadata": {},
   "outputs": [],
   "source": [
    "import ast\n",
    "def fetch_director(obj):\n",
    "    L = []\n",
    "    for i in ast.literal_eval(obj):\n",
    "        if i['job'] == 'Director':\n",
    "            L.append(i['name'])\n",
    "            break\n",
    "    return L"
   ]
  },
  {
   "cell_type": "code",
   "execution_count": 42,
   "id": "e7c7d31e-add5-45d6-bdd6-861115a4e7b1",
   "metadata": {},
   "outputs": [
    {
     "data": {
      "text/plain": [
       "0           [James Cameron]\n",
       "1          [Gore Verbinski]\n",
       "2              [Sam Mendes]\n",
       "3       [Christopher Nolan]\n",
       "4          [Andrew Stanton]\n",
       "               ...         \n",
       "4804     [Robert Rodriguez]\n",
       "4805         [Edward Burns]\n",
       "4806          [Scott Smith]\n",
       "4807          [Daniel Hsia]\n",
       "4808     [Brian Herzlinger]\n",
       "Name: crew, Length: 4806, dtype: object"
      ]
     },
     "execution_count": 42,
     "metadata": {},
     "output_type": "execute_result"
    }
   ],
   "source": [
    "movies['crew'].apply(fetch_director)"
   ]
  },
  {
   "cell_type": "code",
   "execution_count": 43,
   "id": "14f98747-1bf0-4960-acf0-575ef0f3fd3b",
   "metadata": {},
   "outputs": [
    {
     "data": {
      "text/html": [
       "<div>\n",
       "<style scoped>\n",
       "    .dataframe tbody tr th:only-of-type {\n",
       "        vertical-align: middle;\n",
       "    }\n",
       "\n",
       "    .dataframe tbody tr th {\n",
       "        vertical-align: top;\n",
       "    }\n",
       "\n",
       "    .dataframe thead th {\n",
       "        text-align: right;\n",
       "    }\n",
       "</style>\n",
       "<table border=\"1\" class=\"dataframe\">\n",
       "  <thead>\n",
       "    <tr style=\"text-align: right;\">\n",
       "      <th></th>\n",
       "      <th>movie_id</th>\n",
       "      <th>title</th>\n",
       "      <th>overview</th>\n",
       "      <th>genres</th>\n",
       "      <th>keywords</th>\n",
       "      <th>cast</th>\n",
       "      <th>crew</th>\n",
       "    </tr>\n",
       "  </thead>\n",
       "  <tbody>\n",
       "    <tr>\n",
       "      <th>0</th>\n",
       "      <td>19995</td>\n",
       "      <td>Avatar</td>\n",
       "      <td>In the 22nd century, a paraplegic Marine is di...</td>\n",
       "      <td>[Action, Adventure, Fantasy, Science Fiction]</td>\n",
       "      <td>[culture clash, future, space war, space colon...</td>\n",
       "      <td>[Sam Worthington, Zoe Saldana, Sigourney Weaver]</td>\n",
       "      <td>[{\"credit_id\": \"52fe48009251416c750aca23\", \"de...</td>\n",
       "    </tr>\n",
       "    <tr>\n",
       "      <th>1</th>\n",
       "      <td>285</td>\n",
       "      <td>Pirates of the Caribbean: At World's End</td>\n",
       "      <td>Captain Barbossa, long believed to be dead, ha...</td>\n",
       "      <td>[Adventure, Fantasy, Action]</td>\n",
       "      <td>[ocean, drug abuse, exotic island, east india ...</td>\n",
       "      <td>[Johnny Depp, Orlando Bloom, Keira Knightley]</td>\n",
       "      <td>[{\"credit_id\": \"52fe4232c3a36847f800b579\", \"de...</td>\n",
       "    </tr>\n",
       "    <tr>\n",
       "      <th>2</th>\n",
       "      <td>206647</td>\n",
       "      <td>Spectre</td>\n",
       "      <td>A cryptic message from Bond’s past sends him o...</td>\n",
       "      <td>[Action, Adventure, Crime]</td>\n",
       "      <td>[spy, based on novel, secret agent, sequel, mi...</td>\n",
       "      <td>[Daniel Craig, Christoph Waltz, Léa Seydoux]</td>\n",
       "      <td>[{\"credit_id\": \"54805967c3a36829b5002c41\", \"de...</td>\n",
       "    </tr>\n",
       "    <tr>\n",
       "      <th>3</th>\n",
       "      <td>49026</td>\n",
       "      <td>The Dark Knight Rises</td>\n",
       "      <td>Following the death of District Attorney Harve...</td>\n",
       "      <td>[Action, Crime, Drama, Thriller]</td>\n",
       "      <td>[dc comics, crime fighter, terrorist, secret i...</td>\n",
       "      <td>[Christian Bale, Michael Caine, Gary Oldman]</td>\n",
       "      <td>[{\"credit_id\": \"52fe4781c3a36847f81398c3\", \"de...</td>\n",
       "    </tr>\n",
       "    <tr>\n",
       "      <th>4</th>\n",
       "      <td>49529</td>\n",
       "      <td>John Carter</td>\n",
       "      <td>John Carter is a war-weary, former military ca...</td>\n",
       "      <td>[Action, Adventure, Science Fiction]</td>\n",
       "      <td>[based on novel, mars, medallion, space travel...</td>\n",
       "      <td>[Taylor Kitsch, Lynn Collins, Samantha Morton]</td>\n",
       "      <td>[{\"credit_id\": \"52fe479ac3a36847f813eaa3\", \"de...</td>\n",
       "    </tr>\n",
       "  </tbody>\n",
       "</table>\n",
       "</div>"
      ],
      "text/plain": [
       "   movie_id                                     title  \\\n",
       "0     19995                                    Avatar   \n",
       "1       285  Pirates of the Caribbean: At World's End   \n",
       "2    206647                                   Spectre   \n",
       "3     49026                     The Dark Knight Rises   \n",
       "4     49529                               John Carter   \n",
       "\n",
       "                                            overview  \\\n",
       "0  In the 22nd century, a paraplegic Marine is di...   \n",
       "1  Captain Barbossa, long believed to be dead, ha...   \n",
       "2  A cryptic message from Bond’s past sends him o...   \n",
       "3  Following the death of District Attorney Harve...   \n",
       "4  John Carter is a war-weary, former military ca...   \n",
       "\n",
       "                                          genres  \\\n",
       "0  [Action, Adventure, Fantasy, Science Fiction]   \n",
       "1                   [Adventure, Fantasy, Action]   \n",
       "2                     [Action, Adventure, Crime]   \n",
       "3               [Action, Crime, Drama, Thriller]   \n",
       "4           [Action, Adventure, Science Fiction]   \n",
       "\n",
       "                                            keywords  \\\n",
       "0  [culture clash, future, space war, space colon...   \n",
       "1  [ocean, drug abuse, exotic island, east india ...   \n",
       "2  [spy, based on novel, secret agent, sequel, mi...   \n",
       "3  [dc comics, crime fighter, terrorist, secret i...   \n",
       "4  [based on novel, mars, medallion, space travel...   \n",
       "\n",
       "                                               cast  \\\n",
       "0  [Sam Worthington, Zoe Saldana, Sigourney Weaver]   \n",
       "1     [Johnny Depp, Orlando Bloom, Keira Knightley]   \n",
       "2      [Daniel Craig, Christoph Waltz, Léa Seydoux]   \n",
       "3      [Christian Bale, Michael Caine, Gary Oldman]   \n",
       "4    [Taylor Kitsch, Lynn Collins, Samantha Morton]   \n",
       "\n",
       "                                                crew  \n",
       "0  [{\"credit_id\": \"52fe48009251416c750aca23\", \"de...  \n",
       "1  [{\"credit_id\": \"52fe4232c3a36847f800b579\", \"de...  \n",
       "2  [{\"credit_id\": \"54805967c3a36829b5002c41\", \"de...  \n",
       "3  [{\"credit_id\": \"52fe4781c3a36847f81398c3\", \"de...  \n",
       "4  [{\"credit_id\": \"52fe479ac3a36847f813eaa3\", \"de...  "
      ]
     },
     "execution_count": 43,
     "metadata": {},
     "output_type": "execute_result"
    }
   ],
   "source": [
    "movies.head()"
   ]
  },
  {
   "cell_type": "code",
   "execution_count": 44,
   "id": "ce572bd8-b923-40da-9ead-9681003fd8dc",
   "metadata": {},
   "outputs": [],
   "source": [
    "# movies['crew'] = movies['crew'].apply(fetch_director)\n"
   ]
  },
  {
   "cell_type": "code",
   "execution_count": 45,
   "id": "af61832b-c4cd-4627-af9d-be1adaac8657",
   "metadata": {},
   "outputs": [
    {
     "data": {
      "text/html": [
       "<div>\n",
       "<style scoped>\n",
       "    .dataframe tbody tr th:only-of-type {\n",
       "        vertical-align: middle;\n",
       "    }\n",
       "\n",
       "    .dataframe tbody tr th {\n",
       "        vertical-align: top;\n",
       "    }\n",
       "\n",
       "    .dataframe thead th {\n",
       "        text-align: right;\n",
       "    }\n",
       "</style>\n",
       "<table border=\"1\" class=\"dataframe\">\n",
       "  <thead>\n",
       "    <tr style=\"text-align: right;\">\n",
       "      <th></th>\n",
       "      <th>movie_id</th>\n",
       "      <th>title</th>\n",
       "      <th>overview</th>\n",
       "      <th>genres</th>\n",
       "      <th>keywords</th>\n",
       "      <th>cast</th>\n",
       "      <th>crew</th>\n",
       "    </tr>\n",
       "  </thead>\n",
       "  <tbody>\n",
       "    <tr>\n",
       "      <th>0</th>\n",
       "      <td>19995</td>\n",
       "      <td>Avatar</td>\n",
       "      <td>In the 22nd century, a paraplegic Marine is di...</td>\n",
       "      <td>[Action, Adventure, Fantasy, Science Fiction]</td>\n",
       "      <td>[culture clash, future, space war, space colon...</td>\n",
       "      <td>[Sam Worthington, Zoe Saldana, Sigourney Weaver]</td>\n",
       "      <td>[{\"credit_id\": \"52fe48009251416c750aca23\", \"de...</td>\n",
       "    </tr>\n",
       "    <tr>\n",
       "      <th>1</th>\n",
       "      <td>285</td>\n",
       "      <td>Pirates of the Caribbean: At World's End</td>\n",
       "      <td>Captain Barbossa, long believed to be dead, ha...</td>\n",
       "      <td>[Adventure, Fantasy, Action]</td>\n",
       "      <td>[ocean, drug abuse, exotic island, east india ...</td>\n",
       "      <td>[Johnny Depp, Orlando Bloom, Keira Knightley]</td>\n",
       "      <td>[{\"credit_id\": \"52fe4232c3a36847f800b579\", \"de...</td>\n",
       "    </tr>\n",
       "    <tr>\n",
       "      <th>2</th>\n",
       "      <td>206647</td>\n",
       "      <td>Spectre</td>\n",
       "      <td>A cryptic message from Bond’s past sends him o...</td>\n",
       "      <td>[Action, Adventure, Crime]</td>\n",
       "      <td>[spy, based on novel, secret agent, sequel, mi...</td>\n",
       "      <td>[Daniel Craig, Christoph Waltz, Léa Seydoux]</td>\n",
       "      <td>[{\"credit_id\": \"54805967c3a36829b5002c41\", \"de...</td>\n",
       "    </tr>\n",
       "    <tr>\n",
       "      <th>3</th>\n",
       "      <td>49026</td>\n",
       "      <td>The Dark Knight Rises</td>\n",
       "      <td>Following the death of District Attorney Harve...</td>\n",
       "      <td>[Action, Crime, Drama, Thriller]</td>\n",
       "      <td>[dc comics, crime fighter, terrorist, secret i...</td>\n",
       "      <td>[Christian Bale, Michael Caine, Gary Oldman]</td>\n",
       "      <td>[{\"credit_id\": \"52fe4781c3a36847f81398c3\", \"de...</td>\n",
       "    </tr>\n",
       "    <tr>\n",
       "      <th>4</th>\n",
       "      <td>49529</td>\n",
       "      <td>John Carter</td>\n",
       "      <td>John Carter is a war-weary, former military ca...</td>\n",
       "      <td>[Action, Adventure, Science Fiction]</td>\n",
       "      <td>[based on novel, mars, medallion, space travel...</td>\n",
       "      <td>[Taylor Kitsch, Lynn Collins, Samantha Morton]</td>\n",
       "      <td>[{\"credit_id\": \"52fe479ac3a36847f813eaa3\", \"de...</td>\n",
       "    </tr>\n",
       "  </tbody>\n",
       "</table>\n",
       "</div>"
      ],
      "text/plain": [
       "   movie_id                                     title  \\\n",
       "0     19995                                    Avatar   \n",
       "1       285  Pirates of the Caribbean: At World's End   \n",
       "2    206647                                   Spectre   \n",
       "3     49026                     The Dark Knight Rises   \n",
       "4     49529                               John Carter   \n",
       "\n",
       "                                            overview  \\\n",
       "0  In the 22nd century, a paraplegic Marine is di...   \n",
       "1  Captain Barbossa, long believed to be dead, ha...   \n",
       "2  A cryptic message from Bond’s past sends him o...   \n",
       "3  Following the death of District Attorney Harve...   \n",
       "4  John Carter is a war-weary, former military ca...   \n",
       "\n",
       "                                          genres  \\\n",
       "0  [Action, Adventure, Fantasy, Science Fiction]   \n",
       "1                   [Adventure, Fantasy, Action]   \n",
       "2                     [Action, Adventure, Crime]   \n",
       "3               [Action, Crime, Drama, Thriller]   \n",
       "4           [Action, Adventure, Science Fiction]   \n",
       "\n",
       "                                            keywords  \\\n",
       "0  [culture clash, future, space war, space colon...   \n",
       "1  [ocean, drug abuse, exotic island, east india ...   \n",
       "2  [spy, based on novel, secret agent, sequel, mi...   \n",
       "3  [dc comics, crime fighter, terrorist, secret i...   \n",
       "4  [based on novel, mars, medallion, space travel...   \n",
       "\n",
       "                                               cast  \\\n",
       "0  [Sam Worthington, Zoe Saldana, Sigourney Weaver]   \n",
       "1     [Johnny Depp, Orlando Bloom, Keira Knightley]   \n",
       "2      [Daniel Craig, Christoph Waltz, Léa Seydoux]   \n",
       "3      [Christian Bale, Michael Caine, Gary Oldman]   \n",
       "4    [Taylor Kitsch, Lynn Collins, Samantha Morton]   \n",
       "\n",
       "                                                crew  \n",
       "0  [{\"credit_id\": \"52fe48009251416c750aca23\", \"de...  \n",
       "1  [{\"credit_id\": \"52fe4232c3a36847f800b579\", \"de...  \n",
       "2  [{\"credit_id\": \"54805967c3a36829b5002c41\", \"de...  \n",
       "3  [{\"credit_id\": \"52fe4781c3a36847f81398c3\", \"de...  \n",
       "4  [{\"credit_id\": \"52fe479ac3a36847f813eaa3\", \"de...  "
      ]
     },
     "execution_count": 45,
     "metadata": {},
     "output_type": "execute_result"
    }
   ],
   "source": [
    "movies.head()"
   ]
  },
  {
   "cell_type": "code",
   "execution_count": 46,
   "id": "2c1408a9-55c0-4a9b-82b3-57c930111599",
   "metadata": {},
   "outputs": [
    {
     "data": {
      "text/plain": [
       "'In the 22nd century, a paraplegic Marine is dispatched to the moon Pandora on a unique mission, but becomes torn between following orders and protecting an alien civilization.'"
      ]
     },
     "execution_count": 46,
     "metadata": {},
     "output_type": "execute_result"
    }
   ],
   "source": [
    "movies['overview'][0]"
   ]
  },
  {
   "cell_type": "code",
   "execution_count": 47,
   "id": "e3d45591-b9bc-4de0-bb55-d7918b26aa21",
   "metadata": {},
   "outputs": [],
   "source": [
    "movies['overview'] = movies['overview'].apply(lambda x:x.split())"
   ]
  },
  {
   "cell_type": "code",
   "execution_count": 48,
   "id": "f09fd050-2d9e-4d6d-86b9-25e0e934be88",
   "metadata": {},
   "outputs": [
    {
     "data": {
      "text/html": [
       "<div>\n",
       "<style scoped>\n",
       "    .dataframe tbody tr th:only-of-type {\n",
       "        vertical-align: middle;\n",
       "    }\n",
       "\n",
       "    .dataframe tbody tr th {\n",
       "        vertical-align: top;\n",
       "    }\n",
       "\n",
       "    .dataframe thead th {\n",
       "        text-align: right;\n",
       "    }\n",
       "</style>\n",
       "<table border=\"1\" class=\"dataframe\">\n",
       "  <thead>\n",
       "    <tr style=\"text-align: right;\">\n",
       "      <th></th>\n",
       "      <th>movie_id</th>\n",
       "      <th>title</th>\n",
       "      <th>overview</th>\n",
       "      <th>genres</th>\n",
       "      <th>keywords</th>\n",
       "      <th>cast</th>\n",
       "      <th>crew</th>\n",
       "    </tr>\n",
       "  </thead>\n",
       "  <tbody>\n",
       "    <tr>\n",
       "      <th>0</th>\n",
       "      <td>19995</td>\n",
       "      <td>Avatar</td>\n",
       "      <td>[In, the, 22nd, century,, a, paraplegic, Marin...</td>\n",
       "      <td>[Action, Adventure, Fantasy, Science Fiction]</td>\n",
       "      <td>[culture clash, future, space war, space colon...</td>\n",
       "      <td>[Sam Worthington, Zoe Saldana, Sigourney Weaver]</td>\n",
       "      <td>[{\"credit_id\": \"52fe48009251416c750aca23\", \"de...</td>\n",
       "    </tr>\n",
       "    <tr>\n",
       "      <th>1</th>\n",
       "      <td>285</td>\n",
       "      <td>Pirates of the Caribbean: At World's End</td>\n",
       "      <td>[Captain, Barbossa,, long, believed, to, be, d...</td>\n",
       "      <td>[Adventure, Fantasy, Action]</td>\n",
       "      <td>[ocean, drug abuse, exotic island, east india ...</td>\n",
       "      <td>[Johnny Depp, Orlando Bloom, Keira Knightley]</td>\n",
       "      <td>[{\"credit_id\": \"52fe4232c3a36847f800b579\", \"de...</td>\n",
       "    </tr>\n",
       "    <tr>\n",
       "      <th>2</th>\n",
       "      <td>206647</td>\n",
       "      <td>Spectre</td>\n",
       "      <td>[A, cryptic, message, from, Bond’s, past, send...</td>\n",
       "      <td>[Action, Adventure, Crime]</td>\n",
       "      <td>[spy, based on novel, secret agent, sequel, mi...</td>\n",
       "      <td>[Daniel Craig, Christoph Waltz, Léa Seydoux]</td>\n",
       "      <td>[{\"credit_id\": \"54805967c3a36829b5002c41\", \"de...</td>\n",
       "    </tr>\n",
       "    <tr>\n",
       "      <th>3</th>\n",
       "      <td>49026</td>\n",
       "      <td>The Dark Knight Rises</td>\n",
       "      <td>[Following, the, death, of, District, Attorney...</td>\n",
       "      <td>[Action, Crime, Drama, Thriller]</td>\n",
       "      <td>[dc comics, crime fighter, terrorist, secret i...</td>\n",
       "      <td>[Christian Bale, Michael Caine, Gary Oldman]</td>\n",
       "      <td>[{\"credit_id\": \"52fe4781c3a36847f81398c3\", \"de...</td>\n",
       "    </tr>\n",
       "    <tr>\n",
       "      <th>4</th>\n",
       "      <td>49529</td>\n",
       "      <td>John Carter</td>\n",
       "      <td>[John, Carter, is, a, war-weary,, former, mili...</td>\n",
       "      <td>[Action, Adventure, Science Fiction]</td>\n",
       "      <td>[based on novel, mars, medallion, space travel...</td>\n",
       "      <td>[Taylor Kitsch, Lynn Collins, Samantha Morton]</td>\n",
       "      <td>[{\"credit_id\": \"52fe479ac3a36847f813eaa3\", \"de...</td>\n",
       "    </tr>\n",
       "  </tbody>\n",
       "</table>\n",
       "</div>"
      ],
      "text/plain": [
       "   movie_id                                     title  \\\n",
       "0     19995                                    Avatar   \n",
       "1       285  Pirates of the Caribbean: At World's End   \n",
       "2    206647                                   Spectre   \n",
       "3     49026                     The Dark Knight Rises   \n",
       "4     49529                               John Carter   \n",
       "\n",
       "                                            overview  \\\n",
       "0  [In, the, 22nd, century,, a, paraplegic, Marin...   \n",
       "1  [Captain, Barbossa,, long, believed, to, be, d...   \n",
       "2  [A, cryptic, message, from, Bond’s, past, send...   \n",
       "3  [Following, the, death, of, District, Attorney...   \n",
       "4  [John, Carter, is, a, war-weary,, former, mili...   \n",
       "\n",
       "                                          genres  \\\n",
       "0  [Action, Adventure, Fantasy, Science Fiction]   \n",
       "1                   [Adventure, Fantasy, Action]   \n",
       "2                     [Action, Adventure, Crime]   \n",
       "3               [Action, Crime, Drama, Thriller]   \n",
       "4           [Action, Adventure, Science Fiction]   \n",
       "\n",
       "                                            keywords  \\\n",
       "0  [culture clash, future, space war, space colon...   \n",
       "1  [ocean, drug abuse, exotic island, east india ...   \n",
       "2  [spy, based on novel, secret agent, sequel, mi...   \n",
       "3  [dc comics, crime fighter, terrorist, secret i...   \n",
       "4  [based on novel, mars, medallion, space travel...   \n",
       "\n",
       "                                               cast  \\\n",
       "0  [Sam Worthington, Zoe Saldana, Sigourney Weaver]   \n",
       "1     [Johnny Depp, Orlando Bloom, Keira Knightley]   \n",
       "2      [Daniel Craig, Christoph Waltz, Léa Seydoux]   \n",
       "3      [Christian Bale, Michael Caine, Gary Oldman]   \n",
       "4    [Taylor Kitsch, Lynn Collins, Samantha Morton]   \n",
       "\n",
       "                                                crew  \n",
       "0  [{\"credit_id\": \"52fe48009251416c750aca23\", \"de...  \n",
       "1  [{\"credit_id\": \"52fe4232c3a36847f800b579\", \"de...  \n",
       "2  [{\"credit_id\": \"54805967c3a36829b5002c41\", \"de...  \n",
       "3  [{\"credit_id\": \"52fe4781c3a36847f81398c3\", \"de...  \n",
       "4  [{\"credit_id\": \"52fe479ac3a36847f813eaa3\", \"de...  "
      ]
     },
     "execution_count": 48,
     "metadata": {},
     "output_type": "execute_result"
    }
   ],
   "source": [
    "movies.head()"
   ]
  },
  {
   "cell_type": "code",
   "execution_count": 49,
   "id": "4563fd60-98bb-417a-af22-5047231f747a",
   "metadata": {},
   "outputs": [],
   "source": [
    "movies['genres'] = movies['genres'].apply(lambda x:[i.replace(\" \",\"\") for i in x])\n",
    "movies['keywords'] = movies['keywords'].apply(lambda x:[i.replace(\" \",\"\") for i in x])\n",
    "movies['cast'] = movies['cast'].apply(lambda x:[i.replace(\" \",\"\") for i in x])\n",
    "movies['crew'] = movies['crew'].apply(lambda x:[i.replace(\" \",\"\") for i in x])"
   ]
  },
  {
   "cell_type": "code",
   "execution_count": 50,
   "id": "db0cac3b-af4f-4f1e-b461-134f03a898fb",
   "metadata": {},
   "outputs": [
    {
     "data": {
      "text/html": [
       "<div>\n",
       "<style scoped>\n",
       "    .dataframe tbody tr th:only-of-type {\n",
       "        vertical-align: middle;\n",
       "    }\n",
       "\n",
       "    .dataframe tbody tr th {\n",
       "        vertical-align: top;\n",
       "    }\n",
       "\n",
       "    .dataframe thead th {\n",
       "        text-align: right;\n",
       "    }\n",
       "</style>\n",
       "<table border=\"1\" class=\"dataframe\">\n",
       "  <thead>\n",
       "    <tr style=\"text-align: right;\">\n",
       "      <th></th>\n",
       "      <th>movie_id</th>\n",
       "      <th>title</th>\n",
       "      <th>overview</th>\n",
       "      <th>genres</th>\n",
       "      <th>keywords</th>\n",
       "      <th>cast</th>\n",
       "      <th>crew</th>\n",
       "    </tr>\n",
       "  </thead>\n",
       "  <tbody>\n",
       "    <tr>\n",
       "      <th>0</th>\n",
       "      <td>19995</td>\n",
       "      <td>Avatar</td>\n",
       "      <td>[In, the, 22nd, century,, a, paraplegic, Marin...</td>\n",
       "      <td>[Action, Adventure, Fantasy, ScienceFiction]</td>\n",
       "      <td>[cultureclash, future, spacewar, spacecolony, ...</td>\n",
       "      <td>[SamWorthington, ZoeSaldana, SigourneyWeaver]</td>\n",
       "      <td>[[, {, \", c, r, e, d, i, t, _, i, d, \", :, , \"...</td>\n",
       "    </tr>\n",
       "    <tr>\n",
       "      <th>1</th>\n",
       "      <td>285</td>\n",
       "      <td>Pirates of the Caribbean: At World's End</td>\n",
       "      <td>[Captain, Barbossa,, long, believed, to, be, d...</td>\n",
       "      <td>[Adventure, Fantasy, Action]</td>\n",
       "      <td>[ocean, drugabuse, exoticisland, eastindiatrad...</td>\n",
       "      <td>[JohnnyDepp, OrlandoBloom, KeiraKnightley]</td>\n",
       "      <td>[[, {, \", c, r, e, d, i, t, _, i, d, \", :, , \"...</td>\n",
       "    </tr>\n",
       "    <tr>\n",
       "      <th>2</th>\n",
       "      <td>206647</td>\n",
       "      <td>Spectre</td>\n",
       "      <td>[A, cryptic, message, from, Bond’s, past, send...</td>\n",
       "      <td>[Action, Adventure, Crime]</td>\n",
       "      <td>[spy, basedonnovel, secretagent, sequel, mi6, ...</td>\n",
       "      <td>[DanielCraig, ChristophWaltz, LéaSeydoux]</td>\n",
       "      <td>[[, {, \", c, r, e, d, i, t, _, i, d, \", :, , \"...</td>\n",
       "    </tr>\n",
       "    <tr>\n",
       "      <th>3</th>\n",
       "      <td>49026</td>\n",
       "      <td>The Dark Knight Rises</td>\n",
       "      <td>[Following, the, death, of, District, Attorney...</td>\n",
       "      <td>[Action, Crime, Drama, Thriller]</td>\n",
       "      <td>[dccomics, crimefighter, terrorist, secretiden...</td>\n",
       "      <td>[ChristianBale, MichaelCaine, GaryOldman]</td>\n",
       "      <td>[[, {, \", c, r, e, d, i, t, _, i, d, \", :, , \"...</td>\n",
       "    </tr>\n",
       "    <tr>\n",
       "      <th>4</th>\n",
       "      <td>49529</td>\n",
       "      <td>John Carter</td>\n",
       "      <td>[John, Carter, is, a, war-weary,, former, mili...</td>\n",
       "      <td>[Action, Adventure, ScienceFiction]</td>\n",
       "      <td>[basedonnovel, mars, medallion, spacetravel, p...</td>\n",
       "      <td>[TaylorKitsch, LynnCollins, SamanthaMorton]</td>\n",
       "      <td>[[, {, \", c, r, e, d, i, t, _, i, d, \", :, , \"...</td>\n",
       "    </tr>\n",
       "  </tbody>\n",
       "</table>\n",
       "</div>"
      ],
      "text/plain": [
       "   movie_id                                     title  \\\n",
       "0     19995                                    Avatar   \n",
       "1       285  Pirates of the Caribbean: At World's End   \n",
       "2    206647                                   Spectre   \n",
       "3     49026                     The Dark Knight Rises   \n",
       "4     49529                               John Carter   \n",
       "\n",
       "                                            overview  \\\n",
       "0  [In, the, 22nd, century,, a, paraplegic, Marin...   \n",
       "1  [Captain, Barbossa,, long, believed, to, be, d...   \n",
       "2  [A, cryptic, message, from, Bond’s, past, send...   \n",
       "3  [Following, the, death, of, District, Attorney...   \n",
       "4  [John, Carter, is, a, war-weary,, former, mili...   \n",
       "\n",
       "                                         genres  \\\n",
       "0  [Action, Adventure, Fantasy, ScienceFiction]   \n",
       "1                  [Adventure, Fantasy, Action]   \n",
       "2                    [Action, Adventure, Crime]   \n",
       "3              [Action, Crime, Drama, Thriller]   \n",
       "4           [Action, Adventure, ScienceFiction]   \n",
       "\n",
       "                                            keywords  \\\n",
       "0  [cultureclash, future, spacewar, spacecolony, ...   \n",
       "1  [ocean, drugabuse, exoticisland, eastindiatrad...   \n",
       "2  [spy, basedonnovel, secretagent, sequel, mi6, ...   \n",
       "3  [dccomics, crimefighter, terrorist, secretiden...   \n",
       "4  [basedonnovel, mars, medallion, spacetravel, p...   \n",
       "\n",
       "                                            cast  \\\n",
       "0  [SamWorthington, ZoeSaldana, SigourneyWeaver]   \n",
       "1     [JohnnyDepp, OrlandoBloom, KeiraKnightley]   \n",
       "2      [DanielCraig, ChristophWaltz, LéaSeydoux]   \n",
       "3      [ChristianBale, MichaelCaine, GaryOldman]   \n",
       "4    [TaylorKitsch, LynnCollins, SamanthaMorton]   \n",
       "\n",
       "                                                crew  \n",
       "0  [[, {, \", c, r, e, d, i, t, _, i, d, \", :, , \"...  \n",
       "1  [[, {, \", c, r, e, d, i, t, _, i, d, \", :, , \"...  \n",
       "2  [[, {, \", c, r, e, d, i, t, _, i, d, \", :, , \"...  \n",
       "3  [[, {, \", c, r, e, d, i, t, _, i, d, \", :, , \"...  \n",
       "4  [[, {, \", c, r, e, d, i, t, _, i, d, \", :, , \"...  "
      ]
     },
     "execution_count": 50,
     "metadata": {},
     "output_type": "execute_result"
    }
   ],
   "source": [
    "movies.head()"
   ]
  },
  {
   "cell_type": "code",
   "execution_count": 51,
   "id": "406495a0-4be6-4acb-9c83-5d8f0d0d97d5",
   "metadata": {},
   "outputs": [],
   "source": [
    "# Creating tag"
   ]
  },
  {
   "cell_type": "code",
   "execution_count": 52,
   "id": "baf48fcc-92bb-47e0-9752-d7aa161658e7",
   "metadata": {},
   "outputs": [],
   "source": [
    "movies['tags'] = movies['overview'] + movies['genres'] + movies['keywords'] + movies['cast'] + movies['crew']"
   ]
  },
  {
   "cell_type": "code",
   "execution_count": 53,
   "id": "76879210-3018-4b09-841d-1c74b2d8e6ee",
   "metadata": {},
   "outputs": [
    {
     "data": {
      "text/html": [
       "<div>\n",
       "<style scoped>\n",
       "    .dataframe tbody tr th:only-of-type {\n",
       "        vertical-align: middle;\n",
       "    }\n",
       "\n",
       "    .dataframe tbody tr th {\n",
       "        vertical-align: top;\n",
       "    }\n",
       "\n",
       "    .dataframe thead th {\n",
       "        text-align: right;\n",
       "    }\n",
       "</style>\n",
       "<table border=\"1\" class=\"dataframe\">\n",
       "  <thead>\n",
       "    <tr style=\"text-align: right;\">\n",
       "      <th></th>\n",
       "      <th>movie_id</th>\n",
       "      <th>title</th>\n",
       "      <th>overview</th>\n",
       "      <th>genres</th>\n",
       "      <th>keywords</th>\n",
       "      <th>cast</th>\n",
       "      <th>crew</th>\n",
       "      <th>tags</th>\n",
       "    </tr>\n",
       "  </thead>\n",
       "  <tbody>\n",
       "    <tr>\n",
       "      <th>0</th>\n",
       "      <td>19995</td>\n",
       "      <td>Avatar</td>\n",
       "      <td>[In, the, 22nd, century,, a, paraplegic, Marin...</td>\n",
       "      <td>[Action, Adventure, Fantasy, ScienceFiction]</td>\n",
       "      <td>[cultureclash, future, spacewar, spacecolony, ...</td>\n",
       "      <td>[SamWorthington, ZoeSaldana, SigourneyWeaver]</td>\n",
       "      <td>[[, {, \", c, r, e, d, i, t, _, i, d, \", :, , \"...</td>\n",
       "      <td>[In, the, 22nd, century,, a, paraplegic, Marin...</td>\n",
       "    </tr>\n",
       "    <tr>\n",
       "      <th>1</th>\n",
       "      <td>285</td>\n",
       "      <td>Pirates of the Caribbean: At World's End</td>\n",
       "      <td>[Captain, Barbossa,, long, believed, to, be, d...</td>\n",
       "      <td>[Adventure, Fantasy, Action]</td>\n",
       "      <td>[ocean, drugabuse, exoticisland, eastindiatrad...</td>\n",
       "      <td>[JohnnyDepp, OrlandoBloom, KeiraKnightley]</td>\n",
       "      <td>[[, {, \", c, r, e, d, i, t, _, i, d, \", :, , \"...</td>\n",
       "      <td>[Captain, Barbossa,, long, believed, to, be, d...</td>\n",
       "    </tr>\n",
       "    <tr>\n",
       "      <th>2</th>\n",
       "      <td>206647</td>\n",
       "      <td>Spectre</td>\n",
       "      <td>[A, cryptic, message, from, Bond’s, past, send...</td>\n",
       "      <td>[Action, Adventure, Crime]</td>\n",
       "      <td>[spy, basedonnovel, secretagent, sequel, mi6, ...</td>\n",
       "      <td>[DanielCraig, ChristophWaltz, LéaSeydoux]</td>\n",
       "      <td>[[, {, \", c, r, e, d, i, t, _, i, d, \", :, , \"...</td>\n",
       "      <td>[A, cryptic, message, from, Bond’s, past, send...</td>\n",
       "    </tr>\n",
       "    <tr>\n",
       "      <th>3</th>\n",
       "      <td>49026</td>\n",
       "      <td>The Dark Knight Rises</td>\n",
       "      <td>[Following, the, death, of, District, Attorney...</td>\n",
       "      <td>[Action, Crime, Drama, Thriller]</td>\n",
       "      <td>[dccomics, crimefighter, terrorist, secretiden...</td>\n",
       "      <td>[ChristianBale, MichaelCaine, GaryOldman]</td>\n",
       "      <td>[[, {, \", c, r, e, d, i, t, _, i, d, \", :, , \"...</td>\n",
       "      <td>[Following, the, death, of, District, Attorney...</td>\n",
       "    </tr>\n",
       "    <tr>\n",
       "      <th>4</th>\n",
       "      <td>49529</td>\n",
       "      <td>John Carter</td>\n",
       "      <td>[John, Carter, is, a, war-weary,, former, mili...</td>\n",
       "      <td>[Action, Adventure, ScienceFiction]</td>\n",
       "      <td>[basedonnovel, mars, medallion, spacetravel, p...</td>\n",
       "      <td>[TaylorKitsch, LynnCollins, SamanthaMorton]</td>\n",
       "      <td>[[, {, \", c, r, e, d, i, t, _, i, d, \", :, , \"...</td>\n",
       "      <td>[John, Carter, is, a, war-weary,, former, mili...</td>\n",
       "    </tr>\n",
       "  </tbody>\n",
       "</table>\n",
       "</div>"
      ],
      "text/plain": [
       "   movie_id                                     title  \\\n",
       "0     19995                                    Avatar   \n",
       "1       285  Pirates of the Caribbean: At World's End   \n",
       "2    206647                                   Spectre   \n",
       "3     49026                     The Dark Knight Rises   \n",
       "4     49529                               John Carter   \n",
       "\n",
       "                                            overview  \\\n",
       "0  [In, the, 22nd, century,, a, paraplegic, Marin...   \n",
       "1  [Captain, Barbossa,, long, believed, to, be, d...   \n",
       "2  [A, cryptic, message, from, Bond’s, past, send...   \n",
       "3  [Following, the, death, of, District, Attorney...   \n",
       "4  [John, Carter, is, a, war-weary,, former, mili...   \n",
       "\n",
       "                                         genres  \\\n",
       "0  [Action, Adventure, Fantasy, ScienceFiction]   \n",
       "1                  [Adventure, Fantasy, Action]   \n",
       "2                    [Action, Adventure, Crime]   \n",
       "3              [Action, Crime, Drama, Thriller]   \n",
       "4           [Action, Adventure, ScienceFiction]   \n",
       "\n",
       "                                            keywords  \\\n",
       "0  [cultureclash, future, spacewar, spacecolony, ...   \n",
       "1  [ocean, drugabuse, exoticisland, eastindiatrad...   \n",
       "2  [spy, basedonnovel, secretagent, sequel, mi6, ...   \n",
       "3  [dccomics, crimefighter, terrorist, secretiden...   \n",
       "4  [basedonnovel, mars, medallion, spacetravel, p...   \n",
       "\n",
       "                                            cast  \\\n",
       "0  [SamWorthington, ZoeSaldana, SigourneyWeaver]   \n",
       "1     [JohnnyDepp, OrlandoBloom, KeiraKnightley]   \n",
       "2      [DanielCraig, ChristophWaltz, LéaSeydoux]   \n",
       "3      [ChristianBale, MichaelCaine, GaryOldman]   \n",
       "4    [TaylorKitsch, LynnCollins, SamanthaMorton]   \n",
       "\n",
       "                                                crew  \\\n",
       "0  [[, {, \", c, r, e, d, i, t, _, i, d, \", :, , \"...   \n",
       "1  [[, {, \", c, r, e, d, i, t, _, i, d, \", :, , \"...   \n",
       "2  [[, {, \", c, r, e, d, i, t, _, i, d, \", :, , \"...   \n",
       "3  [[, {, \", c, r, e, d, i, t, _, i, d, \", :, , \"...   \n",
       "4  [[, {, \", c, r, e, d, i, t, _, i, d, \", :, , \"...   \n",
       "\n",
       "                                                tags  \n",
       "0  [In, the, 22nd, century,, a, paraplegic, Marin...  \n",
       "1  [Captain, Barbossa,, long, believed, to, be, d...  \n",
       "2  [A, cryptic, message, from, Bond’s, past, send...  \n",
       "3  [Following, the, death, of, District, Attorney...  \n",
       "4  [John, Carter, is, a, war-weary,, former, mili...  "
      ]
     },
     "execution_count": 53,
     "metadata": {},
     "output_type": "execute_result"
    }
   ],
   "source": [
    "movies.head()"
   ]
  },
  {
   "cell_type": "code",
   "execution_count": 54,
   "id": "9bc92555-ae39-4643-bb36-393cf6555a21",
   "metadata": {},
   "outputs": [],
   "source": [
    "new_df = movies[['movie_id','title','tags']]"
   ]
  },
  {
   "cell_type": "code",
   "execution_count": 55,
   "id": "bae0925e-c71a-4ad7-85cb-d98b6d570b8a",
   "metadata": {},
   "outputs": [
    {
     "data": {
      "text/html": [
       "<div>\n",
       "<style scoped>\n",
       "    .dataframe tbody tr th:only-of-type {\n",
       "        vertical-align: middle;\n",
       "    }\n",
       "\n",
       "    .dataframe tbody tr th {\n",
       "        vertical-align: top;\n",
       "    }\n",
       "\n",
       "    .dataframe thead th {\n",
       "        text-align: right;\n",
       "    }\n",
       "</style>\n",
       "<table border=\"1\" class=\"dataframe\">\n",
       "  <thead>\n",
       "    <tr style=\"text-align: right;\">\n",
       "      <th></th>\n",
       "      <th>movie_id</th>\n",
       "      <th>title</th>\n",
       "      <th>tags</th>\n",
       "    </tr>\n",
       "  </thead>\n",
       "  <tbody>\n",
       "    <tr>\n",
       "      <th>0</th>\n",
       "      <td>19995</td>\n",
       "      <td>Avatar</td>\n",
       "      <td>[In, the, 22nd, century,, a, paraplegic, Marin...</td>\n",
       "    </tr>\n",
       "    <tr>\n",
       "      <th>1</th>\n",
       "      <td>285</td>\n",
       "      <td>Pirates of the Caribbean: At World's End</td>\n",
       "      <td>[Captain, Barbossa,, long, believed, to, be, d...</td>\n",
       "    </tr>\n",
       "    <tr>\n",
       "      <th>2</th>\n",
       "      <td>206647</td>\n",
       "      <td>Spectre</td>\n",
       "      <td>[A, cryptic, message, from, Bond’s, past, send...</td>\n",
       "    </tr>\n",
       "    <tr>\n",
       "      <th>3</th>\n",
       "      <td>49026</td>\n",
       "      <td>The Dark Knight Rises</td>\n",
       "      <td>[Following, the, death, of, District, Attorney...</td>\n",
       "    </tr>\n",
       "    <tr>\n",
       "      <th>4</th>\n",
       "      <td>49529</td>\n",
       "      <td>John Carter</td>\n",
       "      <td>[John, Carter, is, a, war-weary,, former, mili...</td>\n",
       "    </tr>\n",
       "    <tr>\n",
       "      <th>...</th>\n",
       "      <td>...</td>\n",
       "      <td>...</td>\n",
       "      <td>...</td>\n",
       "    </tr>\n",
       "    <tr>\n",
       "      <th>4804</th>\n",
       "      <td>9367</td>\n",
       "      <td>El Mariachi</td>\n",
       "      <td>[El, Mariachi, just, wants, to, play, his, gui...</td>\n",
       "    </tr>\n",
       "    <tr>\n",
       "      <th>4805</th>\n",
       "      <td>72766</td>\n",
       "      <td>Newlyweds</td>\n",
       "      <td>[A, newlywed, couple's, honeymoon, is, upended...</td>\n",
       "    </tr>\n",
       "    <tr>\n",
       "      <th>4806</th>\n",
       "      <td>231617</td>\n",
       "      <td>Signed, Sealed, Delivered</td>\n",
       "      <td>[\"Signed,, Sealed,, Delivered\", introduces, a,...</td>\n",
       "    </tr>\n",
       "    <tr>\n",
       "      <th>4807</th>\n",
       "      <td>126186</td>\n",
       "      <td>Shanghai Calling</td>\n",
       "      <td>[When, ambitious, New, York, attorney, Sam, is...</td>\n",
       "    </tr>\n",
       "    <tr>\n",
       "      <th>4808</th>\n",
       "      <td>25975</td>\n",
       "      <td>My Date with Drew</td>\n",
       "      <td>[Ever, since, the, second, grade, when, he, fi...</td>\n",
       "    </tr>\n",
       "  </tbody>\n",
       "</table>\n",
       "<p>4806 rows × 3 columns</p>\n",
       "</div>"
      ],
      "text/plain": [
       "      movie_id                                     title  \\\n",
       "0        19995                                    Avatar   \n",
       "1          285  Pirates of the Caribbean: At World's End   \n",
       "2       206647                                   Spectre   \n",
       "3        49026                     The Dark Knight Rises   \n",
       "4        49529                               John Carter   \n",
       "...        ...                                       ...   \n",
       "4804      9367                               El Mariachi   \n",
       "4805     72766                                 Newlyweds   \n",
       "4806    231617                 Signed, Sealed, Delivered   \n",
       "4807    126186                          Shanghai Calling   \n",
       "4808     25975                         My Date with Drew   \n",
       "\n",
       "                                                   tags  \n",
       "0     [In, the, 22nd, century,, a, paraplegic, Marin...  \n",
       "1     [Captain, Barbossa,, long, believed, to, be, d...  \n",
       "2     [A, cryptic, message, from, Bond’s, past, send...  \n",
       "3     [Following, the, death, of, District, Attorney...  \n",
       "4     [John, Carter, is, a, war-weary,, former, mili...  \n",
       "...                                                 ...  \n",
       "4804  [El, Mariachi, just, wants, to, play, his, gui...  \n",
       "4805  [A, newlywed, couple's, honeymoon, is, upended...  \n",
       "4806  [\"Signed,, Sealed,, Delivered\", introduces, a,...  \n",
       "4807  [When, ambitious, New, York, attorney, Sam, is...  \n",
       "4808  [Ever, since, the, second, grade, when, he, fi...  \n",
       "\n",
       "[4806 rows x 3 columns]"
      ]
     },
     "execution_count": 55,
     "metadata": {},
     "output_type": "execute_result"
    }
   ],
   "source": [
    "new_df"
   ]
  },
  {
   "cell_type": "code",
   "execution_count": 56,
   "id": "29d4cc09-c048-43b1-8611-1fe07fd94c34",
   "metadata": {},
   "outputs": [
    {
     "name": "stderr",
     "output_type": "stream",
     "text": [
      "C:\\Users\\Sachee\\AppData\\Local\\Temp\\ipykernel_9632\\3089450492.py:1: SettingWithCopyWarning: \n",
      "A value is trying to be set on a copy of a slice from a DataFrame.\n",
      "Try using .loc[row_indexer,col_indexer] = value instead\n",
      "\n",
      "See the caveats in the documentation: https://pandas.pydata.org/pandas-docs/stable/user_guide/indexing.html#returning-a-view-versus-a-copy\n",
      "  new_df['tags'] = new_df['tags'].apply(lambda x:\" \".join(x))\n"
     ]
    }
   ],
   "source": [
    "new_df['tags'] = new_df['tags'].apply(lambda x:\" \".join(x))"
   ]
  },
  {
   "cell_type": "code",
   "execution_count": 57,
   "id": "ef85e8c6-2dce-4ef8-8ded-c8718b0feb95",
   "metadata": {},
   "outputs": [
    {
     "data": {
      "text/html": [
       "<div>\n",
       "<style scoped>\n",
       "    .dataframe tbody tr th:only-of-type {\n",
       "        vertical-align: middle;\n",
       "    }\n",
       "\n",
       "    .dataframe tbody tr th {\n",
       "        vertical-align: top;\n",
       "    }\n",
       "\n",
       "    .dataframe thead th {\n",
       "        text-align: right;\n",
       "    }\n",
       "</style>\n",
       "<table border=\"1\" class=\"dataframe\">\n",
       "  <thead>\n",
       "    <tr style=\"text-align: right;\">\n",
       "      <th></th>\n",
       "      <th>movie_id</th>\n",
       "      <th>title</th>\n",
       "      <th>tags</th>\n",
       "    </tr>\n",
       "  </thead>\n",
       "  <tbody>\n",
       "    <tr>\n",
       "      <th>0</th>\n",
       "      <td>19995</td>\n",
       "      <td>Avatar</td>\n",
       "      <td>In the 22nd century, a paraplegic Marine is di...</td>\n",
       "    </tr>\n",
       "    <tr>\n",
       "      <th>1</th>\n",
       "      <td>285</td>\n",
       "      <td>Pirates of the Caribbean: At World's End</td>\n",
       "      <td>Captain Barbossa, long believed to be dead, ha...</td>\n",
       "    </tr>\n",
       "    <tr>\n",
       "      <th>2</th>\n",
       "      <td>206647</td>\n",
       "      <td>Spectre</td>\n",
       "      <td>A cryptic message from Bond’s past sends him o...</td>\n",
       "    </tr>\n",
       "    <tr>\n",
       "      <th>3</th>\n",
       "      <td>49026</td>\n",
       "      <td>The Dark Knight Rises</td>\n",
       "      <td>Following the death of District Attorney Harve...</td>\n",
       "    </tr>\n",
       "    <tr>\n",
       "      <th>4</th>\n",
       "      <td>49529</td>\n",
       "      <td>John Carter</td>\n",
       "      <td>John Carter is a war-weary, former military ca...</td>\n",
       "    </tr>\n",
       "  </tbody>\n",
       "</table>\n",
       "</div>"
      ],
      "text/plain": [
       "   movie_id                                     title  \\\n",
       "0     19995                                    Avatar   \n",
       "1       285  Pirates of the Caribbean: At World's End   \n",
       "2    206647                                   Spectre   \n",
       "3     49026                     The Dark Knight Rises   \n",
       "4     49529                               John Carter   \n",
       "\n",
       "                                                tags  \n",
       "0  In the 22nd century, a paraplegic Marine is di...  \n",
       "1  Captain Barbossa, long believed to be dead, ha...  \n",
       "2  A cryptic message from Bond’s past sends him o...  \n",
       "3  Following the death of District Attorney Harve...  \n",
       "4  John Carter is a war-weary, former military ca...  "
      ]
     },
     "execution_count": 57,
     "metadata": {},
     "output_type": "execute_result"
    }
   ],
   "source": [
    "new_df.head()"
   ]
  },
  {
   "cell_type": "code",
   "execution_count": 58,
   "id": "314376f3-88ec-4f93-9a0f-83e962335ca5",
   "metadata": {
    "scrolled": true
   },
   "outputs": [
    {
     "data": {
      "text/plain": [
       "'In the 22nd century, a paraplegic Marine is dispatched to the moon Pandora on a unique mission, but becomes torn between following orders and protecting an alien civilization. Action Adventure Fantasy ScienceFiction cultureclash future spacewar spacecolony society spacetravel futuristic romance space alien tribe alienplanet cgi marine soldier battle loveaffair antiwar powerrelations mindandsoul 3d SamWorthington ZoeSaldana SigourneyWeaver [ { \" c r e d i t _ i d \" :  \" 5 2 f e 4 8 0 0 9 2 5 1 4 1 6 c 7 5 0 a c a 2 3 \" ,  \" d e p a r t m e n t \" :  \" E d i t i n g \" ,  \" g e n d e r \" :  0 ,  \" i d \" :  1 7 2 1 ,  \" j o b \" :  \" E d i t o r \" ,  \" n a m e \" :  \" S t e p h e n  E .  R i v k i n \" } ,  { \" c r e d i t _ i d \" :  \" 5 3 9 c 4 7 e c c 3 a 3 6 8 1 0 e 3 0 0 1 f 8 7 \" ,  \" d e p a r t m e n t \" :  \" A r t \" ,  \" g e n d e r \" :  2 ,  \" i d \" :  4 9 6 ,  \" j o b \" :  \" P r o d u c t i o n  D e s i g n \" ,  \" n a m e \" :  \" R i c k  C a r t e r \" } ,  { \" c r e d i t _ i d \" :  \" 5 4 4 9 1 c 8 9 c 3 a 3 6 8 0 f b 4 0 0 1 c f 7 \" ,  \" d e p a r t m e n t \" :  \" S o u n d \" ,  \" g e n d e r \" :  0 ,  \" i d \" :  9 0 0 ,  \" j o b \" :  \" S o u n d  D e s i g n e r \" ,  \" n a m e \" :  \" C h r i s t o p h e r  B o y e s \" } ,  { \" c r e d i t _ i d \" :  \" 5 4 4 9 1 c b 7 0 e 0 a 2 6 7 4 8 0 0 0 1 b d 0 \" ,  \" d e p a r t m e n t \" :  \" S o u n d \" ,  \" g e n d e r \" :  0 ,  \" i d \" :  9 0 0 ,  \" j o b \" :  \" S u p e r v i s i n g  S o u n d  E d i t o r \" ,  \" n a m e \" :  \" C h r i s t o p h e r  B o y e s \" } ,  { \" c r e d i t _ i d \" :  \" 5 3 9 c 4 a 4 c c 3 a 3 6 8 1 0 c 9 0 0 2 1 0 1 \" ,  \" d e p a r t m e n t \" :  \" P r o d u c t i o n \" ,  \" g e n d e r \" :  1 ,  \" i d \" :  1 2 6 2 ,  \" j o b \" :  \" C a s t i n g \" ,  \" n a m e \" :  \" M a l i  F i n n \" } ,  { \" c r e d i t _ i d \" :  \" 5 5 4 4 e e 3 b 9 2 5 1 4 1 4 9 9 f 0 0 0 8 f c \" ,  \" d e p a r t m e n t \" :  \" S o u n d \" ,  \" g e n d e r \" :  2 ,  \" i d \" :  1 7 2 9 ,  \" j o b \" :  \" O r i g i n a l  M u s i c  C o m p o s e r \" ,  \" n a m e \" :  \" J a m e s  H o r n e r \" } ,  { \" c r e d i t _ i d \" :  \" 5 2 f e 4 8 0 0 9 2 5 1 4 1 6 c 7 5 0 a c 9 c 3 \" ,  \" d e p a r t m e n t \" :  \" D i r e c t i n g \" ,  \" g e n d e r \" :  2 ,  \" i d \" :  2 7 1 0 ,  \" j o b \" :  \" D i r e c t o r \" ,  \" n a m e \" :  \" J a m e s  C a m e r o n \" } ,  { \" c r e d i t _ i d \" :  \" 5 2 f e 4 8 0 0 9 2 5 1 4 1 6 c 7 5 0 a c 9 d 9 \" ,  \" d e p a r t m e n t \" :  \" W r i t i n g \" ,  \" g e n d e r \" :  2 ,  \" i d \" :  2 7 1 0 ,  \" j o b \" :  \" W r i t e r \" ,  \" n a m e \" :  \" J a m e s  C a m e r o n \" } ,  { \" c r e d i t _ i d \" :  \" 5 2 f e 4 8 0 0 9 2 5 1 4 1 6 c 7 5 0 a c a 1 7 \" ,  \" d e p a r t m e n t \" :  \" E d i t i n g \" ,  \" g e n d e r \" :  2 ,  \" i d \" :  2 7 1 0 ,  \" j o b \" :  \" E d i t o r \" ,  \" n a m e \" :  \" J a m e s  C a m e r o n \" } ,  { \" c r e d i t _ i d \" :  \" 5 2 f e 4 8 0 0 9 2 5 1 4 1 6 c 7 5 0 a c a 2 9 \" ,  \" d e p a r t m e n t \" :  \" P r o d u c t i o n \" ,  \" g e n d e r \" :  2 ,  \" i d \" :  2 7 1 0 ,  \" j o b \" :  \" P r o d u c e r \" ,  \" n a m e \" :  \" J a m e s  C a m e r o n \" } ,  { \" c r e d i t _ i d \" :  \" 5 2 f e 4 8 0 0 9 2 5 1 4 1 6 c 7 5 0 a c a 3 f \" ,  \" d e p a r t m e n t \" :  \" W r i t i n g \" ,  \" g e n d e r \" :  2 ,  \" i d \" :  2 7 1 0 ,  \" j o b \" :  \" S c r e e n p l a y \" ,  \" n a m e \" :  \" J a m e s  C a m e r o n \" } ,  { \" c r e d i t _ i d \" :  \" 5 3 9 c 4 9 8 7 c 3 a 3 6 8 1 0 b a 0 0 2 1 a 4 \" ,  \" d e p a r t m e n t \" :  \" A r t \" ,  \" g e n d e r \" :  2 ,  \" i d \" :  7 2 3 6 ,  \" j o b \" :  \" A r t  D i r e c t i o n \" ,  \" n a m e \" :  \" A n d r e w  M e n z i e s \" } ,  { \" c r e d i t _ i d \" :  \" 5 4 9 5 9 8 c 3 c 3 a 3 6 8 6 a e 9 0 0 4 3 8 3 \" ,  \" d e p a r t m e n t \" :  \" V i s u a l  E f f e c t s \" ,  \" g e n d e r \" :  0 ,  \" i d \" :  6 6 9 0 ,  \" j o b \" :  \" V i s u a l  E f f e c t s  P r o d u c e r \" ,  \" n a m e \" :  \" J i l l  B r o o k s \" } ,  { \" c r e d i t _ i d \" :  \" 5 2 f e 4 8 0 0 9 2 5 1 4 1 6 c 7 5 0 a c a 4 b \" ,  \" d e p a r t m e n t \" :  \" P r o d u c t i o n \" ,  \" g e n d e r \" :  1 ,  \" i d \" :  6 3 4 7 ,  \" j o b \" :  \" C a s t i n g \" ,  \" n a m e \" :  \" M a r g e r y  S i m k i n \" } ,  { \" c r e d i t _ i d \" :  \" 5 7 0 b 6 f 4 1 9 2 5 1 4 1 7 d a 7 0 0 3 2 f e \" ,  \" d e p a r t m e n t \" :  \" A r t \" ,  \" g e n d e r \" :  2 ,  \" i d \" :  6 8 7 8 ,  \" j o b \" :  \" S u p e r v i s i n g  A r t  D i r e c t o r \" ,  \" n a m e \" :  \" K e v i n  I s h i o k a \" } ,  { \" c r e d i t _ i d \" :  \" 5 4 9 5 a 0 f a c 3 a 3 6 8 6 a e 9 0 0 4 4 6 8 \" ,  \" d e p a r t m e n t \" :  \" S o u n d \" ,  \" g e n d e r \" :  0 ,  \" i d \" :  6 8 8 3 ,  \" j o b \" :  \" M u s i c  E d i t o r \" ,  \" n a m e \" :  \" D i c k  B e r n s t e i n \" } ,  { \" c r e d i t _ i d \" :  \" 5 4 9 5 9 7 0 6 c 3 a 3 6 8 6 a f 3 0 0 3 e 8 1 \" ,  \" d e p a r t m e n t \" :  \" S o u n d \" ,  \" g e n d e r \" :  0 ,  \" i d \" :  8 1 5 9 ,  \" j o b \" :  \" S o u n d  E f f e c t s  E d i t o r \" ,  \" n a m e \" :  \" S h a n n o n  M i l l s \" } ,  { \" c r e d i t _ i d \" :  \" 5 4 4 9 1 d 5 8 c 3 a 3 6 8 0 f b 1 0 0 1 c c b \" ,  \" d e p a r t m e n t \" :  \" S o u n d \" ,  \" g e n d e r \" :  0 ,  \" i d \" :  8 1 6 0 ,  \" j o b \" :  \" F o l e y \" ,  \" n a m e \" :  \" D e n n i e  T h o r p e \" } ,  { \" c r e d i t _ i d \" :  \" 5 4 4 9 1 d 6 c c 3 a 3 6 8 0 f a 5 0 0 1 b 2 c \" ,  \" d e p a r t m e n t \" :  \" S o u n d \" ,  \" g e n d e r \" :  0 ,  \" i d \" :  8 1 6 3 ,  \" j o b \" :  \" F o l e y \" ,  \" n a m e \" :  \" J a n a  V a n c e \" } ,  { \" c r e d i t _ i d \" :  \" 5 2 f e 4 8 0 0 9 2 5 1 4 1 6 c 7 5 0 a c a 5 7 \" ,  \" d e p a r t m e n t \" :  \" C o s t u m e  &  M a k e - U p \" ,  \" g e n d e r \" :  1 ,  \" i d \" :  8 5 2 7 ,  \" j o b \" :  \" C o s t u m e  D e s i g n \" ,  \" n a m e \" :  \" D e b o r a h  L y n n  S c o t t \" } ,  { \" c r e d i t _ i d \" :  \" 5 2 f e 4 8 0 0 9 2 5 1 4 1 6 c 7 5 0 a c a 2 f \" ,  \" d e p a r t m e n t \" :  \" P r o d u c t i o n \" ,  \" g e n d e r \" :  2 ,  \" i d \" :  8 5 2 9 ,  \" j o b \" :  \" P r o d u c e r \" ,  \" n a m e \" :  \" J o n  L a n d a u \" } ,  { \" c r e d i t _ i d \" :  \" 5 3 9 c 4 9 3 7 c 3 a 3 6 8 1 0 b a 0 0 2 1 9 4 \" ,  \" d e p a r t m e n t \" :  \" A r t \" ,  \" g e n d e r \" :  0 ,  \" i d \" :  9 6 1 8 ,  \" j o b \" :  \" A r t  D i r e c t i o n \" ,  \" n a m e \" :  \" S e a n  H a w o r t h \" } ,  { \" c r e d i t _ i d \" :  \" 5 3 9 c 4 9 b 6 c 3 a 3 6 8 1 0 c 1 0 0 2 0 e 6 \" ,  \" d e p a r t m e n t \" :  \" A r t \" ,  \" g e n d e r \" :  1 ,  \" i d \" :  1 2 6 5 3 ,  \" j o b \" :  \" S e t  D e c o r a t i o n \" ,  \" n a m e \" :  \" K i m  S i n c l a i r \" } ,  { \" c r e d i t _ i d \" :  \" 5 7 0 b 6 f 2 f 9 2 5 1 4 1 3 a 0 e 0 0 0 2 0 d \" ,  \" d e p a r t m e n t \" :  \" A r t \" ,  \" g e n d e r \" :  1 ,  \" i d \" :  1 2 6 5 3 ,  \" j o b \" :  \" S u p e r v i s i n g  A r t  D i r e c t o r \" ,  \" n a m e \" :  \" K i m  S i n c l a i r \" } ,  { \" c r e d i t _ i d \" :  \" 5 4 4 9 1 a 6 c 0 e 0 a 2 6 7 4 8 c 0 0 1 b 1 9 \" ,  \" d e p a r t m e n t \" :  \" A r t \" ,  \" g e n d e r \" :  2 ,  \" i d \" :  1 4 3 5 0 ,  \" j o b \" :  \" S e t  D e s i g n e r \" ,  \" n a m e \" :  \" R i c h a r d  F .  M a y s \" } ,  { \" c r e d i t _ i d \" :  \" 5 6 9 2 8 c f 4 c 3 a 3 6 8 4 c f f 0 0 2 5 c 4 \" ,  \" d e p a r t m e n t \" :  \" P r o d u c t i o n \" ,  \" g e n d e r \" :  1 ,  \" i d \" :  2 0 2 9 4 ,  \" j o b \" :  \" E x e c u t i v e  P r o d u c e r \" ,  \" n a m e \" :  \" L a e t a  K a l o g r i d i s \" } ,  { \" c r e d i t _ i d \" :  \" 5 2 f e 4 8 0 0 9 2 5 1 4 1 6 c 7 5 0 a c a 5 1 \" ,  \" d e p a r t m e n t \" :  \" C o s t u m e  &  M a k e - U p \" ,  \" g e n d e r \" :  0 ,  \" i d \" :  1 7 6 7 5 ,  \" j o b \" :  \" C o s t u m e  D e s i g n \" ,  \" n a m e \" :  \" M a y e s  C .  R u b e o \" } ,  { \" c r e d i t _ i d \" :  \" 5 2 f e 4 8 0 0 9 2 5 1 4 1 6 c 7 5 0 a c a 1 1 \" ,  \" d e p a r t m e n t \" :  \" C a m e r a \" ,  \" g e n d e r \" :  2 ,  \" i d \" :  1 8 2 6 5 ,  \" j o b \" :  \" D i r e c t o r  o f  P h o t o g r a p h y \" ,  \" n a m e \" :  \" M a u r o  F i o r e \" } ,  { \" c r e d i t _ i d \" :  \" 5 4 4 9 1 9 4 d 0 e 0 a 2 6 7 4 8 f 0 0 1 b 3 9 \" ,  \" d e p a r t m e n t \" :  \" A r t \" ,  \" g e n d e r \" :  0 ,  \" i d \" :  4 2 2 8 1 ,  \" j o b \" :  \" S e t  D e s i g n e r \" ,  \" n a m e \" :  \" S c o t t  H e r b e r t s o n \" } ,  { \" c r e d i t _ i d \" :  \" 5 2 f e 4 8 0 0 9 2 5 1 4 1 6 c 7 5 0 a c a 0 5 \" ,  \" d e p a r t m e n t \" :  \" C r e w \" ,  \" g e n d e r \" :  0 ,  \" i d \" :  4 2 2 8 8 ,  \" j o b \" :  \" S t u n t s \" ,  \" n a m e \" :  \" W o o d y  S c h u l t z \" } ,  { \" c r e d i t _ i d \" :  \" 5 5 9 2 a e f b 9 2 5 1 4 1 5 2 d e 0 0 1 0 f 5 \" ,  \" d e p a r t m e n t \" :  \" C o s t u m e  &  M a k e - U p \" ,  \" g e n d e r \" :  0 ,  \" i d \" :  2 9 0 6 7 ,  \" j o b \" :  \" M a k e u p  A r t i s t \" ,  \" n a m e \" :  \" L i n d a  D e V e t t a \" } ,  { \" c r e d i t _ i d \" :  \" 5 5 9 2 a f a 4 9 2 5 1 4 1 5 2 d e 0 0 1 1 2 c \" ,  \" d e p a r t m e n t \" :  \" C o s t u m e  &  M a k e - U p \" ,  \" g e n d e r \" :  0 ,  \" i d \" :  2 9 0 6 7 ,  \" j o b \" :  \" H a i r s t y l i s t \" ,  \" n a m e \" :  \" L i n d a  D e V e t t a \" } ,  { \" c r e d i t _ i d \" :  \" 5 4 9 5 9 e d 5 9 2 5 1 4 1 3 0 f c 0 0 2 e 5 d \" ,  \" d e p a r t m e n t \" :  \" C a m e r a \" ,  \" g e n d e r \" :  2 ,  \" i d \" :  3 3 3 0 2 ,  \" j o b \" :  \" C a m e r a  O p e r a t o r \" ,  \" n a m e \" :  \" R i c h a r d  B l u c k \" } ,  { \" c r e d i t _ i d \" :  \" 5 3 9 c 4 8 9 1 c 3 a 3 6 8 1 0 b a 0 0 2 1 4 7 \" ,  \" d e p a r t m e n t \" :  \" A r t \" ,  \" g e n d e r \" :  2 ,  \" i d \" :  3 3 3 0 3 ,  \" j o b \" :  \" A r t  D i r e c t i o n \" ,  \" n a m e \" :  \" S i m o n  B r i g h t \" } ,  { \" c r e d i t _ i d \" :  \" 5 4 9 5 9 c 0 6 9 2 5 1 4 1 7 a 8 1 0 0 1 f 3 a \" ,  \" d e p a r t m e n t \" :  \" V i s u a l  E f f e c t s \" ,  \" g e n d e r \" :  0 ,  \" i d \" :  1 1 3 1 4 5 ,  \" j o b \" :  \" V i s u a l  E f f e c t s  S u p e r v i s o r \" ,  \" n a m e \" :  \" R i c h a r d  M a r t i n \" } ,  { \" c r e d i t _ i d \" :  \" 5 4 9 5 9 a 0 d c 3 a 3 6 8 0 f f 5 0 0 2 c 8 d \" ,  \" d e p a r t m e n t \" :  \" C r e w \" ,  \" g e n d e r \" :  2 ,  \" i d \" :  5 8 1 8 8 ,  \" j o b \" :  \" V i s u a l  E f f e c t s  E d i t o r \" ,  \" n a m e \" :  \" S t e v e  R .  M o o r e \" } ,  { \" c r e d i t _ i d \" :  \" 5 2 f e 4 8 0 0 9 2 5 1 4 1 6 c 7 5 0 a c a 1 d \" ,  \" d e p a r t m e n t \" :  \" E d i t i n g \" ,  \" g e n d e r \" :  2 ,  \" i d \" :  5 8 8 7 1 ,  \" j o b \" :  \" E d i t o r \" ,  \" n a m e \" :  \" J o h n  R e f o u a \" } ,  { \" c r e d i t _ i d \" :  \" 5 4 4 9 1 a 4 d c 3 a 3 6 8 0 f c 3 0 0 1 8 c a \" ,  \" d e p a r t m e n t \" :  \" A r t \" ,  \" g e n d e r \" :  0 ,  \" i d \" :  9 2 3 5 9 ,  \" j o b \" :  \" S e t  D e s i g n e r \" ,  \" n a m e \" :  \" K a r l  J .  M a r t i n \" } ,  { \" c r e d i t _ i d \" :  \" 5 2 f e 4 8 0 0 9 2 5 1 4 1 6 c 7 5 0 a c a 3 5 \" ,  \" d e p a r t m e n t \" :  \" C a m e r a \" ,  \" g e n d e r \" :  1 ,  \" i d \" :  7 2 2 0 1 ,  \" j o b \" :  \" D i r e c t o r  o f  P h o t o g r a p h y \" ,  \" n a m e \" :  \" C h i l i n g  L i n \" } ,  { \" c r e d i t _ i d \" :  \" 5 2 f e 4 8 0 0 9 2 5 1 4 1 6 c 7 5 0 a c 9 f f \" ,  \" d e p a r t m e n t \" :  \" C r e w \" ,  \" g e n d e r \" :  0 ,  \" i d \" :  8 9 7 1 4 ,  \" j o b \" :  \" S t u n t s \" ,  \" n a m e \" :  \" I l r a m  C h o i \" } ,  { \" c r e d i t _ i d \" :  \" 5 4 9 5 9 c 5 2 9 2 5 1 4 1 6 e 2 b 0 0 4 3 9 4 \" ,  \" d e p a r t m e n t \" :  \" V i s u a l  E f f e c t s \" ,  \" g e n d e r \" :  2 ,  \" i d \" :  9 3 2 1 4 ,  \" j o b \" :  \" V i s u a l  E f f e c t s  S u p e r v i s o r \" ,  \" n a m e \" :  \" S t e v e n  Q u a l e \" } ,  { \" c r e d i t _ i d \" :  \" 5 4 4 9 1 e d f 0 e 0 a 2 6 7 4 8 9 0 0 1 c 3 7 \" ,  \" d e p a r t m e n t \" :  \" C r e w \" ,  \" g e n d e r \" :  1 ,  \" i d \" :  1 2 2 6 0 7 ,  \" j o b \" :  \" D i a l e c t  C o a c h \" ,  \" n a m e \" :  \" C a r l a  M e y e r \" } ,  { \" c r e d i t _ i d \" :  \" 5 3 9 c 4 8 5 b c 3 a 3 6 8 6 5 3 d 0 0 1 a 3 a \" ,  \" d e p a r t m e n t \" :  \" A r t \" ,  \" g e n d e r \" :  2 ,  \" i d \" :  1 3 2 5 8 5 ,  \" j o b \" :  \" A r t  D i r e c t i o n \" ,  \" n a m e \" :  \" N i c k  B a s s e t t \" } ,  { \" c r e d i t _ i d \" :  \" 5 3 9 c 4 9 0 3 c 3 a 3 6 8 6 5 3 d 0 0 1 a 7 4 \" ,  \" d e p a r t m e n t \" :  \" A r t \" ,  \" g e n d e r \" :  0 ,  \" i d \" :  1 3 2 5 9 6 ,  \" j o b \" :  \" A r t  D i r e c t i o n \" ,  \" n a m e \" :  \" J i l l  C o r m a c k \" } ,  { \" c r e d i t _ i d \" :  \" 5 3 9 c 4 9 6 7 c 3 a 3 6 8 6 5 3 d 0 0 1 a 9 4 \" ,  \" d e p a r t m e n t \" :  \" A r t \" ,  \" g e n d e r \" :  0 ,  \" i d \" :  1 3 2 6 0 4 ,  \" j o b \" :  \" A r t  D i r e c t i o n \" ,  \" n a m e \" :  \" A n d y  M c L a r e n \" } ,  { \" c r e d i t _ i d \" :  \" 5 2 f e 4 8 0 0 9 2 5 1 4 1 6 c 7 5 0 a c a 4 5 \" ,  \" d e p a r t m e n t \" :  \" C r e w \" ,  \" g e n d e r \" :  0 ,  \" i d \" :  2 3 6 6 9 6 ,  \" j o b \" :  \" M o t i o n  C a p t u r e  A r t i s t \" ,  \" n a m e \" :  \" T e r r y  N o t a r y \" } ,  { \" c r e d i t _ i d \" :  \" 5 4 9 5 9 e 0 2 c 3 a 3 6 8 0 f c 6 0 0 2 7 d 2 \" ,  \" d e p a r t m e n t \" :  \" C r e w \" ,  \" g e n d e r \" :  2 ,  \" i d \" :  9 5 6 1 9 8 ,  \" j o b \" :  \" S t u n t  C o o r d i n a t o r \" ,  \" n a m e \" :  \" G a r r e t t  W a r r e n \" } ,  { \" c r e d i t _ i d \" :  \" 5 4 9 5 9 c a 3 c 3 a 3 6 8 6 a e 3 0 0 4 3 8 c \" ,  \" d e p a r t m e n t \" :  \" V i s u a l  E f f e c t s \" ,  \" g e n d e r \" :  2 ,  \" i d \" :  9 5 7 8 7 4 ,  \" j o b \" :  \" V i s u a l  E f f e c t s  S u p e r v i s o r \" ,  \" n a m e \" :  \" J o n a t h a n  R o t h b a r t \" } ,  { \" c r e d i t _ i d \" :  \" 5 7 0 b 6 f 5 1 9 2 5 1 4 1 2 c 7 4 0 0 1 b 2 f \" ,  \" d e p a r t m e n t \" :  \" A r t \" ,  \" g e n d e r \" :  0 ,  \" i d \" :  9 5 7 8 8 9 ,  \" j o b \" :  \" S u p e r v i s i n g  A r t  D i r e c t o r \" ,  \" n a m e \" :  \" S t e f a n  D e c h a n t \" } ,  { \" c r e d i t _ i d \" :  \" 5 7 0 b 6 f 6 2 c 3 a 3 6 8 0 b 7 7 0 0 7 4 6 0 \" ,  \" d e p a r t m e n t \" :  \" A r t \" ,  \" g e n d e r \" :  2 ,  \" i d \" :  9 5 9 5 5 5 ,  \" j o b \" :  \" S u p e r v i s i n g  A r t  D i r e c t o r \" ,  \" n a m e \" :  \" T o d d  C h e r n i a w s k y \" } ,  { \" c r e d i t _ i d \" :  \" 5 3 9 c 4 a 3 a c 3 a 3 6 8 1 0 d a 0 0 2 1 c c \" ,  \" d e p a r t m e n t \" :  \" P r o d u c t i o n \" ,  \" g e n d e r \" :  0 ,  \" i d \" :  1 0 1 6 1 7 7 ,  \" j o b \" :  \" C a s t i n g \" ,  \" n a m e \" :  \" M i r a n d a  R i v e r s \" } ,  { \" c r e d i t _ i d \" :  \" 5 3 9 c 4 8 2 c c 3 a 3 6 8 1 0 c 1 0 0 2 0 6 2 \" ,  \" d e p a r t m e n t \" :  \" A r t \" ,  \" g e n d e r \" :  0 ,  \" i d \" :  1 0 3 2 5 3 6 ,  \" j o b \" :  \" P r o d u c t i o n  D e s i g n \" ,  \" n a m e \" :  \" R o b e r t  S t r o m b e r g \" } ,  { \" c r e d i t _ i d \" :  \" 5 3 9 c 4 b 6 5 c 3 a 3 6 8 1 0 c 9 0 0 2 1 2 5 \" ,  \" d e p a r t m e n t \" :  \" C o s t u m e  &  M a k e - U p \" ,  \" g e n d e r \" :  2 ,  \" i d \" :  1 0 7 1 6 8 0 ,  \" j o b \" :  \" C o s t u m e  D e s i g n \" ,  \" n a m e \" :  \" J o h n  H a r d i n g \" } ,  { \" c r e d i t _ i d \" :  \" 5 4 9 5 9 e 6 6 9 2 5 1 4 1 3 0 f c 0 0 2 e 4 e \" ,  \" d e p a r t m e n t \" :  \" C a m e r a \" ,  \" g e n d e r \" :  0 ,  \" i d \" :  1 1 7 7 3 6 4 ,  \" j o b \" :  \" S t e a d i c a m  O p e r a t o r \" ,  \" n a m e \" :  \" R o b e r t o  D e  A n g e l i s \" } ,  { \" c r e d i t _ i d \" :  \" 5 3 9 c 4 9 f 1 c 3 a 3 6 8 6 5 3 d 0 0 1 a a c \" ,  \" d e p a r t m e n t \" :  \" C o s t u m e  &  M a k e - U p \" ,  \" g e n d e r \" :  2 ,  \" i d \" :  1 2 0 2 8 5 0 ,  \" j o b \" :  \" M a k e u p  D e p a r t m e n t  H e a d \" ,  \" n a m e \" :  \" M i k e  S m i t h s o n \" } ,  { \" c r e d i t _ i d \" :  \" 5 4 9 5 9 9 9 e c 3 a 3 6 8 6 a e 1 0 0 4 6 0 c \" ,  \" d e p a r t m e n t \" :  \" V i s u a l  E f f e c t s \" ,  \" g e n d e r \" :  0 ,  \" i d \" :  1 2 0 4 6 6 8 ,  \" j o b \" :  \" V i s u a l  E f f e c t s  P r o d u c e r \" ,  \" n a m e \" :  \" A l a i n  L a l a n n e \" } ,  { \" c r e d i t _ i d \" :  \" 5 4 9 5 9 c d f c 3 a 3 6 8 1 1 5 3 0 0 2 7 2 9 \" ,  \" d e p a r t m e n t \" :  \" V i s u a l  E f f e c t s \" ,  \" g e n d e r \" :  0 ,  \" i d \" :  1 2 0 6 4 1 0 ,  \" j o b \" :  \" V i s u a l  E f f e c t s  S u p e r v i s o r \" ,  \" n a m e \" :  \" L u c a s  S a l t o n \" } ,  { \" c r e d i t _ i d \" :  \" 5 4 9 5 9 6 2 3 9 2 5 1 4 1 7 a 8 1 0 0 1 e a e \" ,  \" d e p a r t m e n t \" :  \" C r e w \" ,  \" g e n d e r \" :  0 ,  \" i d \" :  1 2 3 4 2 6 6 ,  \" j o b \" :  \" P o s t  P r o d u c t i o n  S u p e r v i s o r \" ,  \" n a m e \" :  \" J a n a c e  T a s h j i a n \" } ,  { \" c r e d i t _ i d \" :  \" 5 4 9 5 9 c 8 5 9 2 5 1 4 1 6 e 1 e 0 0 3 e f e \" ,  \" d e p a r t m e n t \" :  \" V i s u a l  E f f e c t s \" ,  \" g e n d e r \" :  0 ,  \" i d \" :  1 2 7 1 9 3 2 ,  \" j o b \" :  \" V i s u a l  E f f e c t s  S u p e r v i s o r \" ,  \" n a m e \" :  \" S t e p h e n  R o s e n b a u m \" } ,  { \" c r e d i t _ i d \" :  \" 5 5 9 2 a f 2 8 c 3 a 3 6 8 7 7 5 a 0 0 1 0 5 f \" ,  \" d e p a r t m e n t \" :  \" C o s t u m e  &  M a k e - U p \" ,  \" g e n d e r \" :  0 ,  \" i d \" :  1 3 1 0 0 6 4 ,  \" j o b \" :  \" M a k e u p  A r t i s t \" ,  \" n a m e \" :  \" F r a n k i e  K a r e n a \" } ,  { \" c r e d i t _ i d \" :  \" 5 3 9 c 4 a d f c 3 a 3 6 8 1 0 e 3 0 0 2 0 3 b \" ,  \" d e p a r t m e n t \" :  \" C o s t u m e  &  M a k e - U p \" ,  \" g e n d e r \" :  1 ,  \" i d \" :  1 3 1 9 8 4 4 ,  \" j o b \" :  \" C o s t u m e  S u p e r v i s o r \" ,  \" n a m e \" :  \" L i s a  L o v a a s \" } ,  { \" c r e d i t _ i d \" :  \" 5 4 9 5 9 b 5 7 9 2 5 1 4 1 6 e 2 b 0 0 4 3 7 1 \" ,  \" d e p a r t m e n t \" :  \" V i s u a l  E f f e c t s \" ,  \" g e n d e r \" :  0 ,  \" i d \" :  1 3 2 7 0 2 8 ,  \" j o b \" :  \" V i s u a l  E f f e c t s  S u p e r v i s o r \" ,  \" n a m e \" :  \" J o n a t h a n  F a w k n e r \" } ,  { \" c r e d i t _ i d \" :  \" 5 3 9 c 4 8 a 7 c 3 a 3 6 8 1 0 b 5 0 0 1 f a 7 \" ,  \" d e p a r t m e n t \" :  \" A r t \" ,  \" g e n d e r \" :  0 ,  \" i d \" :  1 3 3 0 5 6 1 ,  \" j o b \" :  \" A r t  D i r e c t i o n \" ,  \" n a m e \" :  \" R o b e r t  B a v i n \" } ,  { \" c r e d i t _ i d \" :  \" 5 3 9 c 4 a 7 1 c 3 a 3 6 8 1 0 d a 0 0 2 1 e 0 \" ,  \" d e p a r t m e n t \" :  \" C o s t u m e  &  M a k e - U p \" ,  \" g e n d e r \" :  0 ,  \" i d \" :  1 3 3 0 5 6 7 ,  \" j o b \" :  \" C o s t u m e  S u p e r v i s o r \" ,  \" n a m e \" :  \" A n t h o n y  A l m a r a z \" } ,  { \" c r e d i t _ i d \" :  \" 5 3 9 c 4 a 8 a c 3 a 3 6 8 1 0 b a 0 0 2 1 e 4 \" ,  \" d e p a r t m e n t \" :  \" C o s t u m e  &  M a k e - U p \" ,  \" g e n d e r \" :  0 ,  \" i d \" :  1 3 3 0 5 7 0 ,  \" j o b \" :  \" C o s t u m e  S u p e r v i s o r \" ,  \" n a m e \" :  \" C a r o l y n  M .  F e n t o n \" } ,  { \" c r e d i t _ i d \" :  \" 5 3 9 c 4 a b 6 c 3 a 3 6 8 1 0 d a 0 0 2 1 f 0 \" ,  \" d e p a r t m e n t \" :  \" C o s t u m e  &  M a k e - U p \" ,  \" g e n d e r \" :  0 ,  \" i d \" :  1 3 3 0 5 7 4 ,  \" j o b \" :  \" C o s t u m e  S u p e r v i s o r \" ,  \" n a m e \" :  \" B e t h  K o e n i g s b e r g \" } ,  { \" c r e d i t _ i d \" :  \" 5 4 4 9 1 a b 7 0 e 0 a 2 6 7 4 8 0 0 0 1 b a 2 \" ,  \" d e p a r t m e n t \" :  \" A r t \" ,  \" g e n d e r \" :  0 ,  \" i d \" :  1 3 3 6 1 9 1 ,  \" j o b \" :  \" S e t  D e s i g n e r \" ,  \" n a m e \" :  \" S a m  P a g e \" } ,  { \" c r e d i t _ i d \" :  \" 5 4 4 9 1 9 d 9 c 3 a 3 6 8 0 f c 3 0 0 1 8 b d \" ,  \" d e p a r t m e n t \" :  \" A r t \" ,  \" g e n d e r \" :  0 ,  \" i d \" :  1 3 3 9 4 4 1 ,  \" j o b \" :  \" S e t  D e s i g n e r \" ,  \" n a m e \" :  \" T e x  K a d o n a g a \" } ,  { \" c r e d i t _ i d \" :  \" 5 4 4 9 1 c f 5 0 e 0 a 2 6 7 4 8 3 0 0 1 b 0 c \" ,  \" d e p a r t m e n t \" :  \" E d i t i n g \" ,  \" g e n d e r \" :  0 ,  \" i d \" :  1 3 5 2 4 2 2 ,  \" j o b \" :  \" D i a l o g u e  E d i t o r \" ,  \" n a m e \" :  \" K i m  F o s c a t o \" } ,  { \" c r e d i t _ i d \" :  \" 5 4 4 9 1 9 f 4 0 e 0 a 2 6 7 4 8 c 0 0 1 b 0 9 \" ,  \" d e p a r t m e n t \" :  \" A r t \" ,  \" g e n d e r \" :  0 ,  \" i d \" :  1 3 5 2 9 6 2 ,  \" j o b \" :  \" S e t  D e s i g n e r \" ,  \" n a m e \" :  \" T a m m y  S .  L e e \" } ,  { \" c r e d i t _ i d \" :  \" 5 4 9 5 a 1 1 5 c 3 a 3 6 8 0 f f 5 0 0 2 d 7 1 \" ,  \" d e p a r t m e n t \" :  \" C r e w \" ,  \" g e n d e r \" :  0 ,  \" i d \" :  1 3 5 7 0 7 0 ,  \" j o b \" :  \" T r a n s p o r t a t i o n  C o o r d i n a t o r \" ,  \" n a m e \" :  \" D e n n y  C a i r a \" } ,  { \" c r e d i t _ i d \" :  \" 5 4 9 5 a 1 2 f 9 2 5 1 4 1 3 0 f c 0 0 2 e 9 4 \" ,  \" d e p a r t m e n t \" :  \" C r e w \" ,  \" g e n d e r \" :  0 ,  \" i d \" :  1 3 5 7 0 7 1 ,  \" j o b \" :  \" T r a n s p o r t a t i o n  C o o r d i n a t o r \" ,  \" n a m e \" :  \" J a m e s  W a i t k u s \" } ,  { \" c r e d i t _ i d \" :  \" 5 4 9 5 9 7 6 f c 3 a 3 6 8 1 1 5 3 0 0 2 6 b 0 \" ,  \" d e p a r t m e n t \" :  \" S o u n d \" ,  \" g e n d e r \" :  0 ,  \" i d \" :  1 3 6 0 1 0 3 ,  \" j o b \" :  \" S u p e r v i s i n g  S o u n d  E d i t o r \" ,  \" n a m e \" :  \" A d d i s o n  T e a g u e \" } ,  { \" c r e d i t _ i d \" :  \" 5 4 4 9 1 8 3 7 c 3 a 3 6 8 0 f b 1 0 0 1 c 5 a \" ,  \" d e p a r t m e n t \" :  \" A r t \" ,  \" g e n d e r \" :  2 ,  \" i d \" :  1 3 7 6 8 8 7 ,  \" j o b \" :  \" S e t  D e s i g n e r \" ,  \" n a m e \" :  \" C .  S c o t t  B a k e r \" } ,  { \" c r e d i t _ i d \" :  \" 5 4 4 9 1 8 7 8 c 3 a 3 6 8 0 f b 4 0 0 1 c 9 d \" ,  \" d e p a r t m e n t \" :  \" A r t \" ,  \" g e n d e r \" :  0 ,  \" i d \" :  1 3 7 6 8 8 8 ,  \" j o b \" :  \" S e t  D e s i g n e r \" ,  \" n a m e \" :  \" L u k e  C a s k a \" } ,  { \" c r e d i t _ i d \" :  \" 5 4 4 9 1 8 d a c 3 a 3 6 8 0 f a 5 0 0 1 a e 0 \" ,  \" d e p a r t m e n t \" :  \" A r t \" ,  \" g e n d e r \" :  0 ,  \" i d \" :  1 3 7 6 8 8 9 ,  \" j o b \" :  \" S e t  D e s i g n e r \" ,  \" n a m e \" :  \" D a v i d  C h o w \" } ,  { \" c r e d i t _ i d \" :  \" 5 4 4 9 1 9 1 1 0 e 0 a 2 6 7 4 8 6 0 0 1 b 6 8 \" ,  \" d e p a r t m e n t \" :  \" A r t \" ,  \" g e n d e r \" :  0 ,  \" i d \" :  1 3 7 6 8 9 0 ,  \" j o b \" :  \" S e t  D e s i g n e r \" ,  \" n a m e \" :  \" J o n a t h a n  D y e r \" } ,  { \" c r e d i t _ i d \" :  \" 5 4 4 9 1 9 6 7 c 3 a 3 6 8 0 f a a 0 0 1 b 5 e \" ,  \" d e p a r t m e n t \" :  \" A r t \" ,  \" g e n d e r \" :  0 ,  \" i d \" :  1 3 7 6 8 9 1 ,  \" j o b \" :  \" S e t  D e s i g n e r \" ,  \" n a m e \" :  \" J o s e p h  H i u r a \" } ,  { \" c r e d i t _ i d \" :  \" 5 4 4 9 1 9 9 7 c 3 a 3 6 8 0 f b 1 0 0 1 c 8 a \" ,  \" d e p a r t m e n t \" :  \" A r t \" ,  \" g e n d e r \" :  0 ,  \" i d \" :  1 3 7 6 8 9 2 ,  \" j o b \" :  \" A r t  D e p a r t m e n t  C o o r d i n a t o r \" ,  \" n a m e \" :  \" R e b e c c a  J e l l i e \" } ,  { \" c r e d i t _ i d \" :  \" 5 4 4 9 1 9 b a 0 e 0 a 2 6 7 4 8 f 0 0 1 b 4 2 \" ,  \" d e p a r t m e n t \" :  \" A r t \" ,  \" g e n d e r \" :  0 ,  \" i d \" :  1 3 7 6 8 9 3 ,  \" j o b \" :  \" S e t  D e s i g n e r \" ,  \" n a m e \" :  \" R o b e r t  A n d r e w  J o h n s o n \" } ,  { \" c r e d i t _ i d \" :  \" 5 4 4 9 1 b 1 d c 3 a 3 6 8 0 f a a 0 0 1 b 8 c \" ,  \" d e p a r t m e n t \" :  \" A r t \" ,  \" g e n d e r \" :  0 ,  \" i d \" :  1 3 7 6 8 9 5 ,  \" j o b \" :  \" A s s i s t a n t  A r t  D i r e c t o r \" ,  \" n a m e \" :  \" M i k e  S t a s s i \" } ,  { \" c r e d i t _ i d \" :  \" 5 4 4 9 1 b 7 9 c 3 a 3 6 8 0 f b b 0 0 1 8 2 6 \" ,  \" d e p a r t m e n t \" :  \" A r t \" ,  \" g e n d e r \" :  0 ,  \" i d \" :  1 3 7 6 8 9 7 ,  \" j o b \" :  \" C o n s t r u c t i o n  C o o r d i n a t o r \" ,  \" n a m e \" :  \" J o h n  V i l l a r i n o \" } ,  { \" c r e d i t _ i d \" :  \" 5 4 4 9 1 b a e c 3 a 3 6 8 0 f b 4 0 0 1 c e 6 \" ,  \" d e p a r t m e n t \" :  \" A r t \" ,  \" g e n d e r \" :  2 ,  \" i d \" :  1 3 7 6 8 9 8 ,  \" j o b \" :  \" A s s i s t a n t  A r t  D i r e c t o r \" ,  \" n a m e \" :  \" J e f f r e y  W i s n i e w s k i \" } ,  { \" c r e d i t _ i d \" :  \" 5 4 4 9 1 d 2 f c 3 a 3 6 8 0 f b 4 0 0 1 d 0 7 \" ,  \" d e p a r t m e n t \" :  \" E d i t i n g \" ,  \" g e n d e r \" :  0 ,  \" i d \" :  1 3 7 6 8 9 9 ,  \" j o b \" :  \" D i a l o g u e  E d i t o r \" ,  \" n a m e \" :  \" C h e r y l  N a r d i \" } ,  { \" c r e d i t _ i d \" :  \" 5 4 4 9 1 d 8 6 c 3 a 3 6 8 0 f a 5 0 0 1 b 2 f \" ,  \" d e p a r t m e n t \" :  \" E d i t i n g \" ,  \" g e n d e r \" :  0 ,  \" i d \" :  1 3 7 6 9 0 1 ,  \" j o b \" :  \" D i a l o g u e  E d i t o r \" ,  \" n a m e \" :  \" M a r s h a l l  W i n n \" } ,  { \" c r e d i t _ i d \" :  \" 5 4 4 9 1 d 9 d c 3 a 3 6 8 0 f a a 0 0 1 b b 0 \" ,  \" d e p a r t m e n t \" :  \" S o u n d \" ,  \" g e n d e r \" :  0 ,  \" i d \" :  1 3 7 6 9 0 2 ,  \" j o b \" :  \" S u p e r v i s i n g  S o u n d  E d i t o r \" ,  \" n a m e \" :  \" G w e n d o l y n  Y a t e s  W h i t t l e \" } ,  { \" c r e d i t _ i d \" :  \" 5 4 4 9 1 d c 1 0 e 0 a 2 6 7 4 8 6 0 0 1 b c e \" ,  \" d e p a r t m e n t \" :  \" S o u n d \" ,  \" g e n d e r \" :  0 ,  \" i d \" :  1 3 7 6 9 0 3 ,  \" j o b \" :  \" S o u n d  R e - R e c o r d i n g  M i x e r \" ,  \" n a m e \" :  \" W i l l i a m  S t e i n \" } ,  { \" c r e d i t _ i d \" :  \" 5 4 4 9 1 f 5 0 0 e 0 a 2 6 7 4 7 c 0 0 1 c 0 7 \" ,  \" d e p a r t m e n t \" :  \" C r e w \" ,  \" g e n d e r \" :  0 ,  \" i d \" :  1 3 7 6 9 0 9 ,  \" j o b \" :  \" C h o r e o g r a p h e r \" ,  \" n a m e \" :  \" L u l a  W a s h i n g t o n \" } ,  { \" c r e d i t _ i d \" :  \" 5 4 9 5 9 9 2 3 9 2 5 1 4 1 2 c 4 e 0 0 2 a 2 e \" ,  \" d e p a r t m e n t \" :  \" V i s u a l  E f f e c t s \" ,  \" g e n d e r \" :  0 ,  \" i d \" :  1 3 9 1 6 9 2 ,  \" j o b \" :  \" V i s u a l  E f f e c t s  P r o d u c e r \" ,  \" n a m e \" :  \" C h r i s  D e l  C o n t e \" } ,  { \" c r e d i t _ i d \" :  \" 5 4 9 5 9 d 5 4 c 3 a 3 6 8 3 1 b 8 0 0 1 d 9 a \" ,  \" d e p a r t m e n t \" :  \" V i s u a l  E f f e c t s \" ,  \" g e n d e r \" :  2 ,  \" i d \" :  1 3 9 1 6 9 5 ,  \" j o b \" :  \" V i s u a l  E f f e c t s  S u p e r v i s o r \" ,  \" n a m e \" :  \" R .  C h r i s t o p h e r  W h i t e \" } ,  { \" c r e d i t _ i d \" :  \" 5 4 9 5 9 b d f 9 2 5 1 4 1 2 c 4 e 0 0 2 a 6 6 \" ,  \" d e p a r t m e n t \" :  \" V i s u a l  E f f e c t s \" ,  \" g e n d e r \" :  0 ,  \" i d \" :  1 3 9 4 0 7 0 ,  \" j o b \" :  \" V i s u a l  E f f e c t s  S u p e r v i s o r \" ,  \" n a m e \" :  \" D a n  L e m m o n \" } ,  { \" c r e d i t _ i d \" :  \" 5 4 9 5 9 7 1 d 9 2 5 1 4 1 3 2 e d 0 0 2 9 2 2 \" ,  \" d e p a r t m e n t \" :  \" S o u n d \" ,  \" g e n d e r \" :  0 ,  \" i d \" :  1 3 9 4 1 2 9 ,  \" j o b \" :  \" S o u n d  E f f e c t s  E d i t o r \" ,  \" n a m e \" :  \" T i m  N i e l s e n \" } ,  { \" c r e d i t _ i d \" :  \" 5 5 9 2 b 2 5 7 9 2 5 1 4 1 5 2 c c 0 0 1 1 a a \" ,  \" d e p a r t m e n t \" :  \" C r e w \" ,  \" g e n d e r \" :  0 ,  \" i d \" :  1 3 9 4 2 8 6 ,  \" j o b \" :  \" C G  S u p e r v i s o r \" ,  \" n a m e \" :  \" M i c h a e l  M u l h o l l a n d \" } ,  { \" c r e d i t _ i d \" :  \" 5 4 9 5 9 a 3 2 9 2 5 1 4 1 6 e 2 b 0 0 4 3 5 5 \" ,  \" d e p a r t m e n t \" :  \" C r e w \" ,  \" g e n d e r \" :  0 ,  \" i d \" :  1 3 9 4 7 5 0 ,  \" j o b \" :  \" V i s u a l  E f f e c t s  E d i t o r \" ,  \" n a m e \" :  \" T h o m a s  N i t t m a n n \" } ,  { \" c r e d i t _ i d \" :  \" 5 4 9 5 9 d 6 d c 3 a 3 6 8 6 a e 9 0 0 4 4 0 1 \" ,  \" d e p a r t m e n t \" :  \" V i s u a l  E f f e c t s \" ,  \" g e n d e r \" :  0 ,  \" i d \" :  1 3 9 4 7 5 5 ,  \" j o b \" :  \" V i s u a l  E f f e c t s  S u p e r v i s o r \" ,  \" n a m e \" :  \" E d s o n  W i l l i a m s \" } ,  { \" c r e d i t _ i d \" :  \" 5 4 9 5 a 0 8 f c 3 a 3 6 8 6 a e 3 0 0 4 4 1 c \" ,  \" d e p a r t m e n t \" :  \" E d i t i n g \" ,  \" g e n d e r \" :  0 ,  \" i d \" :  1 3 9 4 9 5 3 ,  \" j o b \" :  \" D i g i t a l  I n t e r m e d i a t e \" ,  \" n a m e \" :  \" C h r i s t i n e  C a r r \" } ,  { \" c r e d i t _ i d \" :  \" 5 5 4 0 2 d 6 5 9 2 5 1 4 1 3 d 6 d 0 0 0 2 4 9 \" ,  \" d e p a r t m e n t \" :  \" V i s u a l  E f f e c t s \" ,  \" g e n d e r \" :  0 ,  \" i d \" :  1 3 9 5 2 6 9 ,  \" j o b \" :  \" V i s u a l  E f f e c t s  S u p e r v i s o r \" ,  \" n a m e \" :  \" J o h n  B r u n o \" } ,  { \" c r e d i t _ i d \" :  \" 5 4 9 5 9 e 7 b 9 2 5 1 4 1 6 e 1 e 0 0 3 f 3 e \" ,  \" d e p a r t m e n t \" :  \" C a m e r a \" ,  \" g e n d e r \" :  0 ,  \" i d \" :  1 3 9 8 9 7 0 ,  \" j o b \" :  \" S t e a d i c a m  O p e r a t o r \" ,  \" n a m e \" :  \" D a v i d  E m m e r i c h s \" } ,  { \" c r e d i t _ i d \" :  \" 5 4 9 5 9 7 3 4 c 3 a 3 6 8 6 a e 1 0 0 4 5 e 0 \" ,  \" d e p a r t m e n t \" :  \" S o u n d \" ,  \" g e n d e r \" :  0 ,  \" i d \" :  1 4 0 0 9 0 6 ,  \" j o b \" :  \" S o u n d  E f f e c t s  E d i t o r \" ,  \" n a m e \" :  \" C h r i s t o p h e r  S c a r a b o s i o \" } ,  { \" c r e d i t _ i d \" :  \" 5 4 9 5 9 5 d d 9 2 5 1 4 1 3 0 f c 0 0 2 d 7 9 \" ,  \" d e p a r t m e n t \" :  \" P r o d u c t i o n \" ,  \" g e n d e r \" :  0 ,  \" i d \" :  1 4 0 1 7 8 4 ,  \" j o b \" :  \" P r o d u c t i o n  S u p e r v i s o r \" ,  \" n a m e \" :  \" J e n n i f e r  T e v e s \" } ,  { \" c r e d i t _ i d \" :  \" 5 4 9 5 9 6 0 0 9 2 5 1 4 1 3 a f 7 0 0 2 8 c c \" ,  \" d e p a r t m e n t \" :  \" P r o d u c t i o n \" ,  \" g e n d e r \" :  0 ,  \" i d \" :  1 4 0 1 7 8 5 ,  \" j o b \" :  \" P r o d u c t i o n  M a n a g e r \" ,  \" n a m e \" :  \" B r i g i t t e  Y o r k e \" } ,  { \" c r e d i t _ i d \" :  \" 5 4 9 5 9 6 e 8 9 2 5 1 4 1 3 0 f c 0 0 2 d 9 9 \" ,  \" d e p a r t m e n t \" :  \" S o u n d \" ,  \" g e n d e r \" :  0 ,  \" i d \" :  1 4 0 1 7 8 6 ,  \" j o b \" :  \" S o u n d  E f f e c t s  E d i t o r \" ,  \" n a m e \" :  \" K e n  F i s c h e r \" } ,  { \" c r e d i t _ i d \" :  \" 5 4 9 5 9 8 2 2 9 2 5 1 4 1 2 c 4 e 0 0 2 a 1 c \" ,  \" d e p a r t m e n t \" :  \" C r e w \" ,  \" g e n d e r \" :  0 ,  \" i d \" :  1 4 0 1 7 8 7 ,  \" j o b \" :  \" S p e c i a l  E f f e c t s  C o o r d i n a t o r \" ,  \" n a m e \" :  \" I a i n  H u t t o n \" } ,  { \" c r e d i t _ i d \" :  \" 5 4 9 5 9 8 3 4 9 2 5 1 4 1 6 e 2 b 0 0 4 3 2 b \" ,  \" d e p a r t m e n t \" :  \" C r e w \" ,  \" g e n d e r \" :  0 ,  \" i d \" :  1 4 0 1 7 8 8 ,  \" j o b \" :  \" S p e c i a l  E f f e c t s  C o o r d i n a t o r \" ,  \" n a m e \" :  \" S t e v e  I n g r a m \" } ,  { \" c r e d i t _ i d \" :  \" 5 4 9 5 9 9 0 5 c 3 a 3 6 8 6 a e 3 0 0 4 3 2 4 \" ,  \" d e p a r t m e n t \" :  \" V i s u a l  E f f e c t s \" ,  \" g e n d e r \" :  0 ,  \" i d \" :  1 4 0 1 7 8 9 ,  \" j o b \" :  \" V i s u a l  E f f e c t s  P r o d u c e r \" ,  \" n a m e \" :  \" J o y c e  C o x \" } ,  { \" c r e d i t _ i d \" :  \" 5 4 9 5 9 9 4 b 9 2 5 1 4 1 3 2 e d 0 0 2 9 5 1 \" ,  \" d e p a r t m e n t \" :  \" V i s u a l  E f f e c t s \" ,  \" g e n d e r \" :  0 ,  \" i d \" :  1 4 0 1 7 9 0 ,  \" j o b \" :  \" V i s u a l  E f f e c t s  P r o d u c e r \" ,  \" n a m e \" :  \" J e n n y  F o s t e r \" } ,  { \" c r e d i t _ i d \" :  \" 5 4 9 5 9 9 c b c 3 a 3 6 8 6 a e 1 0 0 4 6 1 3 \" ,  \" d e p a r t m e n t \" :  \" C r e w \" ,  \" g e n d e r \" :  0 ,  \" i d \" :  1 4 0 1 7 9 1 ,  \" j o b \" :  \" V i s u a l  E f f e c t s  E d i t o r \" ,  \" n a m e \" :  \" C h r i s t o p h e r  M a r i n o \" } ,  { \" c r e d i t _ i d \" :  \" 5 4 9 5 9 9 f 2 c 3 a 3 6 8 6 a e 1 0 0 4 6 1 e \" ,  \" d e p a r t m e n t \" :  \" C r e w \" ,  \" g e n d e r \" :  0 ,  \" i d \" :  1 4 0 1 7 9 2 ,  \" j o b \" :  \" V i s u a l  E f f e c t s  E d i t o r \" ,  \" n a m e \" :  \" J i m  M i l t o n \" } ,  { \" c r e d i t _ i d \" :  \" 5 4 9 5 9 a 5 1 c 3 a 3 6 8 6 a f 3 0 0 3 e b 5 \" ,  \" d e p a r t m e n t \" :  \" V i s u a l  E f f e c t s \" ,  \" g e n d e r \" :  0 ,  \" i d \" :  1 4 0 1 7 9 3 ,  \" j o b \" :  \" V i s u a l  E f f e c t s  P r o d u c e r \" ,  \" n a m e \" :  \" C y n d i  O c h s \" } ,  { \" c r e d i t _ i d \" :  \" 5 4 9 5 9 a 7 c c 3 a 3 6 8 1 1 5 3 0 0 2 6 f 4 \" ,  \" d e p a r t m e n t \" :  \" C r e w \" ,  \" g e n d e r \" :  0 ,  \" i d \" :  1 4 0 1 7 9 4 ,  \" j o b \" :  \" V i s u a l  E f f e c t s  E d i t o r \" ,  \" n a m e \" :  \" L u c a s  P u t n a m \" } ,  { \" c r e d i t _ i d \" :  \" 5 4 9 5 9 b 9 1 c 3 a 3 6 8 0 f f 5 0 0 2 c b 4 \" ,  \" d e p a r t m e n t \" :  \" V i s u a l  E f f e c t s \" ,  \" g e n d e r \" :  0 ,  \" i d \" :  1 4 0 1 7 9 5 ,  \" j o b \" :  \" V i s u a l  E f f e c t s  S u p e r v i s o r \" ,  \" n a m e \" :  \" A n t h o n y  \\' M a x \\'  I v i n s \" } ,  { \" c r e d i t _ i d \" :  \" 5 4 9 5 9 b b 6 9 2 5 1 4 1 2 c 4 e 0 0 2 a 5 f \" ,  \" d e p a r t m e n t \" :  \" V i s u a l  E f f e c t s \" ,  \" g e n d e r \" :  0 ,  \" i d \" :  1 4 0 1 7 9 6 ,  \" j o b \" :  \" V i s u a l  E f f e c t s  S u p e r v i s o r \" ,  \" n a m e \" :  \" J o h n  K n o l l \" } ,  { \" c r e d i t _ i d \" :  \" 5 4 9 5 9 c b b c 3 a 3 6 8 6 a e 3 0 0 4 3 9 1 \" ,  \" d e p a r t m e n t \" :  \" V i s u a l  E f f e c t s \" ,  \" g e n d e r \" :  2 ,  \" i d \" :  1 4 0 1 7 9 9 ,  \" j o b \" :  \" V i s u a l  E f f e c t s  S u p e r v i s o r \" ,  \" n a m e \" :  \" E r i c  S a i n d o n \" } ,  { \" c r e d i t _ i d \" :  \" 5 4 9 5 9 d 0 6 c 3 a 3 6 8 6 a e 9 0 0 4 3 f 6 \" ,  \" d e p a r t m e n t \" :  \" V i s u a l  E f f e c t s \" ,  \" g e n d e r \" :  0 ,  \" i d \" :  1 4 0 1 8 0 0 ,  \" j o b \" :  \" V i s u a l  E f f e c t s  S u p e r v i s o r \" ,  \" n a m e \" :  \" W a y n e  S t a b l e s \" } ,  { \" c r e d i t _ i d \" :  \" 5 4 9 5 9 d 2 5 9 2 5 1 4 1 6 e 1 e 0 0 3 f 1 1 \" ,  \" d e p a r t m e n t \" :  \" V i s u a l  E f f e c t s \" ,  \" g e n d e r \" :  0 ,  \" i d \" :  1 4 0 1 8 0 1 ,  \" j o b \" :  \" V i s u a l  E f f e c t s  S u p e r v i s o r \" ,  \" n a m e \" :  \" D a v i d  S t i n n e t t \" } ,  { \" c r e d i t _ i d \" :  \" 5 4 9 5 9 d b 4 9 2 5 1 4 1 3 a f 7 0 0 2 9 7 5 \" ,  \" d e p a r t m e n t \" :  \" V i s u a l  E f f e c t s \" ,  \" g e n d e r \" :  0 ,  \" i d \" :  1 4 0 1 8 0 3 ,  \" j o b \" :  \" V i s u a l  E f f e c t s  S u p e r v i s o r \" ,  \" n a m e \" :  \" G u y  W i l l i a m s \" } ,  { \" c r e d i t _ i d \" :  \" 5 4 9 5 9 d e 4 c 3 a 3 6 8 1 1 5 3 0 0 2 7 5 0 \" ,  \" d e p a r t m e n t \" :  \" C r e w \" ,  \" g e n d e r \" :  0 ,  \" i d \" :  1 4 0 1 8 0 4 ,  \" j o b \" :  \" S t u n t  C o o r d i n a t o r \" ,  \" n a m e \" :  \" S t u a r t  T h o r p \" } ,  { \" c r e d i t _ i d \" :  \" 5 4 9 5 9 e f 2 c 3 a 3 6 8 0 f c 6 0 0 2 7 f 2 \" ,  \" d e p a r t m e n t \" :  \" L i g h t i n g \" ,  \" g e n d e r \" :  0 ,  \" i d \" :  1 4 0 1 8 0 5 ,  \" j o b \" :  \" B e s t  B o y  E l e c t r i c \" ,  \" n a m e \" :  \" G i l e s  C o b u r n \" } ,  { \" c r e d i t _ i d \" :  \" 5 4 9 5 9 f 0 7 c 3 a 3 6 8 0 f c 6 0 0 2 7 f 9 \" ,  \" d e p a r t m e n t \" :  \" C a m e r a \" ,  \" g e n d e r \" :  2 ,  \" i d \" :  1 4 0 1 8 0 6 ,  \" j o b \" :  \" S t i l l  P h o t o g r a p h e r \" ,  \" n a m e \" :  \" M a r k  F e l l m a n \" } ,  { \" c r e d i t _ i d \" :  \" 5 4 9 5 9 f 4 7 c 3 a 3 6 8 1 1 5 3 0 0 2 7 7 4 \" ,  \" d e p a r t m e n t \" :  \" L i g h t i n g \" ,  \" g e n d e r \" :  0 ,  \" i d \" :  1 4 0 1 8 0 7 ,  \" j o b \" :  \" L i g h t i n g  T e c h n i c i a n \" ,  \" n a m e \" :  \" S c o t t  S p r a g u e \" } ,  { \" c r e d i t _ i d \" :  \" 5 4 9 5 9 f 8 c c 3 a 3 6 8 3 1 b 8 0 0 1 d f 2 \" ,  \" d e p a r t m e n t \" :  \" V i s u a l  E f f e c t s \" ,  \" g e n d e r \" :  0 ,  \" i d \" :  1 4 0 1 8 0 8 ,  \" j o b \" :  \" A n i m a t i o n  D i r e c t o r \" ,  \" n a m e \" :  \" J e r e m y  H o l l o b o n \" } ,  { \" c r e d i t _ i d \" :  \" 5 4 9 5 9 f a 0 c 3 a 3 6 8 3 1 b 8 0 0 1 d f b \" ,  \" d e p a r t m e n t \" :  \" V i s u a l  E f f e c t s \" ,  \" g e n d e r \" :  0 ,  \" i d \" :  1 4 0 1 8 0 9 ,  \" j o b \" :  \" A n i m a t i o n  D i r e c t o r \" ,  \" n a m e \" :  \" O r l a n d o  M e u n i e r \" } ,  { \" c r e d i t _ i d \" :  \" 5 4 9 5 9 f b 6 c 3 a 3 6 8 6 a f 3 0 0 3 f 5 4 \" ,  \" d e p a r t m e n t \" :  \" V i s u a l  E f f e c t s \" ,  \" g e n d e r \" :  0 ,  \" i d \" :  1 4 0 1 8 1 0 ,  \" j o b \" :  \" A n i m a t i o n  D i r e c t o r \" ,  \" n a m e \" :  \" T a i s u k e  T a n i m u r a \" } ,  { \" c r e d i t _ i d \" :  \" 5 4 9 5 9 f d 2 c 3 a 3 6 8 3 1 b 8 0 0 1 e 0 2 \" ,  \" d e p a r t m e n t \" :  \" C o s t u m e  &  M a k e - U p \" ,  \" g e n d e r \" :  0 ,  \" i d \" :  1 4 0 1 8 1 2 ,  \" j o b \" :  \" S e t  C o s t u m e r \" ,  \" n a m e \" :  \" L i l i a  M i s h e l  A c e v e d o \" } ,  { \" c r e d i t _ i d \" :  \" 5 4 9 5 9 f f 9 c 3 a 3 6 8 6 a e 3 0 0 4 4 0 c \" ,  \" d e p a r t m e n t \" :  \" C o s t u m e  &  M a k e - U p \" ,  \" g e n d e r \" :  0 ,  \" i d \" :  1 4 0 1 8 1 4 ,  \" j o b \" :  \" S e t  C o s t u m e r \" ,  \" n a m e \" :  \" A l e j a n d r o  M .  H e r n a n d e z \" } ,  { \" c r e d i t _ i d \" :  \" 5 4 9 5 a 0 d d c 3 a 3 6 8 6 a e 1 0 0 4 6 f e \" ,  \" d e p a r t m e n t \" :  \" E d i t i n g \" ,  \" g e n d e r \" :  0 ,  \" i d \" :  1 4 0 1 8 1 5 ,  \" j o b \" :  \" D i g i t a l  I n t e r m e d i a t e \" ,  \" n a m e \" :  \" M a r v i n  H a l l \" } ,  { \" c r e d i t _ i d \" :  \" 5 4 9 5 a 1 f 7 c 3 a 3 6 8 6 a e 3 0 0 4 4 4 3 \" ,  \" d e p a r t m e n t \" :  \" P r o d u c t i o n \" ,  \" g e n d e r \" :  0 ,  \" i d \" :  1 4 0 1 8 1 6 ,  \" j o b \" :  \" P u b l i c i s t \" ,  \" n a m e \" :  \" J u d y  A l l e y \" } ,  { \" c r e d i t _ i d \" :  \" 5 5 9 2 b 2 9 f c 3 a 3 6 8 6 9 d 1 0 0 0 0 2 f \" ,  \" d e p a r t m e n t \" :  \" C r e w \" ,  \" g e n d e r \" :  0 ,  \" i d \" :  1 4 1 8 3 8 1 ,  \" j o b \" :  \" C G  S u p e r v i s o r \" ,  \" n a m e \" :  \" M i k e  P e r r y \" } ,  { \" c r e d i t _ i d \" :  \" 5 5 9 2 b 2 3 a 9 2 5 1 4 1 5 d f 8 0 0 1 0 8 1 \" ,  \" d e p a r t m e n t \" :  \" C r e w \" ,  \" g e n d e r \" :  0 ,  \" i d \" :  1 4 2 6 8 5 4 ,  \" j o b \" :  \" C G  S u p e r v i s o r \" ,  \" n a m e \" :  \" A n d r e w  M o r l e y \" } ,  { \" c r e d i t _ i d \" :  \" 5 5 4 9 1 e 1 1 9 2 5 1 4 1 0 4 c 4 0 0 0 2 d 8 \" ,  \" d e p a r t m e n t \" :  \" A r t \" ,  \" g e n d e r \" :  0 ,  \" i d \" :  1 4 3 8 9 0 1 ,  \" j o b \" :  \" C o n c e p t u a l  D e s i g n \" ,  \" n a m e \" :  \" S e t h  E n g s t r o m \" } ,  { \" c r e d i t _ i d \" :  \" 5 5 2 5 d 5 8 0 9 2 5 1 4 1 7 2 7 6 0 0 2 b 0 6 \" ,  \" d e p a r t m e n t \" :  \" C r e w \" ,  \" g e n d e r \" :  0 ,  \" i d \" :  1 4 4 7 3 6 2 ,  \" j o b \" :  \" V i s u a l  E f f e c t s  A r t  D i r e c t o r \" ,  \" n a m e \" :  \" E r i c  O l i v e r \" } ,  { \" c r e d i t _ i d \" :  \" 5 5 4 4 2 7 c a 9 2 5 1 4 1 5 8 6 5 0 0 3 1 2 a \" ,  \" d e p a r t m e n t \" :  \" V i s u a l  E f f e c t s \" ,  \" g e n d e r \" :  0 ,  \" i d \" :  1 4 4 7 5 0 3 ,  \" j o b \" :  \" M o d e l i n g \" ,  \" n a m e \" :  \" M a t s u n e  S u z u k i \" } ,  { \" c r e d i t _ i d \" :  \" 5 5 1 9 0 6 8 8 9 2 5 1 4 1 5 a a b 0 0 1 c 8 8 \" ,  \" d e p a r t m e n t \" :  \" A r t \" ,  \" g e n d e r \" :  0 ,  \" i d \" :  1 4 4 7 5 2 4 ,  \" j o b \" :  \" A r t  D e p a r t m e n t  M a n a g e r \" ,  \" n a m e \" :  \" P a u l  T o b i n \" } ,  { \" c r e d i t _ i d \" :  \" 5 5 9 2 a f 8 4 9 2 5 1 4 1 5 2 c c 0 0 1 0 d e \" ,  \" d e p a r t m e n t \" :  \" C o s t u m e  &  M a k e - U p \" ,  \" g e n d e r \" :  0 ,  \" i d \" :  1 4 5 2 6 4 3 ,  \" j o b \" :  \" H a i r s t y l i s t \" ,  \" n a m e \" :  \" R o x a n e  G r i f f i n \" } ,  { \" c r e d i t _ i d \" :  \" 5 5 3 d 3 c 1 0 9 2 5 1 4 1 5 8 5 2 0 0 1 3 1 8 \" ,  \" d e p a r t m e n t \" :  \" L i g h t i n g \" ,  \" g e n d e r \" :  0 ,  \" i d \" :  1 4 5 3 9 3 8 ,  \" j o b \" :  \" L i g h t i n g  A r t i s t \" ,  \" n a m e \" :  \" A r u n  R a m - M o h a n \" } ,  { \" c r e d i t _ i d \" :  \" 5 5 9 2 a f 4 6 9 2 5 1 4 1 5 2 d 5 0 0 1 3 5 5 \" ,  \" d e p a r t m e n t \" :  \" C o s t u m e  &  M a k e - U p \" ,  \" g e n d e r \" :  0 ,  \" i d \" :  1 4 5 7 3 0 5 ,  \" j o b \" :  \" M a k e u p  A r t i s t \" ,  \" n a m e \" :  \" G e o r g i a  L o c k h a r t - A d a m s \" } ,  { \" c r e d i t _ i d \" :  \" 5 5 9 2 b 2 e a c 3 a 3 6 8 7 7 4 7 0 0 1 2 a 5 \" ,  \" d e p a r t m e n t \" :  \" C r e w \" ,  \" g e n d e r \" :  0 ,  \" i d \" :  1 4 6 6 0 3 5 ,  \" j o b \" :  \" C G  S u p e r v i s o r \" ,  \" n a m e \" :  \" T h r a i n  S h a d b o l t \" } ,  { \" c r e d i t _ i d \" :  \" 5 5 9 2 b 0 3 2 c 3 a 3 6 8 7 7 4 5 0 0 1 5 f 1 \" ,  \" d e p a r t m e n t \" :  \" C r e w \" ,  \" g e n d e r \" :  0 ,  \" i d \" :  1 4 8 3 2 2 0 ,  \" j o b \" :  \" C G  S u p e r v i s o r \" ,  \" n a m e \" :  \" B r a d  A l e x a n d e r \" } ,  { \" c r e d i t _ i d \" :  \" 5 5 9 2 b 0 5 5 9 2 5 1 4 1 5 2 d 8 0 0 1 2 f 6 \" ,  \" d e p a r t m e n t \" :  \" C r e w \" ,  \" g e n d e r \" :  0 ,  \" i d \" :  1 4 8 3 2 2 1 ,  \" j o b \" :  \" C G  S u p e r v i s o r \" ,  \" n a m e \" :  \" S h a d i  A l m a s s i z a d e h \" } ,  { \" c r e d i t _ i d \" :  \" 5 5 9 2 b 0 9 0 c 3 a 3 6 8 7 7 5 7 0 0 1 0 b 5 \" ,  \" d e p a r t m e n t \" :  \" C r e w \" ,  \" g e n d e r \" :  0 ,  \" i d \" :  1 4 8 3 2 2 2 ,  \" j o b \" :  \" C G  S u p e r v i s o r \" ,  \" n a m e \" :  \" S i m o n  C l u t t e r b u c k \" } ,  { \" c r e d i t _ i d \" :  \" 5 5 9 2 b 0 d b c 3 a 3 6 8 7 7 4 b 0 0 1 1 2 c \" ,  \" d e p a r t m e n t \" :  \" C r e w \" ,  \" g e n d e r \" :  0 ,  \" i d \" :  1 4 8 3 2 2 3 ,  \" j o b \" :  \" C G  S u p e r v i s o r \" ,  \" n a m e \" :  \" G r a e m e  D e m m o c k s \" } ,  { \" c r e d i t _ i d \" :  \" 5 5 9 2 b 0 f e 9 2 5 1 4 1 5 2 d b 0 0 1 0 c 1 \" ,  \" d e p a r t m e n t \" :  \" C r e w \" ,  \" g e n d e r \" :  0 ,  \" i d \" :  1 4 8 3 2 2 4 ,  \" j o b \" :  \" C G  S u p e r v i s o r \" ,  \" n a m e \" :  \" A d r i a n  F e r n a n d e s \" } ,  { \" c r e d i t _ i d \" :  \" 5 5 9 2 b 1 1 f 9 2 5 1 4 1 5 d f 8 0 0 1 0 5 9 \" ,  \" d e p a r t m e n t \" :  \" C r e w \" ,  \" g e n d e r \" :  0 ,  \" i d \" :  1 4 8 3 2 2 5 ,  \" j o b \" :  \" C G  S u p e r v i s o r \" ,  \" n a m e \" :  \" M i t c h  G a t e s \" } ,  { \" c r e d i t _ i d \" :  \" 5 5 9 2 b 1 5 d c 3 a 3 6 8 7 7 4 5 0 0 1 6 4 5 \" ,  \" d e p a r t m e n t \" :  \" C r e w \" ,  \" g e n d e r \" :  0 ,  \" i d \" :  1 4 8 3 2 2 6 ,  \" j o b \" :  \" C G  S u p e r v i s o r \" ,  \" n a m e \" :  \" J e r r y  K u n g \" } ,  { \" c r e d i t _ i d \" :  \" 5 5 9 2 b 1 8 e 9 2 5 1 4 1 6 4 5 a 0 0 0 4 a e \" ,  \" d e p a r t m e n t \" :  \" C r e w \" ,  \" g e n d e r \" :  0 ,  \" i d \" :  1 4 8 3 2 2 7 ,  \" j o b \" :  \" C G  S u p e r v i s o r \" ,  \" n a m e \" :  \" A n d y  L o m a s \" } ,  { \" c r e d i t _ i d \" :  \" 5 5 9 2 b 1 b f c 3 a 3 6 8 7 7 5 d 0 0 1 0 e 7 \" ,  \" d e p a r t m e n t \" :  \" C r e w \" ,  \" g e n d e r \" :  0 ,  \" i d \" :  1 4 8 3 2 2 8 ,  \" j o b \" :  \" C G  S u p e r v i s o r \" ,  \" n a m e \" :  \" S e b a s t i a n  M a r i n o \" } ,  { \" c r e d i t _ i d \" :  \" 5 5 9 2 b 2 0 4 9 2 5 1 4 1 5 d f 8 0 0 1 0 7 8 \" ,  \" d e p a r t m e n t \" :  \" C r e w \" ,  \" g e n d e r \" :  0 ,  \" i d \" :  1 4 8 3 2 2 9 ,  \" j o b \" :  \" C G  S u p e r v i s o r \" ,  \" n a m e \" :  \" M a t t h i a s  M e n z \" } ,  { \" c r e d i t _ i d \" :  \" 5 5 9 2 b 2 7 b 9 2 5 1 4 1 5 2 d 8 0 0 1 3 6 a \" ,  \" d e p a r t m e n t \" :  \" C r e w \" ,  \" g e n d e r \" :  0 ,  \" i d \" :  1 4 8 3 2 3 0 ,  \" j o b \" :  \" C G  S u p e r v i s o r \" ,  \" n a m e \" :  \" S e r g e i  N e v s h u p o v \" } ,  { \" c r e d i t _ i d \" :  \" 5 5 9 2 b 2 c 3 c 3 a 3 6 8 6 9 e 8 0 0 0 0 3 c \" ,  \" d e p a r t m e n t \" :  \" C r e w \" ,  \" g e n d e r \" :  0 ,  \" i d \" :  1 4 8 3 2 3 1 ,  \" j o b \" :  \" C G  S u p e r v i s o r \" ,  \" n a m e \" :  \" P h i l i p p e  R e b o u r s \" } ,  { \" c r e d i t _ i d \" :  \" 5 5 9 2 b 3 1 7 c 3 a 3 6 8 7 7 4 7 0 0 1 2 a f \" ,  \" d e p a r t m e n t \" :  \" C r e w \" ,  \" g e n d e r \" :  0 ,  \" i d \" :  1 4 8 3 2 3 2 ,  \" j o b \" :  \" C G  S u p e r v i s o r \" ,  \" n a m e \" :  \" M i c h a e l  T a k a r a n g i \" } ,  { \" c r e d i t _ i d \" :  \" 5 5 9 2 b 3 4 5 c 3 a 3 6 8 7 7 4 7 0 0 1 2 b b \" ,  \" d e p a r t m e n t \" :  \" C r e w \" ,  \" g e n d e r \" :  0 ,  \" i d \" :  1 4 8 3 2 3 3 ,  \" j o b \" :  \" C G  S u p e r v i s o r \" ,  \" n a m e \" :  \" D a v i d  W e i t z b e r g \" } ,  { \" c r e d i t _ i d \" :  \" 5 5 9 2 b 3 7 c c 3 a 3 6 8 7 7 5 1 0 0 1 1 3 b \" ,  \" d e p a r t m e n t \" :  \" C r e w \" ,  \" g e n d e r \" :  0 ,  \" i d \" :  1 4 8 3 2 3 4 ,  \" j o b \" :  \" C G  S u p e r v i s o r \" ,  \" n a m e \" :  \" B e n  W h i t e \" } ,  { \" c r e d i t _ i d \" :  \" 5 7 3 c 8 e 2 f 9 2 5 1 4 1 3 f 5 d 0 0 0 0 9 4 \" ,  \" d e p a r t m e n t \" :  \" C r e w \" ,  \" g e n d e r \" :  1 ,  \" i d \" :  1 6 2 1 9 3 2 ,  \" j o b \" :  \" S t u n t s \" ,  \" n a m e \" :  \" M i n  W i n d l e \" } ]'"
      ]
     },
     "execution_count": 58,
     "metadata": {},
     "output_type": "execute_result"
    }
   ],
   "source": [
    "new_df['tags'][0]"
   ]
  },
  {
   "cell_type": "code",
   "execution_count": 59,
   "id": "4930e51a-7714-47e3-ae9e-bc7e898f4302",
   "metadata": {
    "scrolled": true
   },
   "outputs": [
    {
     "name": "stderr",
     "output_type": "stream",
     "text": [
      "C:\\Users\\Sachee\\AppData\\Local\\Temp\\ipykernel_9632\\3214958533.py:1: SettingWithCopyWarning: \n",
      "A value is trying to be set on a copy of a slice from a DataFrame.\n",
      "Try using .loc[row_indexer,col_indexer] = value instead\n",
      "\n",
      "See the caveats in the documentation: https://pandas.pydata.org/pandas-docs/stable/user_guide/indexing.html#returning-a-view-versus-a-copy\n",
      "  new_df['tags'] = new_df['tags'].apply(lambda x:x.lower())\n"
     ]
    }
   ],
   "source": [
    "new_df['tags'] = new_df['tags'].apply(lambda x:x.lower())"
   ]
  },
  {
   "cell_type": "code",
   "execution_count": 60,
   "id": "138642fb-3d5f-4535-ba47-c11c16b21ce1",
   "metadata": {},
   "outputs": [
    {
     "data": {
      "text/html": [
       "<div>\n",
       "<style scoped>\n",
       "    .dataframe tbody tr th:only-of-type {\n",
       "        vertical-align: middle;\n",
       "    }\n",
       "\n",
       "    .dataframe tbody tr th {\n",
       "        vertical-align: top;\n",
       "    }\n",
       "\n",
       "    .dataframe thead th {\n",
       "        text-align: right;\n",
       "    }\n",
       "</style>\n",
       "<table border=\"1\" class=\"dataframe\">\n",
       "  <thead>\n",
       "    <tr style=\"text-align: right;\">\n",
       "      <th></th>\n",
       "      <th>movie_id</th>\n",
       "      <th>title</th>\n",
       "      <th>tags</th>\n",
       "    </tr>\n",
       "  </thead>\n",
       "  <tbody>\n",
       "    <tr>\n",
       "      <th>0</th>\n",
       "      <td>19995</td>\n",
       "      <td>Avatar</td>\n",
       "      <td>in the 22nd century, a paraplegic marine is di...</td>\n",
       "    </tr>\n",
       "    <tr>\n",
       "      <th>1</th>\n",
       "      <td>285</td>\n",
       "      <td>Pirates of the Caribbean: At World's End</td>\n",
       "      <td>captain barbossa, long believed to be dead, ha...</td>\n",
       "    </tr>\n",
       "    <tr>\n",
       "      <th>2</th>\n",
       "      <td>206647</td>\n",
       "      <td>Spectre</td>\n",
       "      <td>a cryptic message from bond’s past sends him o...</td>\n",
       "    </tr>\n",
       "    <tr>\n",
       "      <th>3</th>\n",
       "      <td>49026</td>\n",
       "      <td>The Dark Knight Rises</td>\n",
       "      <td>following the death of district attorney harve...</td>\n",
       "    </tr>\n",
       "    <tr>\n",
       "      <th>4</th>\n",
       "      <td>49529</td>\n",
       "      <td>John Carter</td>\n",
       "      <td>john carter is a war-weary, former military ca...</td>\n",
       "    </tr>\n",
       "  </tbody>\n",
       "</table>\n",
       "</div>"
      ],
      "text/plain": [
       "   movie_id                                     title  \\\n",
       "0     19995                                    Avatar   \n",
       "1       285  Pirates of the Caribbean: At World's End   \n",
       "2    206647                                   Spectre   \n",
       "3     49026                     The Dark Knight Rises   \n",
       "4     49529                               John Carter   \n",
       "\n",
       "                                                tags  \n",
       "0  in the 22nd century, a paraplegic marine is di...  \n",
       "1  captain barbossa, long believed to be dead, ha...  \n",
       "2  a cryptic message from bond’s past sends him o...  \n",
       "3  following the death of district attorney harve...  \n",
       "4  john carter is a war-weary, former military ca...  "
      ]
     },
     "execution_count": 60,
     "metadata": {},
     "output_type": "execute_result"
    }
   ],
   "source": [
    "new_df.head()"
   ]
  },
  {
   "cell_type": "code",
   "execution_count": 61,
   "id": "ab53d9c8-17c1-4cfc-b6f5-108f67905655",
   "metadata": {},
   "outputs": [],
   "source": [
    "import nltk"
   ]
  },
  {
   "cell_type": "code",
   "execution_count": 62,
   "id": "98715feb-b762-4096-ae48-79c0eb9e07a4",
   "metadata": {},
   "outputs": [
    {
     "name": "stdout",
     "output_type": "stream",
     "text": [
      "Requirement already satisfied: nltk in c:\\users\\sachee\\anaconda3\\lib\\site-packages (3.9.1)\n",
      "Requirement already satisfied: click in c:\\users\\sachee\\anaconda3\\lib\\site-packages (from nltk) (8.1.8)\n",
      "Requirement already satisfied: joblib in c:\\users\\sachee\\anaconda3\\lib\\site-packages (from nltk) (1.4.2)\n",
      "Requirement already satisfied: regex>=2021.8.3 in c:\\users\\sachee\\anaconda3\\lib\\site-packages (from nltk) (2024.11.6)\n",
      "Requirement already satisfied: tqdm in c:\\users\\sachee\\anaconda3\\lib\\site-packages (from nltk) (4.67.1)\n",
      "Requirement already satisfied: colorama in c:\\users\\sachee\\anaconda3\\lib\\site-packages (from click->nltk) (0.4.6)\n",
      "Note: you may need to restart the kernel to use updated packages.\n"
     ]
    }
   ],
   "source": [
    "pip install nltk"
   ]
  },
  {
   "cell_type": "code",
   "execution_count": 63,
   "id": "dbadfff0-bc54-4656-b8d9-e61fffca14e4",
   "metadata": {},
   "outputs": [],
   "source": [
    "from nltk.stem.porter import PorterStemmer\n",
    "ps = PorterStemmer()"
   ]
  },
  {
   "cell_type": "code",
   "execution_count": 64,
   "id": "6e51a277-b7c5-42bb-83ed-4dd910fbfeb0",
   "metadata": {},
   "outputs": [],
   "source": [
    "def stem(text):\n",
    "    y = []\n",
    "\n",
    "    for i in text.split():\n",
    "        y.append(ps.stem(i))\n",
    "\n",
    "    return \" \".join(y)"
   ]
  },
  {
   "cell_type": "code",
   "execution_count": 65,
   "id": "bb987326-4084-4874-b3c4-163c59da5de5",
   "metadata": {},
   "outputs": [
    {
     "name": "stderr",
     "output_type": "stream",
     "text": [
      "C:\\Users\\Sachee\\AppData\\Local\\Temp\\ipykernel_9632\\3213734980.py:1: SettingWithCopyWarning: \n",
      "A value is trying to be set on a copy of a slice from a DataFrame.\n",
      "Try using .loc[row_indexer,col_indexer] = value instead\n",
      "\n",
      "See the caveats in the documentation: https://pandas.pydata.org/pandas-docs/stable/user_guide/indexing.html#returning-a-view-versus-a-copy\n",
      "  new_df['tags'] = new_df['tags'].apply(stem)\n"
     ]
    }
   ],
   "source": [
    "new_df['tags'] = new_df['tags'].apply(stem)"
   ]
  },
  {
   "cell_type": "code",
   "execution_count": 66,
   "id": "3dc045ec-46e3-4505-a2c6-f2b48f4a4125",
   "metadata": {
    "scrolled": true
   },
   "outputs": [
    {
     "data": {
      "text/plain": [
       "'in the 22nd century, a parapleg marin is dispatch to the moon pandora on a uniqu mission, but becom torn between follow order and protect an alien civilization. action adventur fantasi sciencefict cultureclash futur spacewar spacecoloni societi spacetravel futurist romanc space alien tribe alienplanet cgi marin soldier battl loveaffair antiwar powerrel mindandsoul 3d samworthington zoesaldana sigourneyweav [ { \" c r e d i t _ i d \" : \" 5 2 f e 4 8 0 0 9 2 5 1 4 1 6 c 7 5 0 a c a 2 3 \" , \" d e p a r t m e n t \" : \" e d i t i n g \" , \" g e n d e r \" : 0 , \" i d \" : 1 7 2 1 , \" j o b \" : \" e d i t o r \" , \" n a m e \" : \" s t e p h e n e . r i v k i n \" } , { \" c r e d i t _ i d \" : \" 5 3 9 c 4 7 e c c 3 a 3 6 8 1 0 e 3 0 0 1 f 8 7 \" , \" d e p a r t m e n t \" : \" a r t \" , \" g e n d e r \" : 2 , \" i d \" : 4 9 6 , \" j o b \" : \" p r o d u c t i o n d e s i g n \" , \" n a m e \" : \" r i c k c a r t e r \" } , { \" c r e d i t _ i d \" : \" 5 4 4 9 1 c 8 9 c 3 a 3 6 8 0 f b 4 0 0 1 c f 7 \" , \" d e p a r t m e n t \" : \" s o u n d \" , \" g e n d e r \" : 0 , \" i d \" : 9 0 0 , \" j o b \" : \" s o u n d d e s i g n e r \" , \" n a m e \" : \" c h r i s t o p h e r b o y e s \" } , { \" c r e d i t _ i d \" : \" 5 4 4 9 1 c b 7 0 e 0 a 2 6 7 4 8 0 0 0 1 b d 0 \" , \" d e p a r t m e n t \" : \" s o u n d \" , \" g e n d e r \" : 0 , \" i d \" : 9 0 0 , \" j o b \" : \" s u p e r v i s i n g s o u n d e d i t o r \" , \" n a m e \" : \" c h r i s t o p h e r b o y e s \" } , { \" c r e d i t _ i d \" : \" 5 3 9 c 4 a 4 c c 3 a 3 6 8 1 0 c 9 0 0 2 1 0 1 \" , \" d e p a r t m e n t \" : \" p r o d u c t i o n \" , \" g e n d e r \" : 1 , \" i d \" : 1 2 6 2 , \" j o b \" : \" c a s t i n g \" , \" n a m e \" : \" m a l i f i n n \" } , { \" c r e d i t _ i d \" : \" 5 5 4 4 e e 3 b 9 2 5 1 4 1 4 9 9 f 0 0 0 8 f c \" , \" d e p a r t m e n t \" : \" s o u n d \" , \" g e n d e r \" : 2 , \" i d \" : 1 7 2 9 , \" j o b \" : \" o r i g i n a l m u s i c c o m p o s e r \" , \" n a m e \" : \" j a m e s h o r n e r \" } , { \" c r e d i t _ i d \" : \" 5 2 f e 4 8 0 0 9 2 5 1 4 1 6 c 7 5 0 a c 9 c 3 \" , \" d e p a r t m e n t \" : \" d i r e c t i n g \" , \" g e n d e r \" : 2 , \" i d \" : 2 7 1 0 , \" j o b \" : \" d i r e c t o r \" , \" n a m e \" : \" j a m e s c a m e r o n \" } , { \" c r e d i t _ i d \" : \" 5 2 f e 4 8 0 0 9 2 5 1 4 1 6 c 7 5 0 a c 9 d 9 \" , \" d e p a r t m e n t \" : \" w r i t i n g \" , \" g e n d e r \" : 2 , \" i d \" : 2 7 1 0 , \" j o b \" : \" w r i t e r \" , \" n a m e \" : \" j a m e s c a m e r o n \" } , { \" c r e d i t _ i d \" : \" 5 2 f e 4 8 0 0 9 2 5 1 4 1 6 c 7 5 0 a c a 1 7 \" , \" d e p a r t m e n t \" : \" e d i t i n g \" , \" g e n d e r \" : 2 , \" i d \" : 2 7 1 0 , \" j o b \" : \" e d i t o r \" , \" n a m e \" : \" j a m e s c a m e r o n \" } , { \" c r e d i t _ i d \" : \" 5 2 f e 4 8 0 0 9 2 5 1 4 1 6 c 7 5 0 a c a 2 9 \" , \" d e p a r t m e n t \" : \" p r o d u c t i o n \" , \" g e n d e r \" : 2 , \" i d \" : 2 7 1 0 , \" j o b \" : \" p r o d u c e r \" , \" n a m e \" : \" j a m e s c a m e r o n \" } , { \" c r e d i t _ i d \" : \" 5 2 f e 4 8 0 0 9 2 5 1 4 1 6 c 7 5 0 a c a 3 f \" , \" d e p a r t m e n t \" : \" w r i t i n g \" , \" g e n d e r \" : 2 , \" i d \" : 2 7 1 0 , \" j o b \" : \" s c r e e n p l a y \" , \" n a m e \" : \" j a m e s c a m e r o n \" } , { \" c r e d i t _ i d \" : \" 5 3 9 c 4 9 8 7 c 3 a 3 6 8 1 0 b a 0 0 2 1 a 4 \" , \" d e p a r t m e n t \" : \" a r t \" , \" g e n d e r \" : 2 , \" i d \" : 7 2 3 6 , \" j o b \" : \" a r t d i r e c t i o n \" , \" n a m e \" : \" a n d r e w m e n z i e s \" } , { \" c r e d i t _ i d \" : \" 5 4 9 5 9 8 c 3 c 3 a 3 6 8 6 a e 9 0 0 4 3 8 3 \" , \" d e p a r t m e n t \" : \" v i s u a l e f f e c t s \" , \" g e n d e r \" : 0 , \" i d \" : 6 6 9 0 , \" j o b \" : \" v i s u a l e f f e c t s p r o d u c e r \" , \" n a m e \" : \" j i l l b r o o k s \" } , { \" c r e d i t _ i d \" : \" 5 2 f e 4 8 0 0 9 2 5 1 4 1 6 c 7 5 0 a c a 4 b \" , \" d e p a r t m e n t \" : \" p r o d u c t i o n \" , \" g e n d e r \" : 1 , \" i d \" : 6 3 4 7 , \" j o b \" : \" c a s t i n g \" , \" n a m e \" : \" m a r g e r y s i m k i n \" } , { \" c r e d i t _ i d \" : \" 5 7 0 b 6 f 4 1 9 2 5 1 4 1 7 d a 7 0 0 3 2 f e \" , \" d e p a r t m e n t \" : \" a r t \" , \" g e n d e r \" : 2 , \" i d \" : 6 8 7 8 , \" j o b \" : \" s u p e r v i s i n g a r t d i r e c t o r \" , \" n a m e \" : \" k e v i n i s h i o k a \" } , { \" c r e d i t _ i d \" : \" 5 4 9 5 a 0 f a c 3 a 3 6 8 6 a e 9 0 0 4 4 6 8 \" , \" d e p a r t m e n t \" : \" s o u n d \" , \" g e n d e r \" : 0 , \" i d \" : 6 8 8 3 , \" j o b \" : \" m u s i c e d i t o r \" , \" n a m e \" : \" d i c k b e r n s t e i n \" } , { \" c r e d i t _ i d \" : \" 5 4 9 5 9 7 0 6 c 3 a 3 6 8 6 a f 3 0 0 3 e 8 1 \" , \" d e p a r t m e n t \" : \" s o u n d \" , \" g e n d e r \" : 0 , \" i d \" : 8 1 5 9 , \" j o b \" : \" s o u n d e f f e c t s e d i t o r \" , \" n a m e \" : \" s h a n n o n m i l l s \" } , { \" c r e d i t _ i d \" : \" 5 4 4 9 1 d 5 8 c 3 a 3 6 8 0 f b 1 0 0 1 c c b \" , \" d e p a r t m e n t \" : \" s o u n d \" , \" g e n d e r \" : 0 , \" i d \" : 8 1 6 0 , \" j o b \" : \" f o l e y \" , \" n a m e \" : \" d e n n i e t h o r p e \" } , { \" c r e d i t _ i d \" : \" 5 4 4 9 1 d 6 c c 3 a 3 6 8 0 f a 5 0 0 1 b 2 c \" , \" d e p a r t m e n t \" : \" s o u n d \" , \" g e n d e r \" : 0 , \" i d \" : 8 1 6 3 , \" j o b \" : \" f o l e y \" , \" n a m e \" : \" j a n a v a n c e \" } , { \" c r e d i t _ i d \" : \" 5 2 f e 4 8 0 0 9 2 5 1 4 1 6 c 7 5 0 a c a 5 7 \" , \" d e p a r t m e n t \" : \" c o s t u m e & m a k e - u p \" , \" g e n d e r \" : 1 , \" i d \" : 8 5 2 7 , \" j o b \" : \" c o s t u m e d e s i g n \" , \" n a m e \" : \" d e b o r a h l y n n s c o t t \" } , { \" c r e d i t _ i d \" : \" 5 2 f e 4 8 0 0 9 2 5 1 4 1 6 c 7 5 0 a c a 2 f \" , \" d e p a r t m e n t \" : \" p r o d u c t i o n \" , \" g e n d e r \" : 2 , \" i d \" : 8 5 2 9 , \" j o b \" : \" p r o d u c e r \" , \" n a m e \" : \" j o n l a n d a u \" } , { \" c r e d i t _ i d \" : \" 5 3 9 c 4 9 3 7 c 3 a 3 6 8 1 0 b a 0 0 2 1 9 4 \" , \" d e p a r t m e n t \" : \" a r t \" , \" g e n d e r \" : 0 , \" i d \" : 9 6 1 8 , \" j o b \" : \" a r t d i r e c t i o n \" , \" n a m e \" : \" s e a n h a w o r t h \" } , { \" c r e d i t _ i d \" : \" 5 3 9 c 4 9 b 6 c 3 a 3 6 8 1 0 c 1 0 0 2 0 e 6 \" , \" d e p a r t m e n t \" : \" a r t \" , \" g e n d e r \" : 1 , \" i d \" : 1 2 6 5 3 , \" j o b \" : \" s e t d e c o r a t i o n \" , \" n a m e \" : \" k i m s i n c l a i r \" } , { \" c r e d i t _ i d \" : \" 5 7 0 b 6 f 2 f 9 2 5 1 4 1 3 a 0 e 0 0 0 2 0 d \" , \" d e p a r t m e n t \" : \" a r t \" , \" g e n d e r \" : 1 , \" i d \" : 1 2 6 5 3 , \" j o b \" : \" s u p e r v i s i n g a r t d i r e c t o r \" , \" n a m e \" : \" k i m s i n c l a i r \" } , { \" c r e d i t _ i d \" : \" 5 4 4 9 1 a 6 c 0 e 0 a 2 6 7 4 8 c 0 0 1 b 1 9 \" , \" d e p a r t m e n t \" : \" a r t \" , \" g e n d e r \" : 2 , \" i d \" : 1 4 3 5 0 , \" j o b \" : \" s e t d e s i g n e r \" , \" n a m e \" : \" r i c h a r d f . m a y s \" } , { \" c r e d i t _ i d \" : \" 5 6 9 2 8 c f 4 c 3 a 3 6 8 4 c f f 0 0 2 5 c 4 \" , \" d e p a r t m e n t \" : \" p r o d u c t i o n \" , \" g e n d e r \" : 1 , \" i d \" : 2 0 2 9 4 , \" j o b \" : \" e x e c u t i v e p r o d u c e r \" , \" n a m e \" : \" l a e t a k a l o g r i d i s \" } , { \" c r e d i t _ i d \" : \" 5 2 f e 4 8 0 0 9 2 5 1 4 1 6 c 7 5 0 a c a 5 1 \" , \" d e p a r t m e n t \" : \" c o s t u m e & m a k e - u p \" , \" g e n d e r \" : 0 , \" i d \" : 1 7 6 7 5 , \" j o b \" : \" c o s t u m e d e s i g n \" , \" n a m e \" : \" m a y e s c . r u b e o \" } , { \" c r e d i t _ i d \" : \" 5 2 f e 4 8 0 0 9 2 5 1 4 1 6 c 7 5 0 a c a 1 1 \" , \" d e p a r t m e n t \" : \" c a m e r a \" , \" g e n d e r \" : 2 , \" i d \" : 1 8 2 6 5 , \" j o b \" : \" d i r e c t o r o f p h o t o g r a p h y \" , \" n a m e \" : \" m a u r o f i o r e \" } , { \" c r e d i t _ i d \" : \" 5 4 4 9 1 9 4 d 0 e 0 a 2 6 7 4 8 f 0 0 1 b 3 9 \" , \" d e p a r t m e n t \" : \" a r t \" , \" g e n d e r \" : 0 , \" i d \" : 4 2 2 8 1 , \" j o b \" : \" s e t d e s i g n e r \" , \" n a m e \" : \" s c o t t h e r b e r t s o n \" } , { \" c r e d i t _ i d \" : \" 5 2 f e 4 8 0 0 9 2 5 1 4 1 6 c 7 5 0 a c a 0 5 \" , \" d e p a r t m e n t \" : \" c r e w \" , \" g e n d e r \" : 0 , \" i d \" : 4 2 2 8 8 , \" j o b \" : \" s t u n t s \" , \" n a m e \" : \" w o o d y s c h u l t z \" } , { \" c r e d i t _ i d \" : \" 5 5 9 2 a e f b 9 2 5 1 4 1 5 2 d e 0 0 1 0 f 5 \" , \" d e p a r t m e n t \" : \" c o s t u m e & m a k e - u p \" , \" g e n d e r \" : 0 , \" i d \" : 2 9 0 6 7 , \" j o b \" : \" m a k e u p a r t i s t \" , \" n a m e \" : \" l i n d a d e v e t t a \" } , { \" c r e d i t _ i d \" : \" 5 5 9 2 a f a 4 9 2 5 1 4 1 5 2 d e 0 0 1 1 2 c \" , \" d e p a r t m e n t \" : \" c o s t u m e & m a k e - u p \" , \" g e n d e r \" : 0 , \" i d \" : 2 9 0 6 7 , \" j o b \" : \" h a i r s t y l i s t \" , \" n a m e \" : \" l i n d a d e v e t t a \" } , { \" c r e d i t _ i d \" : \" 5 4 9 5 9 e d 5 9 2 5 1 4 1 3 0 f c 0 0 2 e 5 d \" , \" d e p a r t m e n t \" : \" c a m e r a \" , \" g e n d e r \" : 2 , \" i d \" : 3 3 3 0 2 , \" j o b \" : \" c a m e r a o p e r a t o r \" , \" n a m e \" : \" r i c h a r d b l u c k \" } , { \" c r e d i t _ i d \" : \" 5 3 9 c 4 8 9 1 c 3 a 3 6 8 1 0 b a 0 0 2 1 4 7 \" , \" d e p a r t m e n t \" : \" a r t \" , \" g e n d e r \" : 2 , \" i d \" : 3 3 3 0 3 , \" j o b \" : \" a r t d i r e c t i o n \" , \" n a m e \" : \" s i m o n b r i g h t \" } , { \" c r e d i t _ i d \" : \" 5 4 9 5 9 c 0 6 9 2 5 1 4 1 7 a 8 1 0 0 1 f 3 a \" , \" d e p a r t m e n t \" : \" v i s u a l e f f e c t s \" , \" g e n d e r \" : 0 , \" i d \" : 1 1 3 1 4 5 , \" j o b \" : \" v i s u a l e f f e c t s s u p e r v i s o r \" , \" n a m e \" : \" r i c h a r d m a r t i n \" } , { \" c r e d i t _ i d \" : \" 5 4 9 5 9 a 0 d c 3 a 3 6 8 0 f f 5 0 0 2 c 8 d \" , \" d e p a r t m e n t \" : \" c r e w \" , \" g e n d e r \" : 2 , \" i d \" : 5 8 1 8 8 , \" j o b \" : \" v i s u a l e f f e c t s e d i t o r \" , \" n a m e \" : \" s t e v e r . m o o r e \" } , { \" c r e d i t _ i d \" : \" 5 2 f e 4 8 0 0 9 2 5 1 4 1 6 c 7 5 0 a c a 1 d \" , \" d e p a r t m e n t \" : \" e d i t i n g \" , \" g e n d e r \" : 2 , \" i d \" : 5 8 8 7 1 , \" j o b \" : \" e d i t o r \" , \" n a m e \" : \" j o h n r e f o u a \" } , { \" c r e d i t _ i d \" : \" 5 4 4 9 1 a 4 d c 3 a 3 6 8 0 f c 3 0 0 1 8 c a \" , \" d e p a r t m e n t \" : \" a r t \" , \" g e n d e r \" : 0 , \" i d \" : 9 2 3 5 9 , \" j o b \" : \" s e t d e s i g n e r \" , \" n a m e \" : \" k a r l j . m a r t i n \" } , { \" c r e d i t _ i d \" : \" 5 2 f e 4 8 0 0 9 2 5 1 4 1 6 c 7 5 0 a c a 3 5 \" , \" d e p a r t m e n t \" : \" c a m e r a \" , \" g e n d e r \" : 1 , \" i d \" : 7 2 2 0 1 , \" j o b \" : \" d i r e c t o r o f p h o t o g r a p h y \" , \" n a m e \" : \" c h i l i n g l i n \" } , { \" c r e d i t _ i d \" : \" 5 2 f e 4 8 0 0 9 2 5 1 4 1 6 c 7 5 0 a c 9 f f \" , \" d e p a r t m e n t \" : \" c r e w \" , \" g e n d e r \" : 0 , \" i d \" : 8 9 7 1 4 , \" j o b \" : \" s t u n t s \" , \" n a m e \" : \" i l r a m c h o i \" } , { \" c r e d i t _ i d \" : \" 5 4 9 5 9 c 5 2 9 2 5 1 4 1 6 e 2 b 0 0 4 3 9 4 \" , \" d e p a r t m e n t \" : \" v i s u a l e f f e c t s \" , \" g e n d e r \" : 2 , \" i d \" : 9 3 2 1 4 , \" j o b \" : \" v i s u a l e f f e c t s s u p e r v i s o r \" , \" n a m e \" : \" s t e v e n q u a l e \" } , { \" c r e d i t _ i d \" : \" 5 4 4 9 1 e d f 0 e 0 a 2 6 7 4 8 9 0 0 1 c 3 7 \" , \" d e p a r t m e n t \" : \" c r e w \" , \" g e n d e r \" : 1 , \" i d \" : 1 2 2 6 0 7 , \" j o b \" : \" d i a l e c t c o a c h \" , \" n a m e \" : \" c a r l a m e y e r \" } , { \" c r e d i t _ i d \" : \" 5 3 9 c 4 8 5 b c 3 a 3 6 8 6 5 3 d 0 0 1 a 3 a \" , \" d e p a r t m e n t \" : \" a r t \" , \" g e n d e r \" : 2 , \" i d \" : 1 3 2 5 8 5 , \" j o b \" : \" a r t d i r e c t i o n \" , \" n a m e \" : \" n i c k b a s s e t t \" } , { \" c r e d i t _ i d \" : \" 5 3 9 c 4 9 0 3 c 3 a 3 6 8 6 5 3 d 0 0 1 a 7 4 \" , \" d e p a r t m e n t \" : \" a r t \" , \" g e n d e r \" : 0 , \" i d \" : 1 3 2 5 9 6 , \" j o b \" : \" a r t d i r e c t i o n \" , \" n a m e \" : \" j i l l c o r m a c k \" } , { \" c r e d i t _ i d \" : \" 5 3 9 c 4 9 6 7 c 3 a 3 6 8 6 5 3 d 0 0 1 a 9 4 \" , \" d e p a r t m e n t \" : \" a r t \" , \" g e n d e r \" : 0 , \" i d \" : 1 3 2 6 0 4 , \" j o b \" : \" a r t d i r e c t i o n \" , \" n a m e \" : \" a n d y m c l a r e n \" } , { \" c r e d i t _ i d \" : \" 5 2 f e 4 8 0 0 9 2 5 1 4 1 6 c 7 5 0 a c a 4 5 \" , \" d e p a r t m e n t \" : \" c r e w \" , \" g e n d e r \" : 0 , \" i d \" : 2 3 6 6 9 6 , \" j o b \" : \" m o t i o n c a p t u r e a r t i s t \" , \" n a m e \" : \" t e r r y n o t a r y \" } , { \" c r e d i t _ i d \" : \" 5 4 9 5 9 e 0 2 c 3 a 3 6 8 0 f c 6 0 0 2 7 d 2 \" , \" d e p a r t m e n t \" : \" c r e w \" , \" g e n d e r \" : 2 , \" i d \" : 9 5 6 1 9 8 , \" j o b \" : \" s t u n t c o o r d i n a t o r \" , \" n a m e \" : \" g a r r e t t w a r r e n \" } , { \" c r e d i t _ i d \" : \" 5 4 9 5 9 c a 3 c 3 a 3 6 8 6 a e 3 0 0 4 3 8 c \" , \" d e p a r t m e n t \" : \" v i s u a l e f f e c t s \" , \" g e n d e r \" : 2 , \" i d \" : 9 5 7 8 7 4 , \" j o b \" : \" v i s u a l e f f e c t s s u p e r v i s o r \" , \" n a m e \" : \" j o n a t h a n r o t h b a r t \" } , { \" c r e d i t _ i d \" : \" 5 7 0 b 6 f 5 1 9 2 5 1 4 1 2 c 7 4 0 0 1 b 2 f \" , \" d e p a r t m e n t \" : \" a r t \" , \" g e n d e r \" : 0 , \" i d \" : 9 5 7 8 8 9 , \" j o b \" : \" s u p e r v i s i n g a r t d i r e c t o r \" , \" n a m e \" : \" s t e f a n d e c h a n t \" } , { \" c r e d i t _ i d \" : \" 5 7 0 b 6 f 6 2 c 3 a 3 6 8 0 b 7 7 0 0 7 4 6 0 \" , \" d e p a r t m e n t \" : \" a r t \" , \" g e n d e r \" : 2 , \" i d \" : 9 5 9 5 5 5 , \" j o b \" : \" s u p e r v i s i n g a r t d i r e c t o r \" , \" n a m e \" : \" t o d d c h e r n i a w s k y \" } , { \" c r e d i t _ i d \" : \" 5 3 9 c 4 a 3 a c 3 a 3 6 8 1 0 d a 0 0 2 1 c c \" , \" d e p a r t m e n t \" : \" p r o d u c t i o n \" , \" g e n d e r \" : 0 , \" i d \" : 1 0 1 6 1 7 7 , \" j o b \" : \" c a s t i n g \" , \" n a m e \" : \" m i r a n d a r i v e r s \" } , { \" c r e d i t _ i d \" : \" 5 3 9 c 4 8 2 c c 3 a 3 6 8 1 0 c 1 0 0 2 0 6 2 \" , \" d e p a r t m e n t \" : \" a r t \" , \" g e n d e r \" : 0 , \" i d \" : 1 0 3 2 5 3 6 , \" j o b \" : \" p r o d u c t i o n d e s i g n \" , \" n a m e \" : \" r o b e r t s t r o m b e r g \" } , { \" c r e d i t _ i d \" : \" 5 3 9 c 4 b 6 5 c 3 a 3 6 8 1 0 c 9 0 0 2 1 2 5 \" , \" d e p a r t m e n t \" : \" c o s t u m e & m a k e - u p \" , \" g e n d e r \" : 2 , \" i d \" : 1 0 7 1 6 8 0 , \" j o b \" : \" c o s t u m e d e s i g n \" , \" n a m e \" : \" j o h n h a r d i n g \" } , { \" c r e d i t _ i d \" : \" 5 4 9 5 9 e 6 6 9 2 5 1 4 1 3 0 f c 0 0 2 e 4 e \" , \" d e p a r t m e n t \" : \" c a m e r a \" , \" g e n d e r \" : 0 , \" i d \" : 1 1 7 7 3 6 4 , \" j o b \" : \" s t e a d i c a m o p e r a t o r \" , \" n a m e \" : \" r o b e r t o d e a n g e l i s \" } , { \" c r e d i t _ i d \" : \" 5 3 9 c 4 9 f 1 c 3 a 3 6 8 6 5 3 d 0 0 1 a a c \" , \" d e p a r t m e n t \" : \" c o s t u m e & m a k e - u p \" , \" g e n d e r \" : 2 , \" i d \" : 1 2 0 2 8 5 0 , \" j o b \" : \" m a k e u p d e p a r t m e n t h e a d \" , \" n a m e \" : \" m i k e s m i t h s o n \" } , { \" c r e d i t _ i d \" : \" 5 4 9 5 9 9 9 e c 3 a 3 6 8 6 a e 1 0 0 4 6 0 c \" , \" d e p a r t m e n t \" : \" v i s u a l e f f e c t s \" , \" g e n d e r \" : 0 , \" i d \" : 1 2 0 4 6 6 8 , \" j o b \" : \" v i s u a l e f f e c t s p r o d u c e r \" , \" n a m e \" : \" a l a i n l a l a n n e \" } , { \" c r e d i t _ i d \" : \" 5 4 9 5 9 c d f c 3 a 3 6 8 1 1 5 3 0 0 2 7 2 9 \" , \" d e p a r t m e n t \" : \" v i s u a l e f f e c t s \" , \" g e n d e r \" : 0 , \" i d \" : 1 2 0 6 4 1 0 , \" j o b \" : \" v i s u a l e f f e c t s s u p e r v i s o r \" , \" n a m e \" : \" l u c a s s a l t o n \" } , { \" c r e d i t _ i d \" : \" 5 4 9 5 9 6 2 3 9 2 5 1 4 1 7 a 8 1 0 0 1 e a e \" , \" d e p a r t m e n t \" : \" c r e w \" , \" g e n d e r \" : 0 , \" i d \" : 1 2 3 4 2 6 6 , \" j o b \" : \" p o s t p r o d u c t i o n s u p e r v i s o r \" , \" n a m e \" : \" j a n a c e t a s h j i a n \" } , { \" c r e d i t _ i d \" : \" 5 4 9 5 9 c 8 5 9 2 5 1 4 1 6 e 1 e 0 0 3 e f e \" , \" d e p a r t m e n t \" : \" v i s u a l e f f e c t s \" , \" g e n d e r \" : 0 , \" i d \" : 1 2 7 1 9 3 2 , \" j o b \" : \" v i s u a l e f f e c t s s u p e r v i s o r \" , \" n a m e \" : \" s t e p h e n r o s e n b a u m \" } , { \" c r e d i t _ i d \" : \" 5 5 9 2 a f 2 8 c 3 a 3 6 8 7 7 5 a 0 0 1 0 5 f \" , \" d e p a r t m e n t \" : \" c o s t u m e & m a k e - u p \" , \" g e n d e r \" : 0 , \" i d \" : 1 3 1 0 0 6 4 , \" j o b \" : \" m a k e u p a r t i s t \" , \" n a m e \" : \" f r a n k i e k a r e n a \" } , { \" c r e d i t _ i d \" : \" 5 3 9 c 4 a d f c 3 a 3 6 8 1 0 e 3 0 0 2 0 3 b \" , \" d e p a r t m e n t \" : \" c o s t u m e & m a k e - u p \" , \" g e n d e r \" : 1 , \" i d \" : 1 3 1 9 8 4 4 , \" j o b \" : \" c o s t u m e s u p e r v i s o r \" , \" n a m e \" : \" l i s a l o v a a s \" } , { \" c r e d i t _ i d \" : \" 5 4 9 5 9 b 5 7 9 2 5 1 4 1 6 e 2 b 0 0 4 3 7 1 \" , \" d e p a r t m e n t \" : \" v i s u a l e f f e c t s \" , \" g e n d e r \" : 0 , \" i d \" : 1 3 2 7 0 2 8 , \" j o b \" : \" v i s u a l e f f e c t s s u p e r v i s o r \" , \" n a m e \" : \" j o n a t h a n f a w k n e r \" } , { \" c r e d i t _ i d \" : \" 5 3 9 c 4 8 a 7 c 3 a 3 6 8 1 0 b 5 0 0 1 f a 7 \" , \" d e p a r t m e n t \" : \" a r t \" , \" g e n d e r \" : 0 , \" i d \" : 1 3 3 0 5 6 1 , \" j o b \" : \" a r t d i r e c t i o n \" , \" n a m e \" : \" r o b e r t b a v i n \" } , { \" c r e d i t _ i d \" : \" 5 3 9 c 4 a 7 1 c 3 a 3 6 8 1 0 d a 0 0 2 1 e 0 \" , \" d e p a r t m e n t \" : \" c o s t u m e & m a k e - u p \" , \" g e n d e r \" : 0 , \" i d \" : 1 3 3 0 5 6 7 , \" j o b \" : \" c o s t u m e s u p e r v i s o r \" , \" n a m e \" : \" a n t h o n y a l m a r a z \" } , { \" c r e d i t _ i d \" : \" 5 3 9 c 4 a 8 a c 3 a 3 6 8 1 0 b a 0 0 2 1 e 4 \" , \" d e p a r t m e n t \" : \" c o s t u m e & m a k e - u p \" , \" g e n d e r \" : 0 , \" i d \" : 1 3 3 0 5 7 0 , \" j o b \" : \" c o s t u m e s u p e r v i s o r \" , \" n a m e \" : \" c a r o l y n m . f e n t o n \" } , { \" c r e d i t _ i d \" : \" 5 3 9 c 4 a b 6 c 3 a 3 6 8 1 0 d a 0 0 2 1 f 0 \" , \" d e p a r t m e n t \" : \" c o s t u m e & m a k e - u p \" , \" g e n d e r \" : 0 , \" i d \" : 1 3 3 0 5 7 4 , \" j o b \" : \" c o s t u m e s u p e r v i s o r \" , \" n a m e \" : \" b e t h k o e n i g s b e r g \" } , { \" c r e d i t _ i d \" : \" 5 4 4 9 1 a b 7 0 e 0 a 2 6 7 4 8 0 0 0 1 b a 2 \" , \" d e p a r t m e n t \" : \" a r t \" , \" g e n d e r \" : 0 , \" i d \" : 1 3 3 6 1 9 1 , \" j o b \" : \" s e t d e s i g n e r \" , \" n a m e \" : \" s a m p a g e \" } , { \" c r e d i t _ i d \" : \" 5 4 4 9 1 9 d 9 c 3 a 3 6 8 0 f c 3 0 0 1 8 b d \" , \" d e p a r t m e n t \" : \" a r t \" , \" g e n d e r \" : 0 , \" i d \" : 1 3 3 9 4 4 1 , \" j o b \" : \" s e t d e s i g n e r \" , \" n a m e \" : \" t e x k a d o n a g a \" } , { \" c r e d i t _ i d \" : \" 5 4 4 9 1 c f 5 0 e 0 a 2 6 7 4 8 3 0 0 1 b 0 c \" , \" d e p a r t m e n t \" : \" e d i t i n g \" , \" g e n d e r \" : 0 , \" i d \" : 1 3 5 2 4 2 2 , \" j o b \" : \" d i a l o g u e e d i t o r \" , \" n a m e \" : \" k i m f o s c a t o \" } , { \" c r e d i t _ i d \" : \" 5 4 4 9 1 9 f 4 0 e 0 a 2 6 7 4 8 c 0 0 1 b 0 9 \" , \" d e p a r t m e n t \" : \" a r t \" , \" g e n d e r \" : 0 , \" i d \" : 1 3 5 2 9 6 2 , \" j o b \" : \" s e t d e s i g n e r \" , \" n a m e \" : \" t a m m y s . l e e \" } , { \" c r e d i t _ i d \" : \" 5 4 9 5 a 1 1 5 c 3 a 3 6 8 0 f f 5 0 0 2 d 7 1 \" , \" d e p a r t m e n t \" : \" c r e w \" , \" g e n d e r \" : 0 , \" i d \" : 1 3 5 7 0 7 0 , \" j o b \" : \" t r a n s p o r t a t i o n c o o r d i n a t o r \" , \" n a m e \" : \" d e n n y c a i r a \" } , { \" c r e d i t _ i d \" : \" 5 4 9 5 a 1 2 f 9 2 5 1 4 1 3 0 f c 0 0 2 e 9 4 \" , \" d e p a r t m e n t \" : \" c r e w \" , \" g e n d e r \" : 0 , \" i d \" : 1 3 5 7 0 7 1 , \" j o b \" : \" t r a n s p o r t a t i o n c o o r d i n a t o r \" , \" n a m e \" : \" j a m e s w a i t k u s \" } , { \" c r e d i t _ i d \" : \" 5 4 9 5 9 7 6 f c 3 a 3 6 8 1 1 5 3 0 0 2 6 b 0 \" , \" d e p a r t m e n t \" : \" s o u n d \" , \" g e n d e r \" : 0 , \" i d \" : 1 3 6 0 1 0 3 , \" j o b \" : \" s u p e r v i s i n g s o u n d e d i t o r \" , \" n a m e \" : \" a d d i s o n t e a g u e \" } , { \" c r e d i t _ i d \" : \" 5 4 4 9 1 8 3 7 c 3 a 3 6 8 0 f b 1 0 0 1 c 5 a \" , \" d e p a r t m e n t \" : \" a r t \" , \" g e n d e r \" : 2 , \" i d \" : 1 3 7 6 8 8 7 , \" j o b \" : \" s e t d e s i g n e r \" , \" n a m e \" : \" c . s c o t t b a k e r \" } , { \" c r e d i t _ i d \" : \" 5 4 4 9 1 8 7 8 c 3 a 3 6 8 0 f b 4 0 0 1 c 9 d \" , \" d e p a r t m e n t \" : \" a r t \" , \" g e n d e r \" : 0 , \" i d \" : 1 3 7 6 8 8 8 , \" j o b \" : \" s e t d e s i g n e r \" , \" n a m e \" : \" l u k e c a s k a \" } , { \" c r e d i t _ i d \" : \" 5 4 4 9 1 8 d a c 3 a 3 6 8 0 f a 5 0 0 1 a e 0 \" , \" d e p a r t m e n t \" : \" a r t \" , \" g e n d e r \" : 0 , \" i d \" : 1 3 7 6 8 8 9 , \" j o b \" : \" s e t d e s i g n e r \" , \" n a m e \" : \" d a v i d c h o w \" } , { \" c r e d i t _ i d \" : \" 5 4 4 9 1 9 1 1 0 e 0 a 2 6 7 4 8 6 0 0 1 b 6 8 \" , \" d e p a r t m e n t \" : \" a r t \" , \" g e n d e r \" : 0 , \" i d \" : 1 3 7 6 8 9 0 , \" j o b \" : \" s e t d e s i g n e r \" , \" n a m e \" : \" j o n a t h a n d y e r \" } , { \" c r e d i t _ i d \" : \" 5 4 4 9 1 9 6 7 c 3 a 3 6 8 0 f a a 0 0 1 b 5 e \" , \" d e p a r t m e n t \" : \" a r t \" , \" g e n d e r \" : 0 , \" i d \" : 1 3 7 6 8 9 1 , \" j o b \" : \" s e t d e s i g n e r \" , \" n a m e \" : \" j o s e p h h i u r a \" } , { \" c r e d i t _ i d \" : \" 5 4 4 9 1 9 9 7 c 3 a 3 6 8 0 f b 1 0 0 1 c 8 a \" , \" d e p a r t m e n t \" : \" a r t \" , \" g e n d e r \" : 0 , \" i d \" : 1 3 7 6 8 9 2 , \" j o b \" : \" a r t d e p a r t m e n t c o o r d i n a t o r \" , \" n a m e \" : \" r e b e c c a j e l l i e \" } , { \" c r e d i t _ i d \" : \" 5 4 4 9 1 9 b a 0 e 0 a 2 6 7 4 8 f 0 0 1 b 4 2 \" , \" d e p a r t m e n t \" : \" a r t \" , \" g e n d e r \" : 0 , \" i d \" : 1 3 7 6 8 9 3 , \" j o b \" : \" s e t d e s i g n e r \" , \" n a m e \" : \" r o b e r t a n d r e w j o h n s o n \" } , { \" c r e d i t _ i d \" : \" 5 4 4 9 1 b 1 d c 3 a 3 6 8 0 f a a 0 0 1 b 8 c \" , \" d e p a r t m e n t \" : \" a r t \" , \" g e n d e r \" : 0 , \" i d \" : 1 3 7 6 8 9 5 , \" j o b \" : \" a s s i s t a n t a r t d i r e c t o r \" , \" n a m e \" : \" m i k e s t a s s i \" } , { \" c r e d i t _ i d \" : \" 5 4 4 9 1 b 7 9 c 3 a 3 6 8 0 f b b 0 0 1 8 2 6 \" , \" d e p a r t m e n t \" : \" a r t \" , \" g e n d e r \" : 0 , \" i d \" : 1 3 7 6 8 9 7 , \" j o b \" : \" c o n s t r u c t i o n c o o r d i n a t o r \" , \" n a m e \" : \" j o h n v i l l a r i n o \" } , { \" c r e d i t _ i d \" : \" 5 4 4 9 1 b a e c 3 a 3 6 8 0 f b 4 0 0 1 c e 6 \" , \" d e p a r t m e n t \" : \" a r t \" , \" g e n d e r \" : 2 , \" i d \" : 1 3 7 6 8 9 8 , \" j o b \" : \" a s s i s t a n t a r t d i r e c t o r \" , \" n a m e \" : \" j e f f r e y w i s n i e w s k i \" } , { \" c r e d i t _ i d \" : \" 5 4 4 9 1 d 2 f c 3 a 3 6 8 0 f b 4 0 0 1 d 0 7 \" , \" d e p a r t m e n t \" : \" e d i t i n g \" , \" g e n d e r \" : 0 , \" i d \" : 1 3 7 6 8 9 9 , \" j o b \" : \" d i a l o g u e e d i t o r \" , \" n a m e \" : \" c h e r y l n a r d i \" } , { \" c r e d i t _ i d \" : \" 5 4 4 9 1 d 8 6 c 3 a 3 6 8 0 f a 5 0 0 1 b 2 f \" , \" d e p a r t m e n t \" : \" e d i t i n g \" , \" g e n d e r \" : 0 , \" i d \" : 1 3 7 6 9 0 1 , \" j o b \" : \" d i a l o g u e e d i t o r \" , \" n a m e \" : \" m a r s h a l l w i n n \" } , { \" c r e d i t _ i d \" : \" 5 4 4 9 1 d 9 d c 3 a 3 6 8 0 f a a 0 0 1 b b 0 \" , \" d e p a r t m e n t \" : \" s o u n d \" , \" g e n d e r \" : 0 , \" i d \" : 1 3 7 6 9 0 2 , \" j o b \" : \" s u p e r v i s i n g s o u n d e d i t o r \" , \" n a m e \" : \" g w e n d o l y n y a t e s w h i t t l e \" } , { \" c r e d i t _ i d \" : \" 5 4 4 9 1 d c 1 0 e 0 a 2 6 7 4 8 6 0 0 1 b c e \" , \" d e p a r t m e n t \" : \" s o u n d \" , \" g e n d e r \" : 0 , \" i d \" : 1 3 7 6 9 0 3 , \" j o b \" : \" s o u n d r e - r e c o r d i n g m i x e r \" , \" n a m e \" : \" w i l l i a m s t e i n \" } , { \" c r e d i t _ i d \" : \" 5 4 4 9 1 f 5 0 0 e 0 a 2 6 7 4 7 c 0 0 1 c 0 7 \" , \" d e p a r t m e n t \" : \" c r e w \" , \" g e n d e r \" : 0 , \" i d \" : 1 3 7 6 9 0 9 , \" j o b \" : \" c h o r e o g r a p h e r \" , \" n a m e \" : \" l u l a w a s h i n g t o n \" } , { \" c r e d i t _ i d \" : \" 5 4 9 5 9 9 2 3 9 2 5 1 4 1 2 c 4 e 0 0 2 a 2 e \" , \" d e p a r t m e n t \" : \" v i s u a l e f f e c t s \" , \" g e n d e r \" : 0 , \" i d \" : 1 3 9 1 6 9 2 , \" j o b \" : \" v i s u a l e f f e c t s p r o d u c e r \" , \" n a m e \" : \" c h r i s d e l c o n t e \" } , { \" c r e d i t _ i d \" : \" 5 4 9 5 9 d 5 4 c 3 a 3 6 8 3 1 b 8 0 0 1 d 9 a \" , \" d e p a r t m e n t \" : \" v i s u a l e f f e c t s \" , \" g e n d e r \" : 2 , \" i d \" : 1 3 9 1 6 9 5 , \" j o b \" : \" v i s u a l e f f e c t s s u p e r v i s o r \" , \" n a m e \" : \" r . c h r i s t o p h e r w h i t e \" } , { \" c r e d i t _ i d \" : \" 5 4 9 5 9 b d f 9 2 5 1 4 1 2 c 4 e 0 0 2 a 6 6 \" , \" d e p a r t m e n t \" : \" v i s u a l e f f e c t s \" , \" g e n d e r \" : 0 , \" i d \" : 1 3 9 4 0 7 0 , \" j o b \" : \" v i s u a l e f f e c t s s u p e r v i s o r \" , \" n a m e \" : \" d a n l e m m o n \" } , { \" c r e d i t _ i d \" : \" 5 4 9 5 9 7 1 d 9 2 5 1 4 1 3 2 e d 0 0 2 9 2 2 \" , \" d e p a r t m e n t \" : \" s o u n d \" , \" g e n d e r \" : 0 , \" i d \" : 1 3 9 4 1 2 9 , \" j o b \" : \" s o u n d e f f e c t s e d i t o r \" , \" n a m e \" : \" t i m n i e l s e n \" } , { \" c r e d i t _ i d \" : \" 5 5 9 2 b 2 5 7 9 2 5 1 4 1 5 2 c c 0 0 1 1 a a \" , \" d e p a r t m e n t \" : \" c r e w \" , \" g e n d e r \" : 0 , \" i d \" : 1 3 9 4 2 8 6 , \" j o b \" : \" c g s u p e r v i s o r \" , \" n a m e \" : \" m i c h a e l m u l h o l l a n d \" } , { \" c r e d i t _ i d \" : \" 5 4 9 5 9 a 3 2 9 2 5 1 4 1 6 e 2 b 0 0 4 3 5 5 \" , \" d e p a r t m e n t \" : \" c r e w \" , \" g e n d e r \" : 0 , \" i d \" : 1 3 9 4 7 5 0 , \" j o b \" : \" v i s u a l e f f e c t s e d i t o r \" , \" n a m e \" : \" t h o m a s n i t t m a n n \" } , { \" c r e d i t _ i d \" : \" 5 4 9 5 9 d 6 d c 3 a 3 6 8 6 a e 9 0 0 4 4 0 1 \" , \" d e p a r t m e n t \" : \" v i s u a l e f f e c t s \" , \" g e n d e r \" : 0 , \" i d \" : 1 3 9 4 7 5 5 , \" j o b \" : \" v i s u a l e f f e c t s s u p e r v i s o r \" , \" n a m e \" : \" e d s o n w i l l i a m s \" } , { \" c r e d i t _ i d \" : \" 5 4 9 5 a 0 8 f c 3 a 3 6 8 6 a e 3 0 0 4 4 1 c \" , \" d e p a r t m e n t \" : \" e d i t i n g \" , \" g e n d e r \" : 0 , \" i d \" : 1 3 9 4 9 5 3 , \" j o b \" : \" d i g i t a l i n t e r m e d i a t e \" , \" n a m e \" : \" c h r i s t i n e c a r r \" } , { \" c r e d i t _ i d \" : \" 5 5 4 0 2 d 6 5 9 2 5 1 4 1 3 d 6 d 0 0 0 2 4 9 \" , \" d e p a r t m e n t \" : \" v i s u a l e f f e c t s \" , \" g e n d e r \" : 0 , \" i d \" : 1 3 9 5 2 6 9 , \" j o b \" : \" v i s u a l e f f e c t s s u p e r v i s o r \" , \" n a m e \" : \" j o h n b r u n o \" } , { \" c r e d i t _ i d \" : \" 5 4 9 5 9 e 7 b 9 2 5 1 4 1 6 e 1 e 0 0 3 f 3 e \" , \" d e p a r t m e n t \" : \" c a m e r a \" , \" g e n d e r \" : 0 , \" i d \" : 1 3 9 8 9 7 0 , \" j o b \" : \" s t e a d i c a m o p e r a t o r \" , \" n a m e \" : \" d a v i d e m m e r i c h s \" } , { \" c r e d i t _ i d \" : \" 5 4 9 5 9 7 3 4 c 3 a 3 6 8 6 a e 1 0 0 4 5 e 0 \" , \" d e p a r t m e n t \" : \" s o u n d \" , \" g e n d e r \" : 0 , \" i d \" : 1 4 0 0 9 0 6 , \" j o b \" : \" s o u n d e f f e c t s e d i t o r \" , \" n a m e \" : \" c h r i s t o p h e r s c a r a b o s i o \" } , { \" c r e d i t _ i d \" : \" 5 4 9 5 9 5 d d 9 2 5 1 4 1 3 0 f c 0 0 2 d 7 9 \" , \" d e p a r t m e n t \" : \" p r o d u c t i o n \" , \" g e n d e r \" : 0 , \" i d \" : 1 4 0 1 7 8 4 , \" j o b \" : \" p r o d u c t i o n s u p e r v i s o r \" , \" n a m e \" : \" j e n n i f e r t e v e s \" } , { \" c r e d i t _ i d \" : \" 5 4 9 5 9 6 0 0 9 2 5 1 4 1 3 a f 7 0 0 2 8 c c \" , \" d e p a r t m e n t \" : \" p r o d u c t i o n \" , \" g e n d e r \" : 0 , \" i d \" : 1 4 0 1 7 8 5 , \" j o b \" : \" p r o d u c t i o n m a n a g e r \" , \" n a m e \" : \" b r i g i t t e y o r k e \" } , { \" c r e d i t _ i d \" : \" 5 4 9 5 9 6 e 8 9 2 5 1 4 1 3 0 f c 0 0 2 d 9 9 \" , \" d e p a r t m e n t \" : \" s o u n d \" , \" g e n d e r \" : 0 , \" i d \" : 1 4 0 1 7 8 6 , \" j o b \" : \" s o u n d e f f e c t s e d i t o r \" , \" n a m e \" : \" k e n f i s c h e r \" } , { \" c r e d i t _ i d \" : \" 5 4 9 5 9 8 2 2 9 2 5 1 4 1 2 c 4 e 0 0 2 a 1 c \" , \" d e p a r t m e n t \" : \" c r e w \" , \" g e n d e r \" : 0 , \" i d \" : 1 4 0 1 7 8 7 , \" j o b \" : \" s p e c i a l e f f e c t s c o o r d i n a t o r \" , \" n a m e \" : \" i a i n h u t t o n \" } , { \" c r e d i t _ i d \" : \" 5 4 9 5 9 8 3 4 9 2 5 1 4 1 6 e 2 b 0 0 4 3 2 b \" , \" d e p a r t m e n t \" : \" c r e w \" , \" g e n d e r \" : 0 , \" i d \" : 1 4 0 1 7 8 8 , \" j o b \" : \" s p e c i a l e f f e c t s c o o r d i n a t o r \" , \" n a m e \" : \" s t e v e i n g r a m \" } , { \" c r e d i t _ i d \" : \" 5 4 9 5 9 9 0 5 c 3 a 3 6 8 6 a e 3 0 0 4 3 2 4 \" , \" d e p a r t m e n t \" : \" v i s u a l e f f e c t s \" , \" g e n d e r \" : 0 , \" i d \" : 1 4 0 1 7 8 9 , \" j o b \" : \" v i s u a l e f f e c t s p r o d u c e r \" , \" n a m e \" : \" j o y c e c o x \" } , { \" c r e d i t _ i d \" : \" 5 4 9 5 9 9 4 b 9 2 5 1 4 1 3 2 e d 0 0 2 9 5 1 \" , \" d e p a r t m e n t \" : \" v i s u a l e f f e c t s \" , \" g e n d e r \" : 0 , \" i d \" : 1 4 0 1 7 9 0 , \" j o b \" : \" v i s u a l e f f e c t s p r o d u c e r \" , \" n a m e \" : \" j e n n y f o s t e r \" } , { \" c r e d i t _ i d \" : \" 5 4 9 5 9 9 c b c 3 a 3 6 8 6 a e 1 0 0 4 6 1 3 \" , \" d e p a r t m e n t \" : \" c r e w \" , \" g e n d e r \" : 0 , \" i d \" : 1 4 0 1 7 9 1 , \" j o b \" : \" v i s u a l e f f e c t s e d i t o r \" , \" n a m e \" : \" c h r i s t o p h e r m a r i n o \" } , { \" c r e d i t _ i d \" : \" 5 4 9 5 9 9 f 2 c 3 a 3 6 8 6 a e 1 0 0 4 6 1 e \" , \" d e p a r t m e n t \" : \" c r e w \" , \" g e n d e r \" : 0 , \" i d \" : 1 4 0 1 7 9 2 , \" j o b \" : \" v i s u a l e f f e c t s e d i t o r \" , \" n a m e \" : \" j i m m i l t o n \" } , { \" c r e d i t _ i d \" : \" 5 4 9 5 9 a 5 1 c 3 a 3 6 8 6 a f 3 0 0 3 e b 5 \" , \" d e p a r t m e n t \" : \" v i s u a l e f f e c t s \" , \" g e n d e r \" : 0 , \" i d \" : 1 4 0 1 7 9 3 , \" j o b \" : \" v i s u a l e f f e c t s p r o d u c e r \" , \" n a m e \" : \" c y n d i o c h s \" } , { \" c r e d i t _ i d \" : \" 5 4 9 5 9 a 7 c c 3 a 3 6 8 1 1 5 3 0 0 2 6 f 4 \" , \" d e p a r t m e n t \" : \" c r e w \" , \" g e n d e r \" : 0 , \" i d \" : 1 4 0 1 7 9 4 , \" j o b \" : \" v i s u a l e f f e c t s e d i t o r \" , \" n a m e \" : \" l u c a s p u t n a m \" } , { \" c r e d i t _ i d \" : \" 5 4 9 5 9 b 9 1 c 3 a 3 6 8 0 f f 5 0 0 2 c b 4 \" , \" d e p a r t m e n t \" : \" v i s u a l e f f e c t s \" , \" g e n d e r \" : 0 , \" i d \" : 1 4 0 1 7 9 5 , \" j o b \" : \" v i s u a l e f f e c t s s u p e r v i s o r \" , \" n a m e \" : \" a n t h o n y \\' m a x \\' i v i n s \" } , { \" c r e d i t _ i d \" : \" 5 4 9 5 9 b b 6 9 2 5 1 4 1 2 c 4 e 0 0 2 a 5 f \" , \" d e p a r t m e n t \" : \" v i s u a l e f f e c t s \" , \" g e n d e r \" : 0 , \" i d \" : 1 4 0 1 7 9 6 , \" j o b \" : \" v i s u a l e f f e c t s s u p e r v i s o r \" , \" n a m e \" : \" j o h n k n o l l \" } , { \" c r e d i t _ i d \" : \" 5 4 9 5 9 c b b c 3 a 3 6 8 6 a e 3 0 0 4 3 9 1 \" , \" d e p a r t m e n t \" : \" v i s u a l e f f e c t s \" , \" g e n d e r \" : 2 , \" i d \" : 1 4 0 1 7 9 9 , \" j o b \" : \" v i s u a l e f f e c t s s u p e r v i s o r \" , \" n a m e \" : \" e r i c s a i n d o n \" } , { \" c r e d i t _ i d \" : \" 5 4 9 5 9 d 0 6 c 3 a 3 6 8 6 a e 9 0 0 4 3 f 6 \" , \" d e p a r t m e n t \" : \" v i s u a l e f f e c t s \" , \" g e n d e r \" : 0 , \" i d \" : 1 4 0 1 8 0 0 , \" j o b \" : \" v i s u a l e f f e c t s s u p e r v i s o r \" , \" n a m e \" : \" w a y n e s t a b l e s \" } , { \" c r e d i t _ i d \" : \" 5 4 9 5 9 d 2 5 9 2 5 1 4 1 6 e 1 e 0 0 3 f 1 1 \" , \" d e p a r t m e n t \" : \" v i s u a l e f f e c t s \" , \" g e n d e r \" : 0 , \" i d \" : 1 4 0 1 8 0 1 , \" j o b \" : \" v i s u a l e f f e c t s s u p e r v i s o r \" , \" n a m e \" : \" d a v i d s t i n n e t t \" } , { \" c r e d i t _ i d \" : \" 5 4 9 5 9 d b 4 9 2 5 1 4 1 3 a f 7 0 0 2 9 7 5 \" , \" d e p a r t m e n t \" : \" v i s u a l e f f e c t s \" , \" g e n d e r \" : 0 , \" i d \" : 1 4 0 1 8 0 3 , \" j o b \" : \" v i s u a l e f f e c t s s u p e r v i s o r \" , \" n a m e \" : \" g u y w i l l i a m s \" } , { \" c r e d i t _ i d \" : \" 5 4 9 5 9 d e 4 c 3 a 3 6 8 1 1 5 3 0 0 2 7 5 0 \" , \" d e p a r t m e n t \" : \" c r e w \" , \" g e n d e r \" : 0 , \" i d \" : 1 4 0 1 8 0 4 , \" j o b \" : \" s t u n t c o o r d i n a t o r \" , \" n a m e \" : \" s t u a r t t h o r p \" } , { \" c r e d i t _ i d \" : \" 5 4 9 5 9 e f 2 c 3 a 3 6 8 0 f c 6 0 0 2 7 f 2 \" , \" d e p a r t m e n t \" : \" l i g h t i n g \" , \" g e n d e r \" : 0 , \" i d \" : 1 4 0 1 8 0 5 , \" j o b \" : \" b e s t b o y e l e c t r i c \" , \" n a m e \" : \" g i l e s c o b u r n \" } , { \" c r e d i t _ i d \" : \" 5 4 9 5 9 f 0 7 c 3 a 3 6 8 0 f c 6 0 0 2 7 f 9 \" , \" d e p a r t m e n t \" : \" c a m e r a \" , \" g e n d e r \" : 2 , \" i d \" : 1 4 0 1 8 0 6 , \" j o b \" : \" s t i l l p h o t o g r a p h e r \" , \" n a m e \" : \" m a r k f e l l m a n \" } , { \" c r e d i t _ i d \" : \" 5 4 9 5 9 f 4 7 c 3 a 3 6 8 1 1 5 3 0 0 2 7 7 4 \" , \" d e p a r t m e n t \" : \" l i g h t i n g \" , \" g e n d e r \" : 0 , \" i d \" : 1 4 0 1 8 0 7 , \" j o b \" : \" l i g h t i n g t e c h n i c i a n \" , \" n a m e \" : \" s c o t t s p r a g u e \" } , { \" c r e d i t _ i d \" : \" 5 4 9 5 9 f 8 c c 3 a 3 6 8 3 1 b 8 0 0 1 d f 2 \" , \" d e p a r t m e n t \" : \" v i s u a l e f f e c t s \" , \" g e n d e r \" : 0 , \" i d \" : 1 4 0 1 8 0 8 , \" j o b \" : \" a n i m a t i o n d i r e c t o r \" , \" n a m e \" : \" j e r e m y h o l l o b o n \" } , { \" c r e d i t _ i d \" : \" 5 4 9 5 9 f a 0 c 3 a 3 6 8 3 1 b 8 0 0 1 d f b \" , \" d e p a r t m e n t \" : \" v i s u a l e f f e c t s \" , \" g e n d e r \" : 0 , \" i d \" : 1 4 0 1 8 0 9 , \" j o b \" : \" a n i m a t i o n d i r e c t o r \" , \" n a m e \" : \" o r l a n d o m e u n i e r \" } , { \" c r e d i t _ i d \" : \" 5 4 9 5 9 f b 6 c 3 a 3 6 8 6 a f 3 0 0 3 f 5 4 \" , \" d e p a r t m e n t \" : \" v i s u a l e f f e c t s \" , \" g e n d e r \" : 0 , \" i d \" : 1 4 0 1 8 1 0 , \" j o b \" : \" a n i m a t i o n d i r e c t o r \" , \" n a m e \" : \" t a i s u k e t a n i m u r a \" } , { \" c r e d i t _ i d \" : \" 5 4 9 5 9 f d 2 c 3 a 3 6 8 3 1 b 8 0 0 1 e 0 2 \" , \" d e p a r t m e n t \" : \" c o s t u m e & m a k e - u p \" , \" g e n d e r \" : 0 , \" i d \" : 1 4 0 1 8 1 2 , \" j o b \" : \" s e t c o s t u m e r \" , \" n a m e \" : \" l i l i a m i s h e l a c e v e d o \" } , { \" c r e d i t _ i d \" : \" 5 4 9 5 9 f f 9 c 3 a 3 6 8 6 a e 3 0 0 4 4 0 c \" , \" d e p a r t m e n t \" : \" c o s t u m e & m a k e - u p \" , \" g e n d e r \" : 0 , \" i d \" : 1 4 0 1 8 1 4 , \" j o b \" : \" s e t c o s t u m e r \" , \" n a m e \" : \" a l e j a n d r o m . h e r n a n d e z \" } , { \" c r e d i t _ i d \" : \" 5 4 9 5 a 0 d d c 3 a 3 6 8 6 a e 1 0 0 4 6 f e \" , \" d e p a r t m e n t \" : \" e d i t i n g \" , \" g e n d e r \" : 0 , \" i d \" : 1 4 0 1 8 1 5 , \" j o b \" : \" d i g i t a l i n t e r m e d i a t e \" , \" n a m e \" : \" m a r v i n h a l l \" } , { \" c r e d i t _ i d \" : \" 5 4 9 5 a 1 f 7 c 3 a 3 6 8 6 a e 3 0 0 4 4 4 3 \" , \" d e p a r t m e n t \" : \" p r o d u c t i o n \" , \" g e n d e r \" : 0 , \" i d \" : 1 4 0 1 8 1 6 , \" j o b \" : \" p u b l i c i s t \" , \" n a m e \" : \" j u d y a l l e y \" } , { \" c r e d i t _ i d \" : \" 5 5 9 2 b 2 9 f c 3 a 3 6 8 6 9 d 1 0 0 0 0 2 f \" , \" d e p a r t m e n t \" : \" c r e w \" , \" g e n d e r \" : 0 , \" i d \" : 1 4 1 8 3 8 1 , \" j o b \" : \" c g s u p e r v i s o r \" , \" n a m e \" : \" m i k e p e r r y \" } , { \" c r e d i t _ i d \" : \" 5 5 9 2 b 2 3 a 9 2 5 1 4 1 5 d f 8 0 0 1 0 8 1 \" , \" d e p a r t m e n t \" : \" c r e w \" , \" g e n d e r \" : 0 , \" i d \" : 1 4 2 6 8 5 4 , \" j o b \" : \" c g s u p e r v i s o r \" , \" n a m e \" : \" a n d r e w m o r l e y \" } , { \" c r e d i t _ i d \" : \" 5 5 4 9 1 e 1 1 9 2 5 1 4 1 0 4 c 4 0 0 0 2 d 8 \" , \" d e p a r t m e n t \" : \" a r t \" , \" g e n d e r \" : 0 , \" i d \" : 1 4 3 8 9 0 1 , \" j o b \" : \" c o n c e p t u a l d e s i g n \" , \" n a m e \" : \" s e t h e n g s t r o m \" } , { \" c r e d i t _ i d \" : \" 5 5 2 5 d 5 8 0 9 2 5 1 4 1 7 2 7 6 0 0 2 b 0 6 \" , \" d e p a r t m e n t \" : \" c r e w \" , \" g e n d e r \" : 0 , \" i d \" : 1 4 4 7 3 6 2 , \" j o b \" : \" v i s u a l e f f e c t s a r t d i r e c t o r \" , \" n a m e \" : \" e r i c o l i v e r \" } , { \" c r e d i t _ i d \" : \" 5 5 4 4 2 7 c a 9 2 5 1 4 1 5 8 6 5 0 0 3 1 2 a \" , \" d e p a r t m e n t \" : \" v i s u a l e f f e c t s \" , \" g e n d e r \" : 0 , \" i d \" : 1 4 4 7 5 0 3 , \" j o b \" : \" m o d e l i n g \" , \" n a m e \" : \" m a t s u n e s u z u k i \" } , { \" c r e d i t _ i d \" : \" 5 5 1 9 0 6 8 8 9 2 5 1 4 1 5 a a b 0 0 1 c 8 8 \" , \" d e p a r t m e n t \" : \" a r t \" , \" g e n d e r \" : 0 , \" i d \" : 1 4 4 7 5 2 4 , \" j o b \" : \" a r t d e p a r t m e n t m a n a g e r \" , \" n a m e \" : \" p a u l t o b i n \" } , { \" c r e d i t _ i d \" : \" 5 5 9 2 a f 8 4 9 2 5 1 4 1 5 2 c c 0 0 1 0 d e \" , \" d e p a r t m e n t \" : \" c o s t u m e & m a k e - u p \" , \" g e n d e r \" : 0 , \" i d \" : 1 4 5 2 6 4 3 , \" j o b \" : \" h a i r s t y l i s t \" , \" n a m e \" : \" r o x a n e g r i f f i n \" } , { \" c r e d i t _ i d \" : \" 5 5 3 d 3 c 1 0 9 2 5 1 4 1 5 8 5 2 0 0 1 3 1 8 \" , \" d e p a r t m e n t \" : \" l i g h t i n g \" , \" g e n d e r \" : 0 , \" i d \" : 1 4 5 3 9 3 8 , \" j o b \" : \" l i g h t i n g a r t i s t \" , \" n a m e \" : \" a r u n r a m - m o h a n \" } , { \" c r e d i t _ i d \" : \" 5 5 9 2 a f 4 6 9 2 5 1 4 1 5 2 d 5 0 0 1 3 5 5 \" , \" d e p a r t m e n t \" : \" c o s t u m e & m a k e - u p \" , \" g e n d e r \" : 0 , \" i d \" : 1 4 5 7 3 0 5 , \" j o b \" : \" m a k e u p a r t i s t \" , \" n a m e \" : \" g e o r g i a l o c k h a r t - a d a m s \" } , { \" c r e d i t _ i d \" : \" 5 5 9 2 b 2 e a c 3 a 3 6 8 7 7 4 7 0 0 1 2 a 5 \" , \" d e p a r t m e n t \" : \" c r e w \" , \" g e n d e r \" : 0 , \" i d \" : 1 4 6 6 0 3 5 , \" j o b \" : \" c g s u p e r v i s o r \" , \" n a m e \" : \" t h r a i n s h a d b o l t \" } , { \" c r e d i t _ i d \" : \" 5 5 9 2 b 0 3 2 c 3 a 3 6 8 7 7 4 5 0 0 1 5 f 1 \" , \" d e p a r t m e n t \" : \" c r e w \" , \" g e n d e r \" : 0 , \" i d \" : 1 4 8 3 2 2 0 , \" j o b \" : \" c g s u p e r v i s o r \" , \" n a m e \" : \" b r a d a l e x a n d e r \" } , { \" c r e d i t _ i d \" : \" 5 5 9 2 b 0 5 5 9 2 5 1 4 1 5 2 d 8 0 0 1 2 f 6 \" , \" d e p a r t m e n t \" : \" c r e w \" , \" g e n d e r \" : 0 , \" i d \" : 1 4 8 3 2 2 1 , \" j o b \" : \" c g s u p e r v i s o r \" , \" n a m e \" : \" s h a d i a l m a s s i z a d e h \" } , { \" c r e d i t _ i d \" : \" 5 5 9 2 b 0 9 0 c 3 a 3 6 8 7 7 5 7 0 0 1 0 b 5 \" , \" d e p a r t m e n t \" : \" c r e w \" , \" g e n d e r \" : 0 , \" i d \" : 1 4 8 3 2 2 2 , \" j o b \" : \" c g s u p e r v i s o r \" , \" n a m e \" : \" s i m o n c l u t t e r b u c k \" } , { \" c r e d i t _ i d \" : \" 5 5 9 2 b 0 d b c 3 a 3 6 8 7 7 4 b 0 0 1 1 2 c \" , \" d e p a r t m e n t \" : \" c r e w \" , \" g e n d e r \" : 0 , \" i d \" : 1 4 8 3 2 2 3 , \" j o b \" : \" c g s u p e r v i s o r \" , \" n a m e \" : \" g r a e m e d e m m o c k s \" } , { \" c r e d i t _ i d \" : \" 5 5 9 2 b 0 f e 9 2 5 1 4 1 5 2 d b 0 0 1 0 c 1 \" , \" d e p a r t m e n t \" : \" c r e w \" , \" g e n d e r \" : 0 , \" i d \" : 1 4 8 3 2 2 4 , \" j o b \" : \" c g s u p e r v i s o r \" , \" n a m e \" : \" a d r i a n f e r n a n d e s \" } , { \" c r e d i t _ i d \" : \" 5 5 9 2 b 1 1 f 9 2 5 1 4 1 5 d f 8 0 0 1 0 5 9 \" , \" d e p a r t m e n t \" : \" c r e w \" , \" g e n d e r \" : 0 , \" i d \" : 1 4 8 3 2 2 5 , \" j o b \" : \" c g s u p e r v i s o r \" , \" n a m e \" : \" m i t c h g a t e s \" } , { \" c r e d i t _ i d \" : \" 5 5 9 2 b 1 5 d c 3 a 3 6 8 7 7 4 5 0 0 1 6 4 5 \" , \" d e p a r t m e n t \" : \" c r e w \" , \" g e n d e r \" : 0 , \" i d \" : 1 4 8 3 2 2 6 , \" j o b \" : \" c g s u p e r v i s o r \" , \" n a m e \" : \" j e r r y k u n g \" } , { \" c r e d i t _ i d \" : \" 5 5 9 2 b 1 8 e 9 2 5 1 4 1 6 4 5 a 0 0 0 4 a e \" , \" d e p a r t m e n t \" : \" c r e w \" , \" g e n d e r \" : 0 , \" i d \" : 1 4 8 3 2 2 7 , \" j o b \" : \" c g s u p e r v i s o r \" , \" n a m e \" : \" a n d y l o m a s \" } , { \" c r e d i t _ i d \" : \" 5 5 9 2 b 1 b f c 3 a 3 6 8 7 7 5 d 0 0 1 0 e 7 \" , \" d e p a r t m e n t \" : \" c r e w \" , \" g e n d e r \" : 0 , \" i d \" : 1 4 8 3 2 2 8 , \" j o b \" : \" c g s u p e r v i s o r \" , \" n a m e \" : \" s e b a s t i a n m a r i n o \" } , { \" c r e d i t _ i d \" : \" 5 5 9 2 b 2 0 4 9 2 5 1 4 1 5 d f 8 0 0 1 0 7 8 \" , \" d e p a r t m e n t \" : \" c r e w \" , \" g e n d e r \" : 0 , \" i d \" : 1 4 8 3 2 2 9 , \" j o b \" : \" c g s u p e r v i s o r \" , \" n a m e \" : \" m a t t h i a s m e n z \" } , { \" c r e d i t _ i d \" : \" 5 5 9 2 b 2 7 b 9 2 5 1 4 1 5 2 d 8 0 0 1 3 6 a \" , \" d e p a r t m e n t \" : \" c r e w \" , \" g e n d e r \" : 0 , \" i d \" : 1 4 8 3 2 3 0 , \" j o b \" : \" c g s u p e r v i s o r \" , \" n a m e \" : \" s e r g e i n e v s h u p o v \" } , { \" c r e d i t _ i d \" : \" 5 5 9 2 b 2 c 3 c 3 a 3 6 8 6 9 e 8 0 0 0 0 3 c \" , \" d e p a r t m e n t \" : \" c r e w \" , \" g e n d e r \" : 0 , \" i d \" : 1 4 8 3 2 3 1 , \" j o b \" : \" c g s u p e r v i s o r \" , \" n a m e \" : \" p h i l i p p e r e b o u r s \" } , { \" c r e d i t _ i d \" : \" 5 5 9 2 b 3 1 7 c 3 a 3 6 8 7 7 4 7 0 0 1 2 a f \" , \" d e p a r t m e n t \" : \" c r e w \" , \" g e n d e r \" : 0 , \" i d \" : 1 4 8 3 2 3 2 , \" j o b \" : \" c g s u p e r v i s o r \" , \" n a m e \" : \" m i c h a e l t a k a r a n g i \" } , { \" c r e d i t _ i d \" : \" 5 5 9 2 b 3 4 5 c 3 a 3 6 8 7 7 4 7 0 0 1 2 b b \" , \" d e p a r t m e n t \" : \" c r e w \" , \" g e n d e r \" : 0 , \" i d \" : 1 4 8 3 2 3 3 , \" j o b \" : \" c g s u p e r v i s o r \" , \" n a m e \" : \" d a v i d w e i t z b e r g \" } , { \" c r e d i t _ i d \" : \" 5 5 9 2 b 3 7 c c 3 a 3 6 8 7 7 5 1 0 0 1 1 3 b \" , \" d e p a r t m e n t \" : \" c r e w \" , \" g e n d e r \" : 0 , \" i d \" : 1 4 8 3 2 3 4 , \" j o b \" : \" c g s u p e r v i s o r \" , \" n a m e \" : \" b e n w h i t e \" } , { \" c r e d i t _ i d \" : \" 5 7 3 c 8 e 2 f 9 2 5 1 4 1 3 f 5 d 0 0 0 0 9 4 \" , \" d e p a r t m e n t \" : \" c r e w \" , \" g e n d e r \" : 1 , \" i d \" : 1 6 2 1 9 3 2 , \" j o b \" : \" s t u n t s \" , \" n a m e \" : \" m i n w i n d l e \" } ]'"
      ]
     },
     "execution_count": 66,
     "metadata": {},
     "output_type": "execute_result"
    }
   ],
   "source": [
    "new_df['tags'][0]"
   ]
  },
  {
   "cell_type": "code",
   "execution_count": 67,
   "id": "785b6d94-6bda-48d5-8158-d57af768f810",
   "metadata": {},
   "outputs": [],
   "source": [
    "# Text vectorization"
   ]
  },
  {
   "cell_type": "code",
   "execution_count": 68,
   "id": "20eb616c-097d-419e-9916-241e54458297",
   "metadata": {},
   "outputs": [],
   "source": [
    "from sklearn.feature_extraction.text import CountVectorizer\n",
    "cv = CountVectorizer(max_features=5000,stop_words='english')"
   ]
  },
  {
   "cell_type": "code",
   "execution_count": 69,
   "id": "8018eb71-9361-45e4-8eb1-3202c925301b",
   "metadata": {},
   "outputs": [
    {
     "data": {
      "text/plain": [
       "array([[0, 0, 0, ..., 0, 0, 0],\n",
       "       [0, 0, 0, ..., 0, 0, 0],\n",
       "       [0, 0, 0, ..., 0, 0, 0],\n",
       "       ...,\n",
       "       [0, 0, 0, ..., 0, 0, 0],\n",
       "       [0, 0, 0, ..., 0, 0, 0],\n",
       "       [0, 0, 0, ..., 0, 0, 0]])"
      ]
     },
     "execution_count": 69,
     "metadata": {},
     "output_type": "execute_result"
    }
   ],
   "source": [
    "cv.fit_transform(new_df['tags']).toarray()"
   ]
  },
  {
   "cell_type": "code",
   "execution_count": 70,
   "id": "26389e23-a3ed-4374-b221-fba4db5a2f10",
   "metadata": {},
   "outputs": [
    {
     "data": {
      "text/plain": [
       "(4806, 5000)"
      ]
     },
     "execution_count": 70,
     "metadata": {},
     "output_type": "execute_result"
    }
   ],
   "source": [
    "cv.fit_transform(new_df['tags']).toarray().shape"
   ]
  },
  {
   "cell_type": "code",
   "execution_count": 71,
   "id": "1d804adf-6022-4896-ade9-2a7084c2aa26",
   "metadata": {},
   "outputs": [],
   "source": [
    "vectors = cv.fit_transform(new_df['tags']).toarray()"
   ]
  },
  {
   "cell_type": "code",
   "execution_count": 72,
   "id": "59f30327-f75e-4a55-bdac-54b76a2bae61",
   "metadata": {},
   "outputs": [
    {
     "data": {
      "text/plain": [
       "array([[0, 0, 0, ..., 0, 0, 0],\n",
       "       [0, 0, 0, ..., 0, 0, 0],\n",
       "       [0, 0, 0, ..., 0, 0, 0],\n",
       "       ...,\n",
       "       [0, 0, 0, ..., 0, 0, 0],\n",
       "       [0, 0, 0, ..., 0, 0, 0],\n",
       "       [0, 0, 0, ..., 0, 0, 0]])"
      ]
     },
     "execution_count": 72,
     "metadata": {},
     "output_type": "execute_result"
    }
   ],
   "source": [
    "vectors\n"
   ]
  },
  {
   "cell_type": "code",
   "execution_count": 73,
   "id": "67e96f24-a2e4-496f-b0c2-9e0c3df567d2",
   "metadata": {},
   "outputs": [
    {
     "data": {
      "text/plain": [
       "array([0, 0, 0, ..., 0, 0, 0])"
      ]
     },
     "execution_count": 73,
     "metadata": {},
     "output_type": "execute_result"
    }
   ],
   "source": [
    "vectors[1]"
   ]
  },
  {
   "cell_type": "code",
   "execution_count": 74,
   "id": "0a1f3cd3-3c7d-48e1-b11e-d2fb18243304",
   "metadata": {},
   "outputs": [
    {
     "data": {
      "text/plain": [
       "array(['000', '007', '10', ..., 'zone', 'zoo', 'zooeydeschanel'],\n",
       "      dtype=object)"
      ]
     },
     "execution_count": 74,
     "metadata": {},
     "output_type": "execute_result"
    }
   ],
   "source": [
    "cv.get_feature_names_out()\n"
   ]
  },
  {
   "cell_type": "code",
   "execution_count": 75,
   "id": "ab621382-7820-46fe-8a7c-d9fe357ec5cf",
   "metadata": {},
   "outputs": [
    {
     "data": {
      "text/plain": [
       "5000"
      ]
     },
     "execution_count": 75,
     "metadata": {},
     "output_type": "execute_result"
    }
   ],
   "source": [
    "len(cv.get_feature_names_out())"
   ]
  },
  {
   "cell_type": "code",
   "execution_count": 76,
   "id": "5fafc9d1-3bf9-40c5-90dd-9a0e1c220bf8",
   "metadata": {
    "scrolled": true
   },
   "outputs": [
    {
     "data": {
      "text/plain": [
       "array(['000', '007', '10', ..., 'zone', 'zoo', 'zooeydeschanel'],\n",
       "      dtype=object)"
      ]
     },
     "execution_count": 76,
     "metadata": {},
     "output_type": "execute_result"
    }
   ],
   "source": [
    "cv.get_feature_names_out()"
   ]
  },
  {
   "cell_type": "code",
   "execution_count": 77,
   "id": "dba9c1c3-ed38-45a8-96fe-66dde7e60392",
   "metadata": {
    "scrolled": true
   },
   "outputs": [
    {
     "name": "stdout",
     "output_type": "stream",
     "text": [
      "['000', '007', '10', '100', '11', '12', '13', '14', '15', '150', '16', '17', '17th', '18', '18th', '18thcenturi', '19', '1910', '1920', '1930', '1940', '1944', '1950', '1950s', '1955', '1959', '1960', '1960s', '1962', '1964', '1970', '1970s', '1971', '1974', '1976', '1980', '1985', '1990', '1997', '1999', '19th', '19thcenturi', '20', '200', '2000', '2003', '2009', '20th', '21st', '23', '24', '25', '30', '300', '3d', '40', '50', '500', '60', '60s', '70', '80', 'aaron', 'aaroneckhart', 'aarontaylor', 'abandon', 'abbi', 'abduct', 'abigailbreslin', 'abil', 'abl', 'aboard', 'abov', 'abus', 'academ', 'academi', 'accept', 'access', 'accid', 'accident', 'acclaim', 'accompani', 'accomplish', 'account', 'accus', 'ace', 'achiev', 'acquaint', 'act', 'action', 'actionhero', 'activ', 'activist', 'activities', 'actor', 'actress', 'actual', 'ad', 'adam', 'adamsandl', 'adapt', 'add', 'addict', 'adjust', 'admir', 'admit', 'adolesc', 'adopt', 'ador', 'adrienbrodi', 'adult', 'adultanim', 'adulteri', 'adulthood', 'advanc', 'adventur', 'adventure', 'adventures', 'advertis', 'advic', 'advis', 'affair', 'affect', 'afghanistan', 'africa', 'african', 'africanamerican', 'aftercreditssting', 'afterlif', 'aftermath', 'ag', 'age', 'agediffer', 'agenc', 'agency', 'agenda', 'agent', 'agents', 'aggress', 'ago', 'agre', 'ahead', 'aid', 'aidanquinn', 'ail', 'aim', 'air', 'airplan', 'airplanecrash', 'airport', 'aka', 'al', 'alabama', 'alan', 'alaska', 'albert', 'alcatraz', 'alcohol', 'alecbaldwin', 'alex', 'alfredmolina', 'ali', 'alic', 'alice', 'alien', 'alieninvas', 'alienlife', 'alienplanet', 'aliens', 'alik', 'aliv', 'alive', 'allen', 'alli', 'allianc', 'allow', 'alon', 'alongsid', 'alpacino', 'alpha', 'alreadi', 'alter', 'altern', 'alway', 'alyssa', 'alzheimer', 'amanda', 'amandapeet', 'amandaseyfri', 'amateur', 'amaz', 'amazon', 'ambassador', 'ambit', 'ambiti', 'ambul', 'ambush', 'america', 'american', 'americanabroad', 'americancivilwar', 'americanfootbal', 'americanfootballplay', 'amid', 'amidst', 'amnesia', 'amp', 'amsterdam', 'amus', 'amusementpark', 'amy', 'amyadam', 'amysmart', 'ana', 'anakin', 'analyst', 'anarchiccomedi', 'ancient', 'ancientrom', 'ancientworld', 'anderson', 'andi', 'andiemacdowel', 'andrew', 'android', 'andy', 'andygarcía', 'angel', 'angela', 'angelabassett', 'angeles', 'angelinajoli', 'anger', 'angri', 'ani', 'anim', 'animalattack', 'animalhorror', 'animals', 'anjelicahuston', 'ann', 'anna', 'annafari', 'annakendrick', 'anne', 'annehathaway', 'annemoss', 'annetteben', 'anni', 'annie', 'anniversari', 'announc', 'annual', 'anonym', 'anoth', 'answer', 'ant', 'antholog', 'anthoni', 'anthonyanderson', 'anthonyhopkin', 'anthonymacki', 'anthropomorph', 'anti', 'antic', 'antihero', 'antiqu', 'antoniobandera', 'antonyelchin', 'anyon', 'anyth', 'apart', 'apartheid', 'apartment', 'ape', 'apocalyps', 'apocalypse', 'apocalypt', 'appar', 'appear', 'appl', 'apple', 'appoint', 'appreci', 'apprentic', 'approach', 'april', 'aquarium', 'arab', 'arch', 'archaeologist', 'archeolog', 'archer', 'architect', 'arctic', 'area', 'aren', 'arena', 'argument', 'aris', 'aristocrat', 'arm', 'armi', 'armor', 'armsdeal', 'army', 'arnold', 'arnoldschwarzenegg', 'arrang', 'arrangedmarriag', 'arrest', 'arriv', 'arrog', 'art', 'arthur', 'artifact', 'artifici', 'artificialintellig', 'artist', 'ash', 'ashley', 'ashleyjudd', 'ashtonkutch', 'asia', 'asian', 'asid', 'ask', 'aspect', 'aspir', 'assassin', 'assault', 'assembl', 'assign', 'assist', 'assistant', 'associ', 'assum', 'asteroid', 'astronaut', 'asylum', 'atheist', 'athlet', 'atom', 'atomicbomb', 'attack', 'attacks', 'attempt', 'attempttoescap', 'attend', 'attent', 'attic', 'attitud', 'attorney', 'attract', 'auction', 'audienc', 'audit', 'august', 'aunt', 'austin', 'australia', 'australian', 'author', 'autism', 'auto', 'automobilerac', 'aveng', 'averag', 'avoid', 'await', 'awak', 'awaken', 'awar', 'award', 'away', 'awkward', 'awri', 'awry', 'ax', 'babe', 'babi', 'baby', 'bachelor', 'backdrop', 'background', 'backpack', 'bad', 'bag', 'bahama', 'bail', 'balanc', 'ball', 'ballet', 'balloon', 'baltimor', 'ban', 'band', 'bandit', 'bangkok', 'banish', 'bank', 'banker', 'bankrobb', 'bankrobberi', 'bar', 'bare', 'bargain', 'barn', 'barney', 'baron', 'barri', 'bas', 'base', 'basebal', 'basedoncomicbook', 'basedongraphicnovel', 'basedonnovel', 'basedonplay', 'basedonstagemus', 'basedontrueev', 'basedontruestori', 'basedontvseri', 'basedonvideogam', 'basedonyoungadultnovel', 'basement', 'basketbal', 'basketball', 'bat', 'batman', 'battl', 'battle', 'battlefield', 'bay', 'beach', 'beam', 'bear', 'beard', 'beast', 'beat', 'beauti', 'beautiful', 'beautifulwoman', 'beauty', 'becam', 'becaus', 'becki', 'becom', 'becominganadult', 'bed', 'bedroom', 'bee', 'beer', 'befor', 'befriend', 'began', 'begin', 'begins', 'behavior', 'belief', 'believ', 'bell', 'bella', 'belong', 'belov', 'ben', 'benaffleck', 'bend', 'beneath', 'benefit', 'benfost', 'beniciodeltoro', 'benjamin', 'benjaminbratt', 'benkingsley', 'bennett', 'benstil', 'bent', 'berlin', 'best', 'bestfriend', 'bestfriendsinlov', 'bet', 'beth', 'betray', 'bettemidl', 'better', 'betti', 'beverli', 'bibl', 'bid', 'big', 'bigger', 'biggest', 'bike', 'biker', 'bikini', 'billhad', 'billi', 'billionair', 'billmurray', 'billnighi', 'billpaxton', 'billpullman', 'billybobthornton', 'billycrudup', 'billycryst', 'biographi', 'biolog', 'bird', 'birth', 'birthday', 'bisexu', 'bishop', 'bit', 'bite', 'bitter', 'bizarr', 'black', 'blackmag', 'blackmail', 'blackpeopl', 'blacksmith', 'blade', 'blame', 'blend', 'blind', 'bliss', 'blizzard', 'block', 'blond', 'blood', 'bloodi', 'bloodsplatt', 'bloodthirsti', 'blow', 'blue', 'board', 'boardingschool', 'boat', 'bob', 'bobbi', 'bobhoskin', 'bodi', 'body', 'bodyguard', 'bold', 'bollywood', 'bomb', 'bond', 'bone', 'book', 'border', 'bore', 'boredom', 'born', 'boss', 'boston', 'botch', 'bound', 'boundari', 'bounti', 'bountyhunt', 'bout', 'box', 'boxer', 'boy', 'boyfriend', 'boys', 'bradleycoop', 'bradpitt', 'brain', 'brainwash', 'brand', 'brandon', 'brave', 'braveri', 'brazil', 'brazilian', 'break', 'breakdown', 'breakup', 'breast', 'breath', 'breed', 'brendanfras', 'brendangleeson', 'brent', 'brian', 'bride', 'bridesmaid', 'bridg', 'brief', 'brielarson', 'bright', 'brilliant', 'bring', 'brink', 'britain', 'british', 'britishsecretservic', 'brittanymurphi', 'broadcast', 'broadway', 'broke', 'broken', 'broker', 'bronx', 'brooklyn', 'broom', 'brothel', 'brother', 'brotherbrotherrelationship', 'brothers', 'brothersisterrelationship', 'brought', 'brown', 'bruce', 'brucegreenwood', 'brucewilli', 'brutal', 'bu', 'buck', 'bud', 'buddi', 'buddy', 'buddycomedi', 'buddycop', 'budget', 'build', 'building', 'built', 'bullet', 'bulli', 'bumbl', 'bunch', 'bunker', 'bunni', 'burglar', 'buri', 'burn', 'bush', 'busi', 'business', 'businessman', 'bust', 'butcher', 'butler', 'butt', 'button', 'buy', 'buzz', 'cabin', 'caesar', 'cage', 'cairo', 'cal', 'california', 'calvin', 'camcord', 'came', 'camera', 'cameraman', 'camerondiaz', 'camp', 'campaign', 'campbell', 'campu', 'canada', 'canadian', 'cancer', 'candi', 'candid', 'canin', 'cannib', 'canuxploit', 'capabl', 'caper', 'capit', 'capt', 'captain', 'captiv', 'captur', 'capture', 'car', 'caraccid', 'carchas', 'carcrash', 'card', 'care', 'career', 'carefre', 'caretak', 'careymulligan', 'caribbean', 'carjourney', 'carl', 'carlagugino', 'carmen', 'carol', 'carolina', 'carrac', 'carri', 'carrie', 'cartel', 'carter', 'cartoon', 'caryelw', 'case', 'caseyaffleck', 'cash', 'casino', 'cast', 'castl', 'cat', 'cataclysm', 'catastroph', 'catch', 'cateblanchett', 'catherinedeneuv', 'catherinekeen', 'catherinezeta', 'cathol', 'catholic', 'cattl', 'caught', 'caus', 'cause', 'cavalri', 'cave', 'cavemen', 'cedrictheentertain', 'celebr', 'celebration', 'cell', 'cellphon', 'cemeteri', 'center', 'centr', 'central', 'centuri', 'centuries', 'century', 'ceo', 'ceremoni', 'certain', 'chad', 'chain', 'chainsaw', 'challeng', 'chamber', 'champion', 'championship', 'chanc', 'chance', 'chang', 'change', 'changed', 'changes', 'channingtatum', 'chao', 'chaos', 'chaotic', 'chapter', 'charact', 'character', 'characters', 'charg', 'charismat', 'charl', 'charli', 'charlie', 'charliesheen', 'charlizetheron', 'charlott', 'charm', 'chart', 'chase', 'chauffeur', 'chazzpalminteri', 'cheat', 'check', 'cheerlead', 'chef', 'chemic', 'cher', 'chevychas', 'chicago', 'chicken', 'chief', 'child', 'childabus', 'childhero', 'childhood', 'childhoodmemori', 'childprodigi', 'children', 'chill', 'chimp', 'china', 'chines', 'chip', 'chipmunk', 'chiwetelejiofor', 'chloe', 'chloëgracemoretz', 'chloësevigni', 'chocol', 'choic', 'choice', 'choos', 'chosen', 'chowyun', 'chri', 'chriscoop', 'chrisevan', 'chrishemsworth', 'chrisklein', 'chrispin', 'chrisrock', 'christ', 'christian', 'christianbal', 'christianslat', 'christin', 'christinaappleg', 'christinaricci', 'christma', 'christmas', 'christmasparti', 'christmastre', 'christoph', 'christopherlambert', 'christopherlloyd', 'christopherplumm', 'christopherwalken', 'christophwaltz', 'chronicl', 'chuck', 'church', 'cia', 'ciaránhind', 'cigarettesmok', 'cillianmurphi', 'cinema', 'circl', 'circu', 'circuit', 'circumst', 'citi', 'citizen', 'city', 'civil', 'civilian', 'civilwar', 'claim', 'clair', 'clairedan', 'claireforlani', 'clan', 'clark', 'clash', 'class', 'classdiffer', 'classic', 'classmat', 'classroom', 'claudevandamm', 'clay', 'clean', 'clear', 'clerk', 'clever', 'client', 'clients', 'cliff', 'climat', 'climb', 'clinteastwood', 'cliveowen', 'clock', 'clone', 'close', 'closer', 'cloud', 'clown', 'club', 'clue', 'clueless', 'clutch', 'coach', 'coast', 'cocain', 'code', 'coffin', 'col', 'cold', 'coldwar', 'cole', 'colin', 'colinfarrel', 'colinfirth', 'collaps', 'colleagu', 'collect', 'collector', 'colleg', 'college', 'collid', 'collis', 'colombia', 'colon', 'colonel', 'coloni', 'color', 'colorado', 'coma', 'combat', 'combin', 'come', 'comeback', 'comed', 'comedi', 'comedian', 'comedy', 'comet', 'comfort', 'comic', 'coming', 'comingofag', 'comingout', 'command', 'commando', 'commerci', 'commiss', 'commit', 'common', 'commun', 'communist', 'community', 'compani', 'companion', 'company', 'compet', 'competit', 'competition', 'complet', 'complex', 'complic', 'compos', 'compuls', 'comput', 'computerviru', 'conan', 'concern', 'concert', 'concoct', 'condit', 'condition', 'conduct', 'confeder', 'confess', 'confid', 'confin', 'conflict', 'confront', 'confus', 'congress', 'conman', 'connect', 'connecticut', 'connel', 'connor', 'conquer', 'consequ', 'consequences', 'conserv', 'consid', 'conspir', 'conspiraci', 'conspiracy', 'constant', 'constantli', 'construct', 'consum', 'contact', 'contain', 'contemporari', 'contend', 'content', 'contest', 'continu', 'contract', 'contractor', 'control', 'controversi', 'convent', 'converg', 'convers', 'convict', 'convinc', 'cook', 'cool', 'cooper', 'cop', 'cope', 'cops', 'core', 'corner', 'corp', 'corpor', 'corporation', 'corps', 'corrupt', 'cost', 'costum', 'couldn', 'counselor', 'count', 'countess', 'countless', 'countri', 'country', 'countryhous', 'countrymus', 'countrysid', 'coup', 'coupl', 'couple', 'courag', 'cours', 'court', 'courtcas', 'courteneycox', 'courtroom', 'cousin', 'cover', 'covert', 'covet', 'cow', 'cowardli', 'cowboy', 'crab', 'crack', 'craft', 'craig', 'crane', 'crash', 'crave', 'crazi', 'creat', 'creation', 'creativ', 'creator', 'creatur', 'creature', 'creatures', 'credit', 'creepi', 'crew', 'cri', 'crime', 'crimefight', 'crimes', 'crimin', 'criminal', 'criminals', 'crisi', 'crisis', 'critic', 'crocodil', 'crook', 'cross', 'crossdress', 'crowd', 'crown', 'crucifixion', 'cruel', 'cruelti', 'cruis', 'cruise', 'crusad', 'crush', 'crystal', 'cuba', 'cubagoodingjr', 'culmin', 'cult', 'cultfilm', 'cultur', 'culture', 'cultureclash', 'cun', 'cup', 'cure', 'current', 'curs', 'curse', 'cusp', 'custodi', 'custody', 'custom', 'cut', 'cutthroat', 'cuttingthecord', 'cyberpunk', 'cyborg', 'cynic', 'dad', 'daili', 'dakotafan', 'dale', 'damag', 'damon', 'dan', 'danaykroyd', 'danc', 'dancer', 'danger', 'daniel', 'danielcraig', 'danielday', 'danielradcliff', 'danni', 'danny', 'dannydevito', 'dannyglov', 'dare', 'dark', 'darkcomedi', 'darkest', 'darkness', 'darylhannah', 'dash', 'date', 'dates', 'daughter', 'daughters', 'dave', 'davi', 'david', 'davidarquett', 'davidduchovni', 'davidmors', 'davidspad', 'davidstrathairn', 'davidthewli', 'dawn', 'daxshepard', 'day', 'daydream', 'days', 'dc', 'dccomic', 'dea', 'dead', 'deadli', 'deadliest', 'deaf', 'deal', 'dealer', 'dean', 'death', 'deathofafriend', 'deathoffath', 'deathpenalti', 'debt', 'debut', 'decad', 'decapit', 'deceas', 'deceit', 'decept', 'decid', 'decis', 'declar', 'dedic', 'deed', 'deep', 'deeper', 'deepli', 'defeat', 'defend', 'defens', 'defi', 'defin', 'delight', 'deliv', 'deliveri', 'delus', 'demand', 'demimoor', 'demon', 'demonicpossess', 'demons', 'deni', 'deniserichard', 'denmark', 'denni', 'dennishopp', 'dennisquaid', 'dentist', 'denzelwashington', 'depart', 'depend', 'depict', 'depress', 'depth', 'deputi', 'derang', 'derek', 'derekluk', 'dermotmulroney', 'descend', 'describ', 'desert', 'design', 'desir', 'desk', 'desol', 'despair', 'desper', 'despit', 'destin', 'destini', 'destiny', 'destroy', 'destroyed', 'destruct', 'destruction', 'detect', 'detective', 'determin', 'detroit', 'devast', 'develop', 'devic', 'devil', 'deviou', 'devis', 'devot', 'diabol', 'diagnos', 'dialogu', 'diamond', 'dian', 'dianekeaton', 'dianekrug', 'dianelan', 'diari', 'dick', 'dictat', 'did', 'didn', 'die', 'died', 'diego', 'dies', 'differ', 'different', 'difficult', 'difficulti', 'dig', 'dilemma', 'diner', 'dinner', 'dinosaur', 'diplomat', 'dire', 'direct', 'director', 'dirt', 'dirti', 'dirtycop', 'disabl', 'disappear', 'disappears', 'disast', 'disaster', 'disastr', 'discov', 'discoveri', 'diseas', 'disease', 'disfigur', 'disgrac', 'disguis', 'dishonesti', 'disillus', 'disney', 'disord', 'dispatch', 'disrupt', 'distant', 'district', 'distrust', 'disturb', 'ditch', 'diva', 'dive', 'divid', 'divis', 'divorc', 'divorce', 'dj', 'dna', 'doc', 'doctor', 'document', 'documentari', 'dodg', 'doe', 'doesn', 'dog', 'doll', 'dollar', 'dolphin', 'dolphlundgren', 'domest', 'domesticviol', 'domin', 'domination', 'don', 'donaldsutherland', 'doncheadl', 'donnel', 'doom', 'doomsday', 'door', 'doorstep', 'doppelgang', 'dorothi', 'doubl', 'double', 'doublecross', 'doublelif', 'doubt', 'doug', 'dr', 'dracula', 'drag', 'dragon', 'drama', 'dramat', 'draw', 'drawn', 'dread', 'dream', 'dreams', 'dress', 'drew', 'drewbarrymor', 'drift', 'drifter', 'drink', 'drive', 'driven', 'driver', 'drone', 'drop', 'drown', 'drug', 'drugabus', 'drugaddict', 'drugdeal', 'druglord', 'drugs', 'drugsmuggl', 'drugtraff', 'drugus', 'drunk', 'drunken', 'du', 'dualident', 'dub', 'duck', 'dude', 'duel', 'duke', 'dump', 'dunn', 'duo', 'dure', 'duringcreditssting', 'dust', 'dustinhoffman', 'dutch', 'duti', 'dwarv', 'dwaynejohnson', 'dyinganddeath', 'dylan', 'dynam', 'dynasti', 'dysfunct', 'dysfunctionalfamili', 'dystopia', 'dystopicfutur', 'eager', 'earli', 'earlier', 'earn', 'earth', 'earthquak', 'easi', 'easili', 'east', 'eastern', 'eat', 'eccentr', 'econom', 'economi', 'eddi', 'eddiegriffin', 'eddiemurphi', 'edg', 'edgar', 'edharri', 'editor', 'educ', 'edward', 'edwardburn', 'edwardnorton', 'effect', 'effort', 'egg', 'ego', 'egypt', 'egyptian', 'el', 'elabor', 'elderli', 'elect', 'element', 'eleph', 'elev', 'eliaskotea', 'elijahwood', 'elimin', 'elisabethshu', 'elit', 'elite', 'elizabeth', 'elizabethbank', 'ella', 'ellenburstyn', 'ellenpag', 'elli', 'elliot', 'elliott', 'els', 'elud', 'elus', 'elv', 'elvi', 'embark', 'embassi', 'embroil', 'emerg', 'emigr', 'emilehirsch', 'emili', 'emilyblunt', 'emilymortim', 'emilywatson', 'emma', 'emmarobert', 'emmaston', 'emmathompson', 'emmawatson', 'emot', 'emperor', 'empir', 'empire', 'employ', 'employe', 'employer', 'enabl', 'enchant', 'encount', 'encourag', 'end', 'endless', 'endoftheworld', 'endur', 'enemi', 'enemies', 'enemy', 'energi', 'enforc', 'engag', 'engin', 'england', 'english', 'englishman', 'enigmat', 'enjoy', 'enlist', 'enorm', 'enrol', 'ensemblecast', 'enslav', 'ensu', 'ensues', 'ensur', 'entangl', 'enter', 'enterpris', 'entertain', 'enthusiast', 'entir', 'entiti', 'environ', 'environment', 'epic', 'epidem', 'episod', 'equal', 'era', 'eric', 'ericbana', 'erin', 'ernest', 'erotic', 'erupt', 'escap', 'escapad', 'escape', 'escapefromprison', 'escort', 'especi', 'espionag', 'establish', 'estat', 'estrang', 'etern', 'ethan', 'ethanhawk', 'ethic', 'eugenelevi', 'europ', 'european', 'eva', 'evacu', 'evad', 'evamend', 'evanrachelwood', 'eve', 'event', 'events', 'eventu', 'eventually', 'everi', 'everybodi', 'everyday', 'everyon', 'everyth', 'evid', 'evil', 'evolut', 'evolv', 'ewanmcgregor', 'ex', 'exact', 'exactli', 'exam', 'examin', 'exchang', 'excit', 'exclus', 'execut', 'exercis', 'exhibit', 'exil', 'exist', 'existence', 'existenti', 'exorc', 'exot', 'exoticisland', 'expect', 'expected', 'expedit', 'experi', 'experienc', 'experience', 'experiment', 'expert', 'explain', 'explod', 'exploit', 'explor', 'explos', 'expos', 'extend', 'extra', 'extramaritalaffair', 'extraordinari', 'extraterrestri', 'extraterrestrialtechnolog', 'extrem', 'extremeviol', 'eye', 'eyes', 'fabl', 'fac', 'face', 'facil', 'fact', 'faction', 'factori', 'fade', 'fail', 'fairi', 'fairytal', 'faith', 'fake', 'falcon', 'fall', 'fallen', 'fallinginlov', 'fals', 'falseident', 'falselyaccus', 'fame', 'famili', 'families', 'family', 'familyconflict', 'familyrelationship', 'famkejanssen', 'famou', 'famous', 'fan', 'fanat', 'fangvamp', 'fans', 'fantasi', 'fantast', 'fantasyworld', 'far', 'farewel', 'farm', 'farmer', 'fascin', 'fashion', 'fast', 'faster', 'fat', 'fatal', 'fate', 'father', 'fatherdaughterrelationship', 'fathersonrelationship', 'favor', 'favorit', 'fbi', 'fbiagent', 'fear', 'fearless', 'fearsom', 'featur', 'fed', 'feder', 'feed', 'feel', 'feet', 'fellow', 'femal', 'female', 'femalecorps', 'femalefriendship', 'femalenud', 'femaleprotagonist', 'fend', 'festiv', 'festival', 'fetish', 'feud', 'fi', 'fiance', 'fiancé', 'fiction', 'fictionalplac', 'field', 'fierc', 'fifth', 'fight', 'fighter', 'figur', 'fil', 'file', 'film', 'filmdirector', 'filmmak', 'filmproduc', 'films', 'final', 'finale', 'financ', 'financi', 'fine', 'finish', 'finn', 'firemen', 'firework', 'firm', 'firsttim', 'fish', 'fisherman', 'fishoutofwat', 'fistfight', 'fit', 'fix', 'flag', 'flame', 'flash', 'flashback', 'flat', 'fledgl', 'flee', 'fleet', 'flesh', 'fli', 'flight', 'fling', 'flint', 'flirt', 'flood', 'floor', 'florida', 'florist', 'flower', 'flyingsauc', 'flynn', 'focu', 'focus', 'foe', 'foil', 'foley', 'folk', 'follow', 'food', 'foot', 'footag', 'footbal', 'footchas', 'forbidden', 'forbiddenlov', 'forc', 'force', 'forces', 'ford', 'foreign', 'forest', 'forestwhitak', 'forev', 'forever', 'forg', 'forget', 'forgiv', 'form', 'formid', 'formula', 'fort', 'fortun', 'fortune', 'fortunetel', 'forward', 'foster', 'fought', 'foundfootag', 'fourth', 'fox', 'frame', 'franc', 'france', 'francisco', 'frank', 'frankenstein', 'franki', 'frantic', 'fratern', 'fraud', 'freak', 'fred', 'freddi', 'freddieprinzejr', 'free', 'freedom', 'freez', 'french', 'frequent', 'fresh', 'freshman', 'friend', 'friendli', 'friends', 'friendship', 'frighten', 'frog', 'fromragstorich', 'frontier', 'frozen', 'frustrat', 'fu', 'fuel', 'fugit', 'fulfil', 'fulli', 'fun', 'fund', 'funer', 'funeral', 'furiou', 'futur', 'future', 'futurist', 'fword', 'ga', 'gabriel', 'gabrielbyrn', 'gadget', 'gaelgarcíabern', 'gain', 'galaxi', 'galaxy', 'gambl', 'gambler', 'game', 'games', 'gandhi', 'gang', 'gangs', 'gangster', 'gangsterboss', 'gangwar', 'garag', 'garden', 'garfield', 'gari', 'garyoldman', 'garysinis', 'gasstat', 'gate', 'gather', 'gave', 'gay', 'gayinterest', 'gayrelationship', 'genehackman', 'gener', 'general', 'generation', 'genet', 'geniu', 'genius', 'gentl', 'geoffreyrush', 'georg', 'george', 'georgeclooney', 'georgia', 'gerardbutl', 'german', 'germani', 'germany', 'getaway', 'ghetto', 'ghost', 'giant', 'giantrobot', 'gift', 'gig', 'gigolo', 'girl', 'girlfriend', 'girls', 'given', 'glamor', 'glass', 'glennclos', 'global', 'globe', 'glori', 'goal', 'god', 'goe', 'gold', 'golden', 'goldiehawn', 'golf', 'gone', 'good', 'goodvsevil', 'gordon', 'gore', 'gorgeou', 'gorilla', 'gossip', 'got', 'gotham', 'gothamc', 'gotten', 'govern', 'government', 'governor', 'grace', 'grad', 'grade', 'gradual', 'graduat', 'grand', 'grandfath', 'grandfather', 'grandmoth', 'grandmother', 'grant', 'graphic', 'grasp', 'grave', 'great', 'greater', 'greatest', 'greec', 'greed', 'greedi', 'greek', 'green', 'greg', 'gregkinnear', 'gregorypeck', 'grew', 'grief', 'griev', 'griffin', 'grim', 'grip', 'grisli', 'ground', 'group', 'groupoffriend', 'grow', 'growingup', 'grown', 'gruesom', 'gu', 'guard', 'guardian', 'guerrilla', 'guest', 'guid', 'guilt', 'guitar', 'gun', 'gunfight', 'gunman', 'gunsling', 'gunviol', 'guru', 'guy', 'guypearc', 'guys', 'gwynethpaltrow', 'gym', 'gypsi', 'ha', 'hack', 'hacker', 'hair', 'haleyjoelos', 'half', 'hall', 'halleberri', 'halloween', 'hallucin', 'han', 'hand', 'handl', 'hands', 'handsom', 'handtohandcombat', 'hang', 'hangov', 'hannah', 'hansel', 'hapless', 'happen', 'happens', 'happi', 'happili', 'happiness', 'happy', 'hara', 'harass', 'harbor', 'hard', 'harden', 'harder', 'harlem', 'harmoni', 'harold', 'harri', 'harriet', 'harrison', 'harrisonford', 'harrow', 'harry', 'harsh', 'hart', 'harvard', 'harvey', 'harveykeitel', 'hasn', 'hatch', 'hate', 'hatr', 'haunt', 'hauntedhous', 'haven', 'havoc', 'hawaii', 'haydenchristensen', 'haze', 'head', 'headlin', 'heal', 'health', 'hear', 'heard', 'heart', 'heartattack', 'heartbreak', 'heat', 'heather', 'heathergraham', 'heathledg', 'heaven', 'heavi', 'heavili', 'heavymet', 'height', 'heir', 'heiress', 'heist', 'held', 'helen', 'helenabonhamcart', 'helenhunt', 'helenmirren', 'helicopt', 'hell', 'help', 'henchmen', 'henri', 'hero', 'heroes', 'heroic', 'heroin', 'heroism', 'hi', 'hidden', 'hiddencamera', 'hide', 'high', 'higher', 'highest', 'highland', 'highli', 'highschool', 'highschoolsport', 'highschoolstud', 'highway', 'hijack', 'hike', 'hilari', 'hilaryduff', 'hilaryswank', 'hill', 'himalaya', 'hip', 'hippi', 'hire', 'histor', 'histori', 'historicalfigur', 'history', 'hit', 'hitch', 'hitchhik', 'hitman', 'ho', 'hobbit', 'hockey', 'hold', 'hole', 'holi', 'holiday', 'holli', 'hollywood', 'home', 'homeinvas', 'homeland', 'homeless', 'homelessperson', 'hometown', 'homicid', 'homophobia', 'homosexu', 'honest', 'honey', 'honeymoon', 'hong', 'hongkong', 'honor', 'hood', 'hoodlum', 'hook', 'hop', 'hope', 'hopedavi', 'hopelessli', 'hopper', 'hord', 'horribl', 'horrif', 'horrifi', 'horror', 'hors', 'horsebackrid', 'horserac', 'hospit', 'hospital', 'host', 'hostag', 'hostage', 'hostil', 'hot', 'hotel', 'hotelroom', 'hotshot', 'hottest', 'hour', 'hous', 'house', 'household', 'housekeep', 'housewif', 'howard', 'howev', 'hud', 'hudson', 'huge', 'hugh', 'hughgrant', 'hughjackman', 'human', 'humananimalrelationship', 'humanity', 'humankind', 'humans', 'humili', 'humor', 'hundr', 'hunger', 'hungri', 'hunt', 'hunter', 'hunters', 'hurrican', 'hurt', 'husband', 'hustler', 'hypnosi', 'hypnot', 'hyster', 'hyun', 'ianmckellen', 'ice', 'icecub', 'icon', 'idea', 'ideal', 'idealist', 'ident', 'identity', 'idol', 'idyl', 'ignit', 'ignor', 'ii', 'iii', 'il', 'ill', 'illeg', 'illegaldrug', 'illegalimmigr', 'illegalprostitut', 'illness', 'illus', 'illustr', 'imag', 'imagin', 'imaginari', 'imagined', 'imax', 'immedi', 'immens', 'immigr', 'immort', 'impact', 'imperi', 'imperson', 'implic', 'import', 'imposs', 'impostor', 'impress', 'imprison', 'inadvert', 'incest', 'incid', 'includ', 'incompet', 'increas', 'increasingli', 'incred', 'independ', 'independentfilm', 'indi', 'india', 'indian', 'indiana', 'indianlead', 'individu', 'industri', 'industry', 'inevit', 'inexplic', 'infam', 'infant', 'infect', 'infidel', 'infiltr', 'influenc', 'inform', 'inhabit', 'inherit', 'initi', 'inject', 'injur', 'injuri', 'inmat', 'inner', 'innoc', 'insan', 'insecur', 'insid', 'insight', 'insist', 'insomnia', 'inspector', 'inspir', 'instal', 'instant', 'instantli', 'instead', 'instinct', 'institut', 'institution', 'instructor', 'insur', 'insurg', 'intellig', 'intend', 'intens', 'intent', 'interact', 'interfer', 'intergalact', 'intern', 'internet', 'interpol', 'interpret', 'interrog', 'interspeciesrom', 'intertwin', 'interview', 'intim', 'intoler', 'intrigu', 'introduc', 'invad', 'invas', 'invent', 'inventor', 'invest', 'investig', 'investigate', 'invis', 'invit', 'involv', 'iowa', 'ira', 'iran', 'iranian', 'iraq', 'iraqwar', 'ireland', 'irish', 'iron', 'islam', 'island', 'isn', 'isol', 'isra', 'israel', 'issu', 'itali', 'italian', 'jack', 'jackass', 'jackblack', 'jacki', 'jackiechan', 'jacknicholson', 'jackson', 'jacob', 'jadapinkettsmith', 'jade', 'jail', 'jake', 'jakegyllenha', 'jamaica', 'jame', 'james', 'jamescaan', 'jamesfranco', 'jamesmarsden', 'jamesmcavoy', 'jameswood', 'jami', 'jamie', 'jamiefoxx', 'jamieleecurti', 'jan', 'jane', 'janitor', 'japan', 'japanes', 'jaredleto', 'jason', 'jasonbateman', 'jasonbigg', 'jasonle', 'jasonschwartzman', 'jasonsegel', 'jasonstatham', 'javierbardem', 'jay', 'jazz', 'jealousi', 'jean', 'jeanreno', 'jedi', 'jeff', 'jeffbridg', 'jeffdaniel', 'jeffgoldblum', 'jeffreywright', 'jennif', 'jenniferaniston', 'jenniferconnelli', 'jennifergarn', 'jenniferjasonleigh', 'jenniferlawr', 'jenniferlopez', 'jenniferlovehewitt', 'jeremyiron', 'jeremyrenn', 'jerri', 'jersey', 'jerusalem', 'jess', 'jessebradford', 'jesseeisenberg', 'jessica', 'jessicaalba', 'jessicabiel', 'jessicachastain', 'jesu', 'jesus', 'jesuschrist', 'jetli', 'jew', 'jewel', 'jewish', 'jigsaw', 'jill', 'jim', 'jimbroadb', 'jimcarrey', 'jimcaviezel', 'jimmi', 'jimmy', 'jin', 'joanallen', 'joancusack', 'joaquinphoenix', 'job', 'jobinterview', 'jock', 'jodiefost', 'joe', 'joel', 'joepesci', 'joey', 'john', 'johnc', 'johncusack', 'johngoodman', 'johnhurt', 'johnkrasinski', 'johnleguizamo', 'johnmalkovich', 'johnni', 'johnny', 'johnnydepp', 'johnnyknoxvil', 'johnson', 'johntravolta', 'johnturturro', 'join', 'jon', 'jonahhil', 'jonathan', 'jonathanrhysmey', 'jone', 'jones', 'jonvoight', 'jordan', 'joseph', 'josephgordon', 'josh', 'joshbrolin', 'joshhartnett', 'joshhutcherson', 'journal', 'journalist', 'journey', 'joy', 'jr', 'juan', 'judelaw', 'judg', 'judidench', 'judygr', 'juli', 'julia', 'julian', 'juliannemoor', 'juliarobert', 'juliastil', 'julie', 'julieandrew', 'juliettebinoch', 'juliu', 'jump', 'june', 'jungl', 'jungle', 'junior', 'junki', 'juri', 'juror', 'just', 'justic', 'justice', 'justin', 'justinlong', 'justintimberlak', 'kaiju', 'kansa', 'karaok', 'karat', 'karen', 'karlurban', 'kat', 'kate', 'katebeckinsal', 'katebosworth', 'katehudson', 'katemara', 'katewinslet', 'katherin', 'katherineheigl', 'kathi', 'kathleenturn', 'kathyb', 'kati', 'katieholm', 'katniss', 'kay', 'keanureev', 'keiraknightley', 'kelli', 'kelly', 'kellypreston', 'ken', 'kennethbranagh', 'kermit', 'kevin', 'kevinbacon', 'kevincostn', 'kevinhart', 'kevinjam', 'kevinklin', 'kevinspacey', 'key', 'kgb', 'khan', 'kick', 'kid', 'kidnap', 'kidnapp', 'kidnapped', 'kids', 'kidsandfamili', 'kiefersutherland', 'kill', 'killed', 'killer', 'killerrobot', 'killers', 'kim', 'kimbasing', 'kind', 'king', 'kingdom', 'kingpin', 'kirk', 'kirstendunst', 'kiss', 'kit', 'kitchen', 'knew', 'knife', 'knight', 'knit', 'knock', 'know', 'knowledg', 'known', 'kong', 'korea', 'korean', 'kowalski', 'kriskristofferson', 'kristenbel', 'kristenstewart', 'kristenwiig', 'kristinscottthoma', 'krueger', 'kung', 'kungfu', 'kurt', 'kurtrussel', 'kyle', 'la', 'lab', 'labor', 'laboratori', 'lac', 'lack', 'ladi', 'ladies', 'ladykil', 'laid', 'lake', 'land', 'landscap', 'lane', 'languag', 'lapd', 'larg', 'larger', 'largest', 'larri', 'laser', 'lasergun', 'lasvega', 'late', 'later', 'latest', 'laugh', 'launch', 'laura', 'lauralinney', 'laurencefishburn', 'lavish', 'law', 'lawman', 'lawrenc', 'lawyer', 'lax', 'lay', 'lazi', 'le', 'lead', 'leader', 'leadership', 'leagu', 'learn', 'leav', 'led', 'lee', 'left', 'leg', 'legaci', 'legacy', 'legal', 'legend', 'legendari', 'legends', 'legion', 'lenaheadey', 'length', 'leo', 'leon', 'leonardnimoy', 'leonardodicaprio', 'lesbian', 'lesbianrelationship', 'lesliemann', 'leslienielsen', 'lesson', 'let', 'lethal', 'letter', 'level', 'levitt', 'lewi', 'lgbt', 'li', 'liaison', 'liamneeson', 'liar', 'liber', 'lie', 'lieuten', 'lievschreib', 'lif', 'life', 'lifeanddeath', 'lifelong', 'lifestyl', 'lifetim', 'lift', 'light', 'lightn', 'lik', 'like', 'lili', 'limit', 'lincoln', 'linda', 'lindsaylohan', 'line', 'lines', 'link', 'lion', 'lisa', 'lisakudrow', 'list', 'listen', 'liter', 'literatur', 'littl', 'littleboy', 'live', 'liveactionandanim', 'lives', 'living', 'lizzi', 'll', 'lloyd', 'lo', 'loan', 'local', 'locat', 'lock', 'logan', 'loganlerman', 'lola', 'london', 'londonengland', 'lone', 'loneli', 'loner', 'lonewolf', 'long', 'longer', 'longtim', 'look', 'loop', 'loos', 'loose', 'loot', 'lord', 'losangel', 'lose', 'loser', 'loss', 'lossofbroth', 'lossofchild', 'lossoffamili', 'lossoffath', 'lossofhusband', 'lossoflov', 'lossofmoth', 'lossofpar', 'lossofson', 'lost', 'lot', 'lotteri', 'lou', 'loui', 'louisiana', 'lov', 'lovabl', 'love', 'loveatfirstsight', 'loveless', 'lovelett', 'loveofone', 'lover', 'loves', 'lovesick', 'lovetriangl', 'low', 'loyal', 'loyalti', 'lt', 'luca', 'luci', 'luck', 'lucki', 'lucy', 'lucyliu', 'luke', 'lukewilson', 'lure', 'lurk', 'lust', 'luxuri', 'ma', 'machin', 'machine', 'machinegun', 'maci', 'mad', 'madam', 'madea', 'madison', 'madness', 'madonna', 'mafia', 'magazin', 'maggi', 'maggie', 'magic', 'magician', 'maid', 'mail', 'main', 'maintain', 'major', 'mak', 'make', 'malcolm', 'male', 'malefemalerelationship', 'malefriendship', 'malenud', 'malibu', 'mall', 'man', 'manag', 'manager', 'mandymoor', 'manhattan', 'manhunt', 'mani', 'maniac', 'manipul', 'mankind', 'mann', 'manner', 'mansion', 'manufactur', 'manvsmachin', 'map', 'mar', 'march', 'marcu', 'mari', 'maria', 'mariabello', 'marijuana', 'marin', 'marisatomei', 'mark', 'market', 'markruffalo', 'markstrong', 'markwahlberg', 'marlonbrando', 'marlonwayan', 'marri', 'marriag', 'marriage', 'marriagecrisi', 'marriagepropos', 'married', 'marriedcoupl', 'marsh', 'marshal', 'martha', 'marti', 'martial', 'martialart', 'martian', 'martin', 'martinfreeman', 'martinlawr', 'marvelcinematicunivers', 'marvelcom', 'mary', 'marymccormack', 'mask', 'maskedkil', 'mass', 'massacr', 'massiv', 'massmurd', 'master', 'mastermind', 'masterpiec', 'masturb', 'match', 'mate', 'materi', 'mathemat', 'mathematician', 'matrix', 'matt', 'mattdamon', 'mattdillon', 'matter', 'matteroflifeanddeath', 'matthew', 'matthewbroderick', 'matthewlillard', 'matthewmcconaughey', 'matur', 'mauric', 'maverick', 'max', 'maxvonsydow', 'maya', 'mayb', 'mayhem', 'mayor', 'maze', 'mccall', 'mcclane', 'mean', 'meant', 'meanwhil', 'meat', 'mechan', 'medal', 'medallion', 'media', 'medic', 'medicin', 'mediev', 'meet', 'mega', 'megan', 'megryan', 'melgibson', 'melissa', 'melvin', 'member', 'members', 'memoir', 'memori', 'memoryloss', 'men', 'menac', 'mental', 'mentalil', 'mentallydis', 'mentor', 'mephisto', 'mercenari', 'merchant', 'merciless', 'mere', 'mermaid', 'merylstreep', 'messag', 'met', 'metal', 'meteor', 'method', 'metro', 'mexican', 'mexicanstandoff', 'mexico', 'mia', 'miami', 'michael', 'michaelangarano', 'michaelcain', 'michaeldougla', 'michaelfassbend', 'michaelj', 'michaelkeaton', 'michaelshannon', 'michaelsheen', 'michel', 'michellemonaghan', 'michellepfeiff', 'michellerodriguez', 'michigan', 'mickey', 'mickeyrourk', 'mid', 'middl', 'middle', 'middleag', 'middleeast', 'midlifecrisi', 'midnight', 'midst', 'midwest', 'mighti', 'mike', 'mikemy', 'milakuni', 'mild', 'mile', 'militari', 'millajovovich', 'miller', 'million', 'millionair', 'milo', 'mind', 'mindcontrol', 'miner', 'minion', 'minist', 'minnesota', 'minniedriv', 'minor', 'minut', 'miracl', 'miracul', 'miranda', 'mirandarichardson', 'mirror', 'misadventur', 'misanthrop', 'mischiev', 'miser', 'misfit', 'misguid', 'mismatch', 'misogynist', 'miss', 'missil', 'missing', 'missingperson', 'mission', 'missionari', 'missionofmurd', 'mississippi', 'missouri', 'mistak', 'mistaken', 'mistakenident', 'mistakenli', 'mistress', 'mitch', 'mitchel', 'mix', 'mob', 'mobster', 'mockumentari', 'model', 'modern', 'mole', 'molli', 'mom', 'moment', 'money', 'monica', 'monk', 'monkey', 'monster', 'monsters', 'monstrou', 'montana', 'month', 'months', 'montreal', 'moon', 'moonlight', 'moor', 'moore', 'moral', 'morganfreeman', 'morgu', 'mormon', 'morn', 'morrischestnut', 'mortal', 'moscow', 'mose', 'mossad', 'mostli', 'motel', 'mother', 'motherdaughterrelationship', 'motherrol', 'mothersonrelationship', 'motion', 'motiv', 'motley', 'motor', 'motorcycl', 'mount', 'mountain', 'mountains', 'mous', 'mouth', 'movement', 'movi', 'movie', 'movieinmovi', 'movies', 'moviestar', 'mr', 'multi', 'multipl', 'multiplestorylin', 'mumblecor', 'mumblegor', 'murder', 'murdered', 'murderer', 'murderhunt', 'murphi', 'murray', 'muse', 'museum', 'music', 'musicband', 'musician', 'musket', 'muslim', 'mut', 'mutant', 'mutat', 'mutil', 'mutini', 'mutual', 'mysteri', 'mystery', 'mystic', 'myth', 'mythic', 'mytholog', 'naiv', 'nam', 'nanni', 'naomiwatt', 'narcot', 'narnia', 'narrat', 'nasa', 'nasti', 'natalieportman', 'nathan', 'nation', 'nativ', 'nativeamerican', 'natur', 'naturaldisast', 'nature', 'navi', 'navig', 'navys', 'nazi', 'nazigermani', 'nba', 'neal', 'near', 'nearbi', 'nearli', 'necessari', 'need', 'nefari', 'negoti', 'neighbor', 'neighborhood', 'neil', 'nelson', 'nemesi', 'nemesis', 'neo', 'nephew', 'nerd', 'nerdi', 'netherland', 'network', 'nevada', 'nevecampbel', 'new', 'newborn', 'newcom', 'newfound', 'newident', 'newjersey', 'newli', 'newlov', 'newlyw', 'newmexico', 'news', 'newspap', 'newyear', 'newyork', 'newyorkc', 'nialong', 'nice', 'nick', 'nicknolt', 'nicol', 'nicolascag', 'nicolekidman', 'niec', 'niece', 'night', 'nightclub', 'nightlif', 'nightmar', 'nightmare', 'nightstand', 'ninja', 'noah', 'nobl', 'nobodi', 'noir', 'nomad', 'non', 'normal', 'norman', 'north', 'northern', 'nose', 'note', 'noth', 'notic', 'notori', 'novel', 'novelist', 'nowher', 'nuclear', 'nuclearmissil', 'nuditi', 'number', 'numberintitl', 'numer', 'nun', 'nurs', 'nypd', 'object', 'observ', 'obsess', 'obsession', 'obstacl', 'obtain', 'occasion', 'occult', 'occup', 'occupi', 'occur', 'ocean', 'odd', 'oddbal', 'odds', 'odyssey', 'offer', 'offic', 'office', 'officer', 'offici', 'ogr', 'ohio', 'oil', 'old', 'older', 'oliv', 'olivia', 'oliviawild', 'olymp', 'olympicgam', 'omar', 'onc', 'onli', 'onlin', 'ontherun', 'open', 'oper', 'opera', 'operation', 'opportun', 'oppos', 'opposit', 'oppositesattract', 'oppress', 'orc', 'orchestr', 'order', 'ordinari', 'oregon', 'organ', 'organization', 'organizedcrim', 'origin', 'orlandobloom', 'orlean', 'orphan', 'orphanag', 'orphanage', 'oscar', 'oscaraward', 'oscarisaac', 'otherworldli', 'outback', 'outbreak', 'outcast', 'outer', 'outerspac', 'outlaw', 'outrag', 'outsid', 'outwit', 'overcom', 'overdos', 'overrun', 'overthrow', 'overwhelm', 'owenwilson', 'owl', 'owner', 'oxford', 'oz', 'pacif', 'pack', 'packag', 'pact', 'pageant', 'paid', 'pain', 'paint', 'painter', 'pair', 'pal', 'palac', 'pam', 'pan', 'pandora', 'panic', 'panther', 'paper', 'parallel', 'parallelworld', 'paranoia', 'paranoid', 'paranorm', 'parent', 'parents', 'parentskidsrelationship', 'pari', 'paris', 'parisian', 'park', 'parker', 'parodi', 'parol', 'parrish', 'parti', 'particip', 'particularli', 'parties', 'partner', 'partners', 'partnership', 'party', 'pass', 'passeng', 'passion', 'past', 'pastor', 'path', 'patient', 'patriarch', 'patriciaarquett', 'patrick', 'patrickstewart', 'patrickwilson', 'patriot', 'patrol', 'paul', 'paulapatton', 'paulbettani', 'paulgiamatti', 'paulnewman', 'paulrudd', 'paulwalk', 'pawn', 'pay', 'peac', 'peace', 'pearl', 'peasant', 'pedophilia', 'penguin', 'penn', 'pennsylvania', 'penélopecruz', 'peopl', 'people', 'perfect', 'perform', 'perhap', 'peril', 'period', 'perioddrama', 'perry', 'persian', 'person', 'persuad', 'peru', 'pet', 'pete', 'peter', 'petersarsgaard', 'petti', 'phantom', 'phenomenon', 'phil', 'philadelphia', 'philipp', 'philipseymourhoffman', 'philosoph', 'philosophi', 'phone', 'photo', 'photograph', 'photographi', 'physic', 'pianist', 'piano', 'picard', 'pick', 'pictur', 'picture', 'piec', 'piercebrosnan', 'pig', 'pilot', 'pimp', 'pink', 'pinocchio', 'piperperabo', 'pirat', 'pistol', 'pit', 'pitch', 'place', 'plagu', 'plan', 'plane', 'planet', 'plannedmurd', 'plans', 'plant', 'plantat', 'play', 'playboy', 'player', 'playground', 'playwright', 'pleasur', 'pledg', 'plenti', 'plot', 'plung', 'po', 'poet', 'poetri', 'point', 'poison', 'poker', 'polar', 'polic', 'police', 'policebrut', 'policechas', 'policeman', 'policeoffic', 'policeoper', 'polit', 'politician', 'polli', 'pool', 'poor', 'pop', 'pope', 'popstar', 'popul', 'popular', 'population', 'porn', 'pornographi', 'port', 'portal', 'porter', 'portrait', 'portray', 'pose', 'posit', 'possess', 'possibl', 'post', 'posttraumaticstressdisord', 'pot', 'potenti', 'potter', 'pound', 'poverti', 'pow', 'power', 'poweroutag', 'powers', 'practic', 'prank', 'prayer', 'pre', 'preacher', 'preciou', 'predat', 'predict', 'prefer', 'pregnanc', 'pregnancyandbirth', 'pregnant', 'prehistor', 'prejudic', 'premonit', 'prepar', 'prequel', 'presenc', 'present', 'presid', 'president', 'presidenti', 'presidentialelect', 'press', 'pressur', 'prestigi', 'presum', 'pretend', 'pretti', 'prevent', 'previou', 'prey', 'price', 'priceless', 'pride', 'priest', 'prime', 'princ', 'prince', 'princess', 'princip', 'principl', 'prison', 'prisonersofwar', 'privat', 'privatedetect', 'privileg', 'prize', 'pro', 'problem', 'problems', 'process', 'prodigi', 'produc', 'product', 'production', 'profession', 'professor', 'profil', 'profit', 'program', 'progress', 'project', 'prom', 'promin', 'promis', 'promot', 'prompt', 'promptli', 'proof', 'properti', 'propheci', 'propos', 'prosecut', 'prospect', 'prostitut', 'protect', 'protest', 'prove', 'provid', 'psychiatr', 'psychiatrist', 'psychic', 'psycholog', 'psychologist', 'psychopath', 'psychot', 'pub', 'puberti', 'public', 'publicist', 'publish', 'pull', 'punish', 'punk', 'puppet', 'puppi', 'purchas', 'pure', 'purpos', 'pursu', 'pursuit', 'push', 'quarantin', 'quarterback', 'queen', 'queenlatifah', 'quest', 'question', 'quick', 'quickli', 'quiet', 'quirki', 'quit', 'rabbit', 'race', 'raceagainsttim', 'racehors', 'racer', 'rachaelleighcook', 'rachel', 'rachelmcadam', 'rachelweisz', 'racial', 'racism', 'radiat', 'radic', 'radio', 'rag', 'rage', 'rageandh', 'ragtag', 'raid', 'railroad', 'rain', 'rais', 'ralli', 'ralph', 'ralphfienn', 'rambo', 'rampag', 'ran', 'ranch', 'rancher', 'randal', 'ranger', 'rank', 'ransom', 'rape', 'rapidli', 'rapmus', 'rapper', 'rare', 'rat', 'rate', 'ravag', 'raw', 'ray', 'rayliotta', 'raymond', 'raywinston', 'reach', 'reaction', 'read', 'readi', 'real', 'realis', 'realiti', 'reality', 'realiz', 'realli', 'realm', 'reaper', 'reason', 'rebecca', 'rebeccahal', 'rebel', 'rebelli', 'rebellion', 'reboot', 'rebuild', 'receiv', 'recent', 'reckless', 'reclaim', 'reclus', 'reconcil', 'reconnect', 'record', 'recount', 'recov', 'recreat', 'recruit', 'red', 'redempt', 'redemption', 'rediscov', 'redneck', 'reel', 'reesewitherspoon', 'reflect', 'refug', 'refus', 'regain', 'regard', 'regim', 'regret', 'regular', 'reign', 'reilli', 'reject', 'rekindl', 'rel', 'relat', 'relationship', 'relationshipproblem', 'relationships', 'releas', 'relentless', 'reli', 'religi', 'religion', 'religionandsupernatur', 'reloc', 'reluct', 'reluctantli', 'remain', 'remak', 'remark', 'rememb', 'remind', 'reminisc', 'remot', 'renegad', 'renerusso', 'renown', 'rent', 'renéezellweg', 'repair', 'repay', 'replac', 'report', 'reporter', 'repres', 'repress', 'reput', 'request', 'requir', 'rescu', 'rescue', 'research', 'resid', 'resist', 'resistance', 'resolv', 'resort', 'resourc', 'resources', 'respect', 'respond', 'respons', 'rest', 'restaur', 'restaurant', 'restor', 'result', 'results', 'resurfac', 'resurrect', 'retel', 'retir', 'retreat', 'retriev', 'return', 'reunion', 'reunit', 'reveal', 'revealed', 'revel', 'reveng', 'revenge', 'reverend', 'reviv', 'revolut', 'revolutionari', 'revolv', 'reward', 'rich', 'richard', 'richarddreyfuss', 'richardger', 'rick', 'ricki', 'rid', 'riddl', 'ride', 'rider', 'ridicul', 'rifl', 'rig', 'right', 'rightandjustic', 'riley', 'ring', 'riot', 'rip', 'ripley', 'rise', 'risk', 'ritual', 'rival', 'rivalri', 'river', 'road', 'roadmovi', 'roadtrip', 'roam', 'roar', 'rob', 'robber', 'robberi', 'robbery', 'robert', 'robertcarlyl', 'robertdeniro', 'robertdowneyjr', 'robertduval', 'robertenglund', 'robertpattinson', 'robertredford', 'robin', 'robinson', 'robinwilliam', 'robinwright', 'robot', 'rock', 'rockandrol', 'rocket', 'rocki', 'rockstar', 'roger', 'rogermoor', 'rogu', 'role', 'roll', 'roller', 'roman', 'romanc', 'romance', 'romant', 'romanticcomedi', 'rome', 'romeo', 'ron', 'ronni', 'roof', 'rooftop', 'rooki', 'room', 'roommat', 'root', 'rosamundpik', 'rosariodawson', 'rose', 'rosebyrn', 'ross', 'rough', 'round', 'routin', 'row', 'roy', 'royal', 'royalti', 'rubi', 'rugbi', 'rugrat', 'ruin', 'rule', 'ruler', 'rules', 'rumor', 'run', 'runaway', 'runner', 'rupertgrint', 'rural', 'ruralset', 'rush', 'russel', 'russell', 'russellcrow', 'russia', 'russian', 'rutgerhau', 'ruth', 'ruthless', 'ryan', 'ryangosl', 'ryanphillipp', 'ryanreynold', 'sabotag', 'sachabaroncohen', 'sacr', 'sacrific', 'sad', 'sadism', 'sadist', 'safe', 'safeti', 'safety', 'saga', 'said', 'sail', 'sailor', 'saint', 'sale', 'salesman', 'salli', 'salmahayek', 'sam', 'samantha', 'samanthamorton', 'samneil', 'samrockwel', 'samuel', 'samuell', 'samurai', 'san', 'sand', 'sandi', 'sandrabullock', 'sanfrancisco', 'santa', 'santaclau', 'sara', 'sarah', 'sarahjessicapark', 'sarahmichellegellar', 'sarapaxton', 'satan', 'satellit', 'satir', 'satisfi', 'savag', 'save', 'savingtheworld', 'saw', 'say', 'sbook', 'scam', 'scandal', 'scar', 'scare', 'scari', 'scarlettjohansson', 'scene', 'schedul', 'scheme', 'schizophrenia', 'scholarship', 'school', 'schoolteach', 'sci', 'scienc', 'sciencefict', 'scientif', 'scientist', 'score', 'scotland', 'scott', 'scottglenn', 'scottish', 'scout', 'scrambl', 'scream', 'screen', 'screenplay', 'screenwrit', 'script', 'scubadiv', 'sdailylif', 'sea', 'seal', 'sean', 'seanbean', 'seanconneri', 'seannwilliamscott', 'seanpenn', 'search', 'seas', 'seasid', 'season', 'seattl', 'sebastian', 'seclud', 'second', 'secret', 'secretag', 'secretari', 'secretident', 'secretintelligenceservic', 'secretli', 'secretlov', 'secretmiss', 'secretorgan', 'secrets', 'secretservic', 'secretsocieti', 'section', 'secur', 'securityguard', 'seduc', 'seduct', 'seek', 'seemingli', 'seen', 'seiz', 'sel', 'self', 'selfsacrific', 'sell', 'selmablair', 'semi', 'senat', 'send', 'senior', 'sens', 'sensat', 'sensit', 'sent', 'sentenc', 'seo', 'separ', 'sequel', 'sergeant', 'seri', 'serial', 'serialkil', 'series', 'seriesofmurd', 'seriou', 'seriously', 'serv', 'servant', 'servic', 'service', 'session', 'set', 'seth', 'sethgreen', 'sethrogen', 'settl', 'settler', 'sev', 'seven', 'sever', 'sewer', 'sex', 'sexaddict', 'sexi', 'sexual', 'sexualabus', 'sexualobsess', 'shadi', 'shadow', 'shadowi', 'shake', 'shaken', 'shakespear', 'shakespeare', 'shane', 'shanghai', 'shannynsossamon', 'shape', 'share', 'shark', 'sharkattack', 'sharonston', 'sharp', 'shatter', 'shaw', 'shelter', 'shepherd', 'sheriff', 'shi', 'shialabeouf', 'shield', 'shift', 'ship', 'shipwreck', 'shock', 'shoe', 'shoot', 'shootout', 'shop', 'short', 'shot', 'shotgun', 'showdown', 'shower', 'shredder', 'shrek', 'shut', 'shuttl', 'shyness', 'sibl', 'sick', 'sid', 'sidekick', 'sidney', 'sight', 'sign', 'signal', 'sigourneyweav', 'silenc', 'silent', 'silentfilm', 'silver', 'similar', 'simon', 'simonpegg', 'simpl', 'simpli', 'simpson', 'simultan', 'sin', 'sinc', 'sing', 'singer', 'singl', 'single', 'singlefath', 'singlemoth', 'singlepar', 'sinist', 'sir', 'sister', 'sisters', 'sistersisterrelationship', 'sit', 'site', 'sittingonatoilet', 'situat', 'situation', 'size', 'skateboard', 'skeleton', 'skeptic', 'ski', 'skill', 'skull', 'sky', 'skyscrap', 'slacker', 'slapstick', 'slasher', 'slaughter', 'slave', 'slaveri', 'slavery', 'sleazi', 'sleep', 'sleepi', 'sleepwalk', 'slif', 'slip', 'slowli', 'slum', 'small', 'smalltown', 'smart', 'smash', 'smile', 'smith', 'smitten', 'smoke', 'smuggl', 'smuggler', 'smurf', 'snack', 'snake', 'snatch', 'sneak', 'sniper', 'snow', 'snowstorm', 'snowwhit', 'soccer', 'social', 'socialit', 'socialoutcast', 'societi', 'society', 'sociopath', 'sofia', 'solar', 'sold', 'soldi', 'soldier', 'soldiers', 'sole', 'solitari', 'solomon', 'solv', 'somebodi', 'someon', 'someth', 'sometim', 'somewhat', 'somewher', 'son', 'song', 'songs', 'songwrit', 'soon', 'sophi', 'sophie', 'sorcer', 'sorcerer', 'sorceri', 'soror', 'sort', 'sought', 'soul', 'soulmat', 'sound', 'soundtrack', 'sour', 'sourc', 'source', 'south', 'southafrica', 'southern', 'southernusa', 'soviet', 'sovietunion', 'space', 'spacebattl', 'spacecoloni', 'spacecraft', 'spacemarin', 'spacemiss', 'spaceopera', 'spaceship', 'spacetravel', 'spain', 'span', 'spanish', 'spark', 'sparrow', 'speak', 'speci', 'special', 'specialist', 'spectacl', 'spectacular', 'speech', 'speed', 'spell', 'spencer', 'spend', 'spent', 'spi', 'spider', 'spike', 'spin', 'spiral', 'spirit', 'spiritu', 'spite', 'spoil', 'spoof', 'sport', 'sportsteam', 'spot', 'spotlight', 'spread', 'spring', 'squad', 'squar', 'st', 'stab', 'stadium', 'staff', 'stage', 'stak', 'stake', 'stalk', 'stalker', 'stan', 'stand', 'stanley', 'star', 'starcrossedlov', 'stardom', 'starfleet', 'stark', 'start', 'state', 'states', 'station', 'statu', 'stay', 'steal', 'steampunk', 'steel', 'stella', 'step', 'stepfath', 'stephen', 'stephendorff', 'stephenrea', 'stepmoth', 'steve', 'stevebuscemi', 'stevecarel', 'stevemartin', 'steven', 'stevenseag', 'stevezahn', 'stewardess', 'stewart', 'stick', 'stir', 'stock', 'stockbrok', 'stolen', 'stone', 'stoneag', 'stoner', 'stop', 'stopmot', 'store', 'stori', 'stories', 'storm', 'story', 'straight', 'strain', 'strand', 'strang', 'stranger', 'strateg', 'strategi', 'stray', 'street', 'streetgang', 'streets', 'strength', 'stress', 'stretch', 'strict', 'strike', 'strikes', 'strip', 'stripclub', 'stripper', 'strive', 'strong', 'struggl', 'stu', 'stuart', 'stuck', 'student', 'students', 'studi', 'studio', 'stumbl', 'stun', 'stunt', 'stupid', 'style', 'su', 'sub', 'subject', 'submachinegun', 'submarin', 'subsequ', 'suburb', 'suburban', 'suburbia', 'subway', 'succeed', 'success', 'successful', 'successor', 'sudden', 'suddenli', 'sue', 'suffer', 'suggest', 'suicid', 'suicide', 'suicideattempt', 'suit', 'suitor', 'sullivan', 'summer', 'summon', 'sun', 'sunglass', 'super', 'supercomput', 'superhero', 'superhuman', 'superhumanstrength', 'superman', 'supermarket', 'supernatur', 'supernaturalpow', 'superpow', 'superstar', 'supervillain', 'supervisor', 'suppli', 'support', 'suppos', 'suppress', 'suppressedpast', 'sure', 'surf', 'surfac', 'surface', 'surfer', 'surgeon', 'surgeri', 'surpris', 'surreal', 'surround', 'surveil', 'surviv', 'survival', 'survive', 'survivor', 'survivors', 'susan', 'susansarandon', 'suspect', 'suspens', 'suspici', 'suspicion', 'swallow', 'swap', 'sweep', 'sweet', 'sweetheart', 'swept', 'swimmingpool', 'swing', 'switch', 'sword', 'swordandsorceri', 'swordfight', 'swordplay', 'sylvesterstallon', 'symbol', 'tabl', 'tabloid', 'tactic', 'tag', 'tail', 'tak', 'taken', 'tale', 'talent', 'talk', 'talkinganim', 'tall', 'tank', 'tap', 'tape', 'target', 'task', 'tast', 'tattoo', 'taxi', 'taxidriv', 'taylor', 'teach', 'teacher', 'team', 'tear', 'tech', 'technolog', 'technology', 'ted', 'teen', 'teenag', 'teenagecrush', 'teenagegirl', 'teenager', 'teenagers', 'teenagesexu', 'teencomedi', 'teenmovi', 'teens', 'telekinesi', 'telepathi', 'teleport', 'televis', 'tell', 'tens', 'tension', 'term', 'termin', 'terminalil', 'terrencehoward', 'terri', 'terribl', 'terrier', 'terrifi', 'territori', 'terror', 'terrorist', 'tess', 'test', 'tested', 'texa', 'texas', 'th', 'thailand', 'thandienewton', 'thank', 'thanksgiv', 'theater', 'theatremilieu', 'theft', 'theme', 'themselv', 'theori', 'therapist', 'thi', 'thief', 'thiev', 'thing', 'things', 'think', 'thirst', 'thirti', 'thoma', 'thomashadenchurch', 'thomasjan', 'thompson', 'thought', 'thousand', 'threat', 'threaten', 'thrill', 'thriller', 'throne', 'throw', 'thrown', 'thrust', 'thu', 'thug', 'thwart', 'tibet', 'tick', 'ticket', 'tie', 'tiger', 'tildaswinton', 'tim', 'timallen', 'time', 'timeless', 'times', 'timetravel', 'timothyolyph', 'timrobbin', 'timroth', 'tini', 'tire', 'titan', 'titl', 'tobeymaguir', 'today', 'todd', 'togeth', 'tokyo', 'told', 'tom', 'tomcruis', 'tomhank', 'tomhardi', 'tommi', 'tommyleejon', 'tomwilkinson', 'toni', 'tonicollett', 'took', 'tool', 'tooth', 'torment', 'torn', 'tornado', 'toronto', 'tortur', 'total', 'totalitarian', 'touch', 'tough', 'toughest', 'tour', 'tourist', 'tournament', 'tower', 'town', 'toxic', 'toy', 'toycomestolif', 'trace', 'track', 'trade', 'trader', 'tradit', 'traffic', 'traffick', 'tragedi', 'tragedy', 'tragic', 'trail', 'train', 'trainer', 'traitor', 'transfer', 'transform', 'transit', 'transplant', 'transport', 'trap', 'trauma', 'traumat', 'travel', 'treacher', 'treasur', 'treasurehunt', 'treat', 'treatment', 'tree', 'trek', 'tri', 'trial', 'triangl', 'triangle', 'tribe', 'trick', 'trigger', 'trio', 'trip', 'triumph', 'troop', 'tropic', 'troubl', 'trouble', 'troy', 'truck', 'trucker', 'true', 'truli', 'trust', 'truth', 'tsunami', 'tunnel', 'turbul', 'turmoil', 'turn', 'turned', 'turner', 'turtl', 'tv', 'tvmovi', 'tvshow', 'tvstation', 'twenti', 'twin', 'twinbroth', 'twist', 'tycoon', 'tyler', 'tylerperri', 'type', 'typic', 'tyrann', 'téaleoni', 'ufo', 'ugli', 'ultim', 'ultra', 'umathurman', 'unabl', 'unawar', 'unbeknownst', 'uncl', 'uncle', 'uncomfort', 'unconvent', 'uncov', 'undead', 'undercov', 'undercoverag', 'undercovercop', 'underdog', 'undergo', 'underground', 'understand', 'undertak', 'underwat', 'underworld', 'unemploy', 'unexpect', 'unexpectedli', 'unexplain', 'unfaith', 'unfold', 'unforeseen', 'unforgett', 'unfortun', 'unfortunately', 'unhappi', 'unimagin', 'union', 'uniqu', 'unit', 'univers', 'universe', 'university', 'unknown', 'unleash', 'unless', 'unlik', 'unlikelyfriendship', 'unlock', 'unorthodox', 'unpreced', 'unpredict', 'unravel', 'unrequitedlov', 'unsimulatedsex', 'unsoci', 'unstabl', 'unstopp', 'unsuspect', 'unusu', 'unveil', 'unwit', 'unwittingli', 'upcom', 'upper', 'upperclass', 'upris', 'upset', 'upsid', 'uptight', 'urban', 'urg', 'usa', 'usapresid', 'use', 'usual', 'utah', 'vacat', 'vacation', 'val', 'valentine', 'valkilm', 'valley', 'valu', 'valuabl', 'vampir', 'vampire', 'vampires', 'van', 'vandal', 'vanessa', 'vanessahudgen', 'vanish', 'varieti', 'variou', 'vast', 'vatican', 'vault', 'vega', 'vegas', 'vegetarian', 'veng', 'vengeanc', 'vengeance', 'venic', 'ventur', 'verafarmiga', 'verg', 'veri', 'version', 'verylittledialogu', 'vet', 'veteran', 'vice', 'viciou', 'victim', 'victims', 'victor', 'victori', 'victoria', 'victorian', 'victory', 'video', 'videogam', 'vienna', 'vietnam', 'vietnamveteran', 'vietnamwar', 'view', 'viewer', 'viggomortensen', 'vigilant', 'vike', 'villag', 'village', 'villain', 'vincent', 'vincevaughn', 'vindiesel', 'vineyard', 'violenc', 'violence', 'violent', 'virgin', 'virginia', 'virginiamadsen', 'virginity', 'virtual', 'virtualr', 'viru', 'vision', 'visit', 'visitor', 'visual', 'vlad', 'voic', 'voice', 'volatil', 'volcano', 'volunt', 'vomit', 'von', 'voodoo', 'vorort', 'vow', 'voyag', 'voyeur', 'wa', 'wacki', 'wade', 'wage', 'wager', 'wait', 'waiter', 'waitress', 'wake', 'walk', 'walker', 'wall', 'wallet', 'wallstreet', 'walt', 'walter', 'wander', 'wang', 'want', 'war', 'warcrim', 'ward', 'warden', 'warehous', 'warhead', 'warlock', 'warlord', 'warm', 'warn', 'warondrug', 'warren', 'warrior', 'wars', 'warship', 'warveteran', 'wash', 'washington', 'washingtond', 'wasn', 'wast', 'wasteland', 'watch', 'water', 'wave', 'way', 'ways', 'weak', 'wealth', 'wealthi', 'weapon', 'weapons', 'wear', 'weather', 'web', 'wed', 'wedding', 'week', 'weekend', 'weird', 'welcom', 'went', 'werewolf', 'wesbentley', 'wesley', 'wesleysnip', 'west', 'western', 'whale', 'whatev', 'wheelchair', 'whi', 'whip', 'whisk', 'white', 'whitehous', 'whoopigoldberg', 'wick', 'widow', 'wield', 'wif', 'wife', 'wifehusbandrelationship', 'wild', 'wilder', 'wilderness', 'wildli', 'willemdafo', 'willferrel', 'willi', 'william', 'williamh', 'williamhurt', 'williamshatn', 'willpatton', 'willsmith', 'wilson', 'win', 'wind', 'window', 'wine', 'wing', 'winner', 'winonaryd', 'winter', 'wipe', 'wise', 'wish', 'wit', 'witch', 'witchhunt', 'wizard', 'wolf', 'woman', 'womandirector', 'womanrel', 'women', 'won', 'wonder', 'woo', 'wood', 'woodi', 'woods', 'woodyallen', 'woodyharrelson', 'word', 'wordsworth', 'work', 'workahol', 'worker', 'workers', 'working', 'world', 'worlds', 'worldwari', 'worldwarii', 'worldwid', 'worri', 'wors', 'worse', 'worship', 'worst', 'worth', 'wound', 'wreak', 'wrestl', 'wrestler', 'wretch', 'wright', 'write', 'writer', 'written', 'wrong', 'wrote', 'wwii', 'wyom', 'xenomorph', 'xenophobia', 'yacht', 'yakuza', 'yard', 'year', 'yearn', 'years', 'yellow', 'yoga', 'york', 'yorker', 'young', 'youngadult', 'youngboy', 'younger', 'youngest', 'youngster', 'youth', 'yuppi', 'zacefron', 'zachgalifianaki', 'zealand', 'zebra', 'zeu', 'zhangziyi', 'zion', 'zoe', 'zoesaldana', 'zombi', 'zombieapocalyps', 'zombies', 'zone', 'zoo', 'zooeydeschanel']\n"
     ]
    }
   ],
   "source": [
    "features = cv.get_feature_names_out()\n",
    "print(list(features))\n"
   ]
  },
  {
   "cell_type": "code",
   "execution_count": 78,
   "id": "73ca9490-25f3-447b-b69e-f44aafffaeaf",
   "metadata": {},
   "outputs": [
    {
     "data": {
      "text/plain": [
       "'love'"
      ]
     },
     "execution_count": 78,
     "metadata": {},
     "output_type": "execute_result"
    }
   ],
   "source": [
    "ps.stem('loving')"
   ]
  },
  {
   "cell_type": "code",
   "execution_count": 79,
   "id": "7e72d724-221a-4a37-9608-ba5921451d49",
   "metadata": {},
   "outputs": [
    {
     "data": {
      "text/plain": [
       "'in the 22nd century, a parapleg marin is dispatch to the moon pandora on a uniqu mission, but becom torn between follow order and protect an alien civilization.'"
      ]
     },
     "execution_count": 79,
     "metadata": {},
     "output_type": "execute_result"
    }
   ],
   "source": [
    "stem('In the 22nd century, a paraplegic Marine is dispatched to the moon Pandora on a unique mission, but becomes torn between following orders and protecting an alien civilization.'\n",
    ") "
   ]
  },
  {
   "cell_type": "code",
   "execution_count": 80,
   "id": "2b6831ca-93af-44f9-9af3-e6b09181ce20",
   "metadata": {},
   "outputs": [],
   "source": [
    "# Main function"
   ]
  },
  {
   "cell_type": "code",
   "execution_count": 81,
   "id": "8fba1d17-b5e7-4ea7-9f50-961396c29119",
   "metadata": {},
   "outputs": [],
   "source": [
    " from sklearn.metrics.pairwise import cosine_similarity\n"
   ]
  },
  {
   "cell_type": "code",
   "execution_count": 82,
   "id": "74f14022-fbd6-4d92-a280-bcfdd13a1a5f",
   "metadata": {},
   "outputs": [],
   "source": [
    "similarity = cosine_similarity(vectors)"
   ]
  },
  {
   "cell_type": "code",
   "execution_count": 83,
   "id": "1b4f2809-c7b3-414c-b727-776c2ee9bce0",
   "metadata": {},
   "outputs": [
    {
     "data": {
      "text/plain": [
       "array([[1.        , 0.08471737, 0.08740748, ..., 0.04499213, 0.        ,\n",
       "        0.        ],\n",
       "       [0.08471737, 1.        , 0.06253054, ..., 0.02414023, 0.        ,\n",
       "        0.02654659],\n",
       "       [0.08740748, 0.06253054, 1.        , ..., 0.02490677, 0.        ,\n",
       "        0.        ],\n",
       "       ...,\n",
       "       [0.04499213, 0.02414023, 0.02490677, ..., 1.        , 0.03962144,\n",
       "        0.04229549],\n",
       "       [0.        , 0.        , 0.        , ..., 0.03962144, 1.        ,\n",
       "        0.08714204],\n",
       "       [0.        , 0.02654659, 0.        , ..., 0.04229549, 0.08714204,\n",
       "        1.        ]])"
      ]
     },
     "execution_count": 83,
     "metadata": {},
     "output_type": "execute_result"
    }
   ],
   "source": [
    "similarity"
   ]
  },
  {
   "cell_type": "code",
   "execution_count": 84,
   "id": "6e69b2f9-f7c8-43b2-b8c2-6aec4edf7a22",
   "metadata": {},
   "outputs": [
    {
     "data": {
      "text/plain": [
       "[(1214, np.float64(0.2847987184339659)),\n",
       " (2405, np.float64(0.26600795837367097)),\n",
       " (3728, np.float64(0.2605130246476754)),\n",
       " (507, np.float64(0.257841025556124)),\n",
       " (539, np.float64(0.25038669783359574))]"
      ]
     },
     "execution_count": 84,
     "metadata": {},
     "output_type": "execute_result"
    }
   ],
   "source": [
    "sorted(list(enumerate(similarity[0])), reverse = True, key=lambda x:x[1])[1:6]"
   ]
  },
  {
   "cell_type": "code",
   "execution_count": 85,
   "id": "7a1071f0-ef5e-472e-9e0d-3a06d50cb0a7",
   "metadata": {},
   "outputs": [],
   "source": [
    "#If i ask for a movie, give me 5 recomendations"
   ]
  },
  {
   "cell_type": "code",
   "execution_count": 86,
   "id": "2409e075-4557-4703-8a69-1deaac2395ff",
   "metadata": {},
   "outputs": [],
   "source": [
    "def recommend(movie):\n",
    "    movie_index = new_df[new_df['title'] == movie].index[0]\n",
    "    distances = similarity[movie_index]\n",
    "    movies_list = sorted(list(enumerate(distances)), reverse = True, key=lambda x:x[1])[1:6]\n",
    "\n",
    "    for i in movies_list:\n",
    "        print(new_df.iloc[i[0]].title)\n",
    "        "
   ]
  },
  {
   "cell_type": "code",
   "execution_count": 87,
   "id": "2815f870-3c72-407b-abe8-318d3f120066",
   "metadata": {},
   "outputs": [
    {
     "name": "stdout",
     "output_type": "stream",
     "text": [
      "Aliens vs Predator: Requiem\n",
      "Aliens\n",
      "Falcon Rising\n",
      "Independence Day\n",
      "Titan A.E.\n"
     ]
    }
   ],
   "source": [
    "recommend('Avatar')"
   ]
  },
  {
   "cell_type": "code",
   "execution_count": 88,
   "id": "a412174e-bfdf-4806-a780-0aaf396122c3",
   "metadata": {},
   "outputs": [],
   "source": [
    "#new_df[new_df['ttile'] == 'Batman Begins'].index[0]"
   ]
  },
  {
   "cell_type": "code",
   "execution_count": 89,
   "id": "47e7968a-78d9-4309-9978-0bf0b5ef8e01",
   "metadata": {},
   "outputs": [
    {
     "data": {
      "text/plain": [
       "'Autumn in New York'"
      ]
     },
     "execution_count": 89,
     "metadata": {},
     "output_type": "execute_result"
    }
   ],
   "source": [
    "new_df.iloc[1216].title\n"
   ]
  },
  {
   "cell_type": "code",
   "execution_count": 90,
   "id": "9341bc9a-2ba9-4f28-a405-51149801e201",
   "metadata": {},
   "outputs": [
    {
     "name": "stdout",
     "output_type": "stream",
     "text": [
      "The Dark Knight\n",
      "Batman\n",
      "Batman\n",
      "10th & Wolf\n",
      "The Dark Knight Rises\n"
     ]
    }
   ],
   "source": [
    "recommend('Batman Begins')"
   ]
  },
  {
   "cell_type": "code",
   "execution_count": 91,
   "id": "d0faf697-fa9d-4d71-9866-664d29fb2206",
   "metadata": {},
   "outputs": [],
   "source": [
    "import pickle"
   ]
  },
  {
   "cell_type": "code",
   "execution_count": 93,
   "id": "8d6c364b-e1ff-4052-aab9-832686906d3a",
   "metadata": {},
   "outputs": [],
   "source": [
    "pickle.dump(new_df, open('movies.pkl','wb'))"
   ]
  },
  {
   "cell_type": "code",
   "execution_count": 94,
   "id": "216ac600-5ee4-40f1-be4b-858923426fc3",
   "metadata": {},
   "outputs": [
    {
     "data": {
      "text/html": [
       "<div>\n",
       "<style scoped>\n",
       "    .dataframe tbody tr th:only-of-type {\n",
       "        vertical-align: middle;\n",
       "    }\n",
       "\n",
       "    .dataframe tbody tr th {\n",
       "        vertical-align: top;\n",
       "    }\n",
       "\n",
       "    .dataframe thead th {\n",
       "        text-align: right;\n",
       "    }\n",
       "</style>\n",
       "<table border=\"1\" class=\"dataframe\">\n",
       "  <thead>\n",
       "    <tr style=\"text-align: right;\">\n",
       "      <th></th>\n",
       "      <th>movie_id</th>\n",
       "      <th>title</th>\n",
       "      <th>tags</th>\n",
       "    </tr>\n",
       "  </thead>\n",
       "  <tbody>\n",
       "    <tr>\n",
       "      <th>0</th>\n",
       "      <td>19995</td>\n",
       "      <td>Avatar</td>\n",
       "      <td>in the 22nd century, a parapleg marin is dispa...</td>\n",
       "    </tr>\n",
       "    <tr>\n",
       "      <th>1</th>\n",
       "      <td>285</td>\n",
       "      <td>Pirates of the Caribbean: At World's End</td>\n",
       "      <td>captain barbossa, long believ to be dead, ha c...</td>\n",
       "    </tr>\n",
       "    <tr>\n",
       "      <th>2</th>\n",
       "      <td>206647</td>\n",
       "      <td>Spectre</td>\n",
       "      <td>a cryptic messag from bond’ past send him on a...</td>\n",
       "    </tr>\n",
       "    <tr>\n",
       "      <th>3</th>\n",
       "      <td>49026</td>\n",
       "      <td>The Dark Knight Rises</td>\n",
       "      <td>follow the death of district attorney harvey d...</td>\n",
       "    </tr>\n",
       "    <tr>\n",
       "      <th>4</th>\n",
       "      <td>49529</td>\n",
       "      <td>John Carter</td>\n",
       "      <td>john carter is a war-weary, former militari ca...</td>\n",
       "    </tr>\n",
       "    <tr>\n",
       "      <th>...</th>\n",
       "      <td>...</td>\n",
       "      <td>...</td>\n",
       "      <td>...</td>\n",
       "    </tr>\n",
       "    <tr>\n",
       "      <th>4804</th>\n",
       "      <td>9367</td>\n",
       "      <td>El Mariachi</td>\n",
       "      <td>el mariachi just want to play hi guitar and ca...</td>\n",
       "    </tr>\n",
       "    <tr>\n",
       "      <th>4805</th>\n",
       "      <td>72766</td>\n",
       "      <td>Newlyweds</td>\n",
       "      <td>a newlyw couple' honeymoon is upend by the arr...</td>\n",
       "    </tr>\n",
       "    <tr>\n",
       "      <th>4806</th>\n",
       "      <td>231617</td>\n",
       "      <td>Signed, Sealed, Delivered</td>\n",
       "      <td>\"signed, sealed, delivered\" introduc a dedic q...</td>\n",
       "    </tr>\n",
       "    <tr>\n",
       "      <th>4807</th>\n",
       "      <td>126186</td>\n",
       "      <td>Shanghai Calling</td>\n",
       "      <td>when ambiti new york attorney sam is sent to s...</td>\n",
       "    </tr>\n",
       "    <tr>\n",
       "      <th>4808</th>\n",
       "      <td>25975</td>\n",
       "      <td>My Date with Drew</td>\n",
       "      <td>ever sinc the second grade when he first saw h...</td>\n",
       "    </tr>\n",
       "  </tbody>\n",
       "</table>\n",
       "<p>4806 rows × 3 columns</p>\n",
       "</div>"
      ],
      "text/plain": [
       "      movie_id                                     title  \\\n",
       "0        19995                                    Avatar   \n",
       "1          285  Pirates of the Caribbean: At World's End   \n",
       "2       206647                                   Spectre   \n",
       "3        49026                     The Dark Knight Rises   \n",
       "4        49529                               John Carter   \n",
       "...        ...                                       ...   \n",
       "4804      9367                               El Mariachi   \n",
       "4805     72766                                 Newlyweds   \n",
       "4806    231617                 Signed, Sealed, Delivered   \n",
       "4807    126186                          Shanghai Calling   \n",
       "4808     25975                         My Date with Drew   \n",
       "\n",
       "                                                   tags  \n",
       "0     in the 22nd century, a parapleg marin is dispa...  \n",
       "1     captain barbossa, long believ to be dead, ha c...  \n",
       "2     a cryptic messag from bond’ past send him on a...  \n",
       "3     follow the death of district attorney harvey d...  \n",
       "4     john carter is a war-weary, former militari ca...  \n",
       "...                                                 ...  \n",
       "4804  el mariachi just want to play hi guitar and ca...  \n",
       "4805  a newlyw couple' honeymoon is upend by the arr...  \n",
       "4806  \"signed, sealed, delivered\" introduc a dedic q...  \n",
       "4807  when ambiti new york attorney sam is sent to s...  \n",
       "4808  ever sinc the second grade when he first saw h...  \n",
       "\n",
       "[4806 rows x 3 columns]"
      ]
     },
     "execution_count": 94,
     "metadata": {},
     "output_type": "execute_result"
    }
   ],
   "source": [
    "new_df"
   ]
  },
  {
   "cell_type": "code",
   "execution_count": 95,
   "id": "c2aaa3df-8eb5-4d51-b7e4-d8f8ed201634",
   "metadata": {},
   "outputs": [
    {
     "data": {
      "text/plain": [
       "array(['Avatar', \"Pirates of the Caribbean: At World's End\", 'Spectre',\n",
       "       ..., 'Signed, Sealed, Delivered', 'Shanghai Calling',\n",
       "       'My Date with Drew'], dtype=object)"
      ]
     },
     "execution_count": 95,
     "metadata": {},
     "output_type": "execute_result"
    }
   ],
   "source": [
    "new_df['title'].values\n"
   ]
  },
  {
   "cell_type": "code",
   "execution_count": 96,
   "id": "518c4be2-d1ca-4ffa-b8a8-e0abb0014038",
   "metadata": {},
   "outputs": [],
   "source": [
    "pickle.dump(similarity,open('similarity.pkl','wb'))"
   ]
  },
  {
   "cell_type": "code",
   "execution_count": null,
   "id": "de37f25d-acea-4170-a167-23248bb52af4",
   "metadata": {},
   "outputs": [],
   "source": []
  }
 ],
 "metadata": {
  "kernelspec": {
   "display_name": "Python 3 (ipykernel)",
   "language": "python",
   "name": "python3"
  },
  "language_info": {
   "codemirror_mode": {
    "name": "ipython",
    "version": 3
   },
   "file_extension": ".py",
   "mimetype": "text/x-python",
   "name": "python",
   "nbconvert_exporter": "python",
   "pygments_lexer": "ipython3",
   "version": "3.13.5"
  }
 },
 "nbformat": 4,
 "nbformat_minor": 5
}
